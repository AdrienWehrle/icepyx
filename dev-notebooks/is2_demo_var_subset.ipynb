{
 "cells": [
  {
   "cell_type": "code",
   "execution_count": 1,
   "metadata": {},
   "outputs": [],
   "source": [
    "import numpy as np\n",
    "import xarray as xr\n",
    "import pandas as pd\n",
    "\n",
    "import h5py\n",
    "import os,json"
   ]
  },
  {
   "cell_type": "code",
   "execution_count": 2,
   "metadata": {},
   "outputs": [
    {
     "name": "stdout",
     "output_type": "stream",
     "text": [
      "/home/jovyan/icepyx\n"
     ]
    }
   ],
   "source": [
    "#change working directory\n",
    "%cd ../"
   ]
  },
  {
   "cell_type": "code",
   "execution_count": 3,
   "metadata": {},
   "outputs": [],
   "source": [
    "%load_ext autoreload\n",
    "%autoreload 2\n",
    "\n",
    "from icepyx import is2class as ipd"
   ]
  },
  {
   "cell_type": "markdown",
   "metadata": {},
   "source": [
    "### Choose a region for subsetting as well. Use the same region as in the core demo."
   ]
  },
  {
   "cell_type": "code",
   "execution_count": 4,
   "metadata": {},
   "outputs": [],
   "source": [
    "region_a = ipd.Icesat2Data('ATL09',[-55, 68, -48, 71],['2019-02-22','2019-02-28'], \\\n",
    "                           start_time='00:00:00', end_time='23:59:59', version='2')"
   ]
  },
  {
   "cell_type": "code",
   "execution_count": 4,
   "metadata": {},
   "outputs": [
    {
     "name": "stdout",
     "output_type": "stream",
     "text": [
      "Earthdata Login password: ········\n"
     ]
    }
   ],
   "source": [
    "session=region_a.earthdata_login('liuzheng','liuzheng@apl.uw.edu')"
   ]
  },
  {
   "cell_type": "code",
   "execution_count": 5,
   "metadata": {},
   "outputs": [
    {
     "name": "stdin",
     "output_type": "stream",
     "text": [
      "Earthdata Login password:  ········\n"
     ]
    }
   ],
   "source": [
    "session=region_a.earthdata_login('jessica.scheick','jessica.scheick@maine.edu')"
   ]
  },
  {
   "cell_type": "markdown",
   "metadata": {},
   "source": [
    "### Now, generate variable dictionary. \n",
    "Get the variable dictionary by parsing the dataset xml information from NSIDC, by calling ```show_custom_options(session)```. \n",
    "\n",
    "The data variables are stored in ```region_a._cust_options['variables']```. "
   ]
  },
  {
   "cell_type": "code",
   "execution_count": 6,
   "metadata": {
    "scrolled": true
   },
   "outputs": [
    {
     "name": "stdout",
     "output_type": "stream",
     "text": [
      "Subsetting options\n",
      "[{'id': 'ICESAT2',\n",
      "  'maxGransAsyncRequest': '2000',\n",
      "  'maxGransSyncRequest': '100',\n",
      "  'spatialSubsetting': 'true',\n",
      "  'spatialSubsettingShapefile': 'true',\n",
      "  'temporalSubsetting': 'true',\n",
      "  'type': 'both'}]\n",
      "Data File Formats (Reformatting Options)\n",
      "['TABULAR_ASCII', 'NetCDF4-CF', 'Shapefile', 'NetCDF-3']\n",
      "Reprojection Options\n",
      "[]\n",
      "Data File (Reformatting) Options Supporting Reprojection\n",
      "['TABULAR_ASCII', 'NetCDF4-CF', 'Shapefile', 'NetCDF-3', 'No reformatting']\n",
      "Data File (Reformatting) Options NOT Supporting Reprojection\n",
      "[]\n",
      "Data Variables (also Subsettable)\n",
      "['ds_surf_type',\n",
      " 'ancillary_data/atlas_sdp_gps_epoch',\n",
      " 'ancillary_data/control',\n",
      " 'ancillary_data/data_end_utc',\n",
      " 'ancillary_data/data_start_utc',\n",
      " 'ancillary_data/end_cycle',\n",
      " 'ancillary_data/end_delta_time',\n",
      " 'ancillary_data/end_geoseg',\n",
      " 'ancillary_data/end_gpssow',\n",
      " 'ancillary_data/end_gpsweek',\n",
      " 'ancillary_data/end_orbit',\n",
      " 'ancillary_data/end_region',\n",
      " 'ancillary_data/end_rgt',\n",
      " 'ancillary_data/granule_end_utc',\n",
      " 'ancillary_data/granule_start_utc',\n",
      " 'ancillary_data/qa_at_interval',\n",
      " 'ancillary_data/release',\n",
      " 'ancillary_data/start_cycle',\n",
      " 'ancillary_data/start_delta_time',\n",
      " 'ancillary_data/start_geoseg',\n",
      " 'ancillary_data/start_gpssow',\n",
      " 'ancillary_data/start_gpsweek',\n",
      " 'ancillary_data/start_orbit',\n",
      " 'ancillary_data/start_region',\n",
      " 'ancillary_data/start_rgt',\n",
      " 'ancillary_data/version',\n",
      " 'ancillary_data/atmosphere/aclr_use_atlas',\n",
      " 'ancillary_data/atmosphere/alpha',\n",
      " 'ancillary_data/atmosphere/a_m1',\n",
      " 'ancillary_data/atmosphere/a_m2',\n",
      " 'ancillary_data/atmosphere/asr_cal_factor',\n",
      " 'ancillary_data/atmosphere/atlas_bandpass_fw',\n",
      " 'ancillary_data/atmosphere/atlas_tele_fov',\n",
      " 'ancillary_data/atmosphere/backg_max_solar_elev',\n",
      " 'ancillary_data/atmosphere/backg_min_solar_elev',\n",
      " 'ancillary_data/atmosphere/backg_select',\n",
      " 'ancillary_data/atmosphere/bs_extinc_backs',\n",
      " 'ancillary_data/atmosphere/bs_lay_max_size',\n",
      " 'ancillary_data/atmosphere/bs_thresh_scale',\n",
      " 'ancillary_data/atmosphere/bs_top_scale',\n",
      " 'ancillary_data/atmosphere/bs_wind_thres',\n",
      " 'ancillary_data/atmosphere/cal_bot_ht',\n",
      " 'ancillary_data/atmosphere/cal_default',\n",
      " 'ancillary_data/atmosphere/cal_lat_bound',\n",
      " 'ancillary_data/atmosphere/cal_select',\n",
      " 'ancillary_data/atmosphere/cal_top_ht',\n",
      " 'ancillary_data/atmosphere/cloud_det_layer_thick',\n",
      " 'ancillary_data/atmosphere/cutoff1',\n",
      " 'ancillary_data/atmosphere/cutoff2',\n",
      " 'ancillary_data/atmosphere/detector_efficiency',\n",
      " 'ancillary_data/atmosphere/downsample1',\n",
      " 'ancillary_data/atmosphere/downsample2',\n",
      " 'ancillary_data/atmosphere/dtime_select',\n",
      " 'ancillary_data/atmosphere/grd_search_width',\n",
      " 'ancillary_data/atmosphere/layer_flag_cp1',\n",
      " 'ancillary_data/atmosphere/layer_flag_cp2',\n",
      " 'ancillary_data/atmosphere/layer_sep',\n",
      " 'ancillary_data/atmosphere/layer_thick',\n",
      " 'ancillary_data/atmosphere/max_layers',\n",
      " 'ancillary_data/atmosphere/neighborhood1',\n",
      " 'ancillary_data/atmosphere/neighborhood2',\n",
      " 'ancillary_data/atmosphere/normalization1',\n",
      " 'ancillary_data/atmosphere/normalization2',\n",
      " 'ancillary_data/atmosphere/num_passes',\n",
      " 'ancillary_data/atmosphere/phi_land',\n",
      " 'ancillary_data/atmosphere/phi_ocean',\n",
      " 'ancillary_data/atmosphere/planck_const',\n",
      " 'ancillary_data/atmosphere/proc_interval',\n",
      " 'ancillary_data/atmosphere/quantile1',\n",
      " 'ancillary_data/atmosphere/quantile2',\n",
      " 'ancillary_data/atmosphere/receiver_optical_throughput',\n",
      " 'ancillary_data/atmosphere/sigma1',\n",
      " 'ancillary_data/atmosphere/sigma2',\n",
      " 'ancillary_data/atmosphere/size_threshold1',\n",
      " 'ancillary_data/atmosphere/size_threshold2',\n",
      " 'ancillary_data/atmosphere/snow_age',\n",
      " 'ancillary_data/atmosphere/solar_flux',\n",
      " 'ancillary_data/atmosphere/surface_signal_source',\n",
      " 'ancillary_data/atmosphere/surf_min',\n",
      " 'ancillary_data/atmosphere/telescope_area',\n",
      " 'ancillary_data/atmosphere/thresh_bias1',\n",
      " 'ancillary_data/atmosphere/thresh_bias2',\n",
      " 'ancillary_data/atmosphere/threshold_segment_length1',\n",
      " 'ancillary_data/atmosphere/threshold_segment_length2',\n",
      " 'ancillary_data/atmosphere/thresh_sensitivity1',\n",
      " 'ancillary_data/atmosphere/thresh_sensitivity2',\n",
      " 'orbit_info/crossing_time',\n",
      " 'orbit_info/cycle_number',\n",
      " 'orbit_info/lan',\n",
      " 'orbit_info/orbit_number',\n",
      " 'orbit_info/rgt',\n",
      " 'orbit_info/sc_orient',\n",
      " 'orbit_info/sc_orient_time',\n",
      " 'profile_1/bckgrd_atlas/bckgrd_counts',\n",
      " 'profile_1/bckgrd_atlas/bckgrd_counts_reduced',\n",
      " 'profile_1/bckgrd_atlas/bckgrd_hist_top',\n",
      " 'profile_1/bckgrd_atlas/bckgrd_int_height',\n",
      " 'profile_1/bckgrd_atlas/bckgrd_int_height_reduced',\n",
      " 'profile_1/bckgrd_atlas/bckgrd_rate',\n",
      " 'profile_1/bckgrd_atlas/delta_time',\n",
      " 'profile_1/bckgrd_atlas/pce_mframe_cnt',\n",
      " 'profile_1/high_rate/aclr_true',\n",
      " 'profile_1/high_rate/apparent_surf_reflec',\n",
      " 'profile_1/high_rate/backg_c',\n",
      " 'profile_1/high_rate/backg_theoret',\n",
      " 'profile_1/high_rate/beam_azimuth',\n",
      " 'profile_1/high_rate/beam_elevation',\n",
      " 'profile_1/high_rate/bsnow_con',\n",
      " 'profile_1/high_rate/bsnow_dens',\n",
      " 'profile_1/high_rate/bsnow_h',\n",
      " 'profile_1/high_rate/bsnow_h_dens',\n",
      " 'profile_1/high_rate/bsnow_od',\n",
      " 'profile_1/high_rate/bsnow_psc',\n",
      " 'profile_1/high_rate/cab_prof',\n",
      " 'profile_1/high_rate/cloud_flag_asr',\n",
      " 'profile_1/high_rate/cloud_flag_atm',\n",
      " 'profile_1/high_rate/cloud_fold_flag',\n",
      " 'profile_1/high_rate/column_od_asr',\n",
      " 'profile_1/high_rate/column_od_asr_qf',\n",
      " 'profile_1/high_rate/delta_time',\n",
      " 'profile_1/high_rate/dem_flag',\n",
      " 'profile_1/high_rate/dem_h',\n",
      " 'profile_1/high_rate/density_pass1',\n",
      " 'profile_1/high_rate/density_pass2',\n",
      " 'profile_1/high_rate/ds_layers',\n",
      " 'profile_1/high_rate/ds_va_bin_h',\n",
      " 'profile_1/high_rate/dtime_fac1',\n",
      " 'profile_1/high_rate/dtime_fac2',\n",
      " 'profile_1/high_rate/latitude',\n",
      " 'profile_1/high_rate/layer_attr',\n",
      " 'profile_1/high_rate/layer_bot',\n",
      " 'profile_1/high_rate/layer_con',\n",
      " 'profile_1/high_rate/layer_conf_dens',\n",
      " 'profile_1/high_rate/layer_dens',\n",
      " 'profile_1/high_rate/layer_flag',\n",
      " 'profile_1/high_rate/layer_ib',\n",
      " 'profile_1/high_rate/layer_top',\n",
      " 'profile_1/high_rate/longitude',\n",
      " 'profile_1/high_rate/msw_flag',\n",
      " 'profile_1/high_rate/ocean_surf_reflec',\n",
      " 'profile_1/high_rate/pce_mframe_cnt',\n",
      " 'profile_1/high_rate/prof_dist_x',\n",
      " 'profile_1/high_rate/prof_dist_y',\n",
      " 'profile_1/high_rate/range_to_top',\n",
      " 'profile_1/high_rate/segment_id',\n",
      " 'profile_1/high_rate/sig_count_hi',\n",
      " 'profile_1/high_rate/sig_count_low',\n",
      " 'profile_1/high_rate/sig_count_med',\n",
      " 'profile_1/high_rate/sig_h_mean_hi',\n",
      " 'profile_1/high_rate/sig_h_mean_low',\n",
      " 'profile_1/high_rate/sig_h_mean_med',\n",
      " 'profile_1/high_rate/sig_h_sdev_hi',\n",
      " 'profile_1/high_rate/sig_h_sdev_low',\n",
      " 'profile_1/high_rate/sig_h_sdev_med',\n",
      " 'profile_1/high_rate/snow_ice',\n",
      " 'profile_1/high_rate/solar_azimuth',\n",
      " 'profile_1/high_rate/solar_elevation',\n",
      " 'profile_1/high_rate/surface_bin',\n",
      " 'profile_1/high_rate/surface_h_dens',\n",
      " 'profile_1/high_rate/surface_height',\n",
      " 'profile_1/high_rate/surface_sig',\n",
      " 'profile_1/high_rate/surf_refl_true',\n",
      " 'profile_1/high_rate/surf_type',\n",
      " 'profile_1/high_rate/surf_type_igbp',\n",
      " 'profile_1/high_rate/tx_pulse_energy',\n",
      " 'profile_1/low_rate/bsnow_con',\n",
      " 'profile_1/low_rate/bsnow_h',\n",
      " 'profile_1/low_rate/bsnow_od',\n",
      " 'profile_1/low_rate/bsnow_prob',\n",
      " 'profile_1/low_rate/bsnow_psc',\n",
      " 'profile_1/low_rate/cal_c',\n",
      " 'profile_1/low_rate/delta_time',\n",
      " 'profile_1/low_rate/ds_va_bin_h',\n",
      " 'profile_1/low_rate/latitude',\n",
      " 'profile_1/low_rate/longitude',\n",
      " 'profile_1/low_rate/met_cldprs',\n",
      " 'profile_1/low_rate/met_ps',\n",
      " 'profile_1/low_rate/met_qv10m',\n",
      " 'profile_1/low_rate/met_qv2m',\n",
      " 'profile_1/low_rate/met_slp',\n",
      " 'profile_1/low_rate/met_t10m',\n",
      " 'profile_1/low_rate/met_t2m',\n",
      " 'profile_1/low_rate/met_tqi',\n",
      " 'profile_1/low_rate/met_tql',\n",
      " 'profile_1/low_rate/met_troppb',\n",
      " 'profile_1/low_rate/met_tropt',\n",
      " 'profile_1/low_rate/met_ts',\n",
      " 'profile_1/low_rate/met_u10m',\n",
      " 'profile_1/low_rate/met_u2m',\n",
      " 'profile_1/low_rate/met_u50m',\n",
      " 'profile_1/low_rate/met_v10m',\n",
      " 'profile_1/low_rate/met_v2m',\n",
      " 'profile_1/low_rate/met_v50m',\n",
      " 'profile_1/low_rate/mol_backscatter',\n",
      " 'profile_1/low_rate/mol_backs_folded',\n",
      " 'profile_1/low_rate/molec_bkscat_p',\n",
      " 'profile_1/low_rate/molec_bkscat_rh',\n",
      " 'profile_1/low_rate/molec_bkscat_t',\n",
      " 'profile_1/low_rate/molec_trans',\n",
      " 'profile_1/low_rate/surf_type',\n",
      " 'profile_2/bckgrd_atlas/bckgrd_counts',\n",
      " 'profile_2/bckgrd_atlas/bckgrd_counts_reduced',\n",
      " 'profile_2/bckgrd_atlas/bckgrd_hist_top',\n",
      " 'profile_2/bckgrd_atlas/bckgrd_int_height',\n",
      " 'profile_2/bckgrd_atlas/bckgrd_int_height_reduced',\n",
      " 'profile_2/bckgrd_atlas/bckgrd_rate',\n",
      " 'profile_2/bckgrd_atlas/delta_time',\n",
      " 'profile_2/bckgrd_atlas/pce_mframe_cnt',\n",
      " 'profile_2/high_rate/aclr_true',\n",
      " 'profile_2/high_rate/apparent_surf_reflec',\n",
      " 'profile_2/high_rate/backg_c',\n",
      " 'profile_2/high_rate/backg_theoret',\n",
      " 'profile_2/high_rate/beam_azimuth',\n",
      " 'profile_2/high_rate/beam_elevation',\n",
      " 'profile_2/high_rate/bsnow_con',\n",
      " 'profile_2/high_rate/bsnow_dens',\n",
      " 'profile_2/high_rate/bsnow_h',\n",
      " 'profile_2/high_rate/bsnow_h_dens',\n",
      " 'profile_2/high_rate/bsnow_od',\n",
      " 'profile_2/high_rate/bsnow_psc',\n",
      " 'profile_2/high_rate/cab_prof',\n",
      " 'profile_2/high_rate/cloud_flag_asr',\n",
      " 'profile_2/high_rate/cloud_flag_atm',\n",
      " 'profile_2/high_rate/cloud_fold_flag',\n",
      " 'profile_2/high_rate/column_od_asr',\n",
      " 'profile_2/high_rate/column_od_asr_qf',\n",
      " 'profile_2/high_rate/delta_time',\n",
      " 'profile_2/high_rate/dem_flag',\n",
      " 'profile_2/high_rate/dem_h',\n",
      " 'profile_2/high_rate/density_pass1',\n",
      " 'profile_2/high_rate/density_pass2',\n",
      " 'profile_2/high_rate/ds_layers',\n",
      " 'profile_2/high_rate/ds_va_bin_h',\n",
      " 'profile_2/high_rate/dtime_fac1',\n",
      " 'profile_2/high_rate/dtime_fac2',\n",
      " 'profile_2/high_rate/latitude',\n",
      " 'profile_2/high_rate/layer_attr',\n",
      " 'profile_2/high_rate/layer_bot',\n",
      " 'profile_2/high_rate/layer_con',\n",
      " 'profile_2/high_rate/layer_conf_dens',\n",
      " 'profile_2/high_rate/layer_dens',\n",
      " 'profile_2/high_rate/layer_flag',\n",
      " 'profile_2/high_rate/layer_ib',\n",
      " 'profile_2/high_rate/layer_top',\n",
      " 'profile_2/high_rate/longitude',\n",
      " 'profile_2/high_rate/msw_flag',\n",
      " 'profile_2/high_rate/ocean_surf_reflec',\n",
      " 'profile_2/high_rate/pce_mframe_cnt',\n",
      " 'profile_2/high_rate/prof_dist_x',\n",
      " 'profile_2/high_rate/prof_dist_y',\n",
      " 'profile_2/high_rate/range_to_top',\n",
      " 'profile_2/high_rate/segment_id',\n",
      " 'profile_2/high_rate/sig_count_hi',\n",
      " 'profile_2/high_rate/sig_count_low',\n",
      " 'profile_2/high_rate/sig_count_med',\n",
      " 'profile_2/high_rate/sig_h_mean_hi',\n",
      " 'profile_2/high_rate/sig_h_mean_low',\n",
      " 'profile_2/high_rate/sig_h_mean_med',\n",
      " 'profile_2/high_rate/sig_h_sdev_hi',\n",
      " 'profile_2/high_rate/sig_h_sdev_low',\n",
      " 'profile_2/high_rate/sig_h_sdev_med',\n",
      " 'profile_2/high_rate/snow_ice',\n",
      " 'profile_2/high_rate/solar_azimuth',\n",
      " 'profile_2/high_rate/solar_elevation',\n",
      " 'profile_2/high_rate/surface_bin',\n",
      " 'profile_2/high_rate/surface_h_dens',\n",
      " 'profile_2/high_rate/surface_height',\n",
      " 'profile_2/high_rate/surface_sig',\n",
      " 'profile_2/high_rate/surf_refl_true',\n",
      " 'profile_2/high_rate/surf_type',\n",
      " 'profile_2/high_rate/surf_type_igbp',\n",
      " 'profile_2/high_rate/tx_pulse_energy',\n",
      " 'profile_2/low_rate/bsnow_con',\n",
      " 'profile_2/low_rate/bsnow_h',\n",
      " 'profile_2/low_rate/bsnow_od',\n",
      " 'profile_2/low_rate/bsnow_prob',\n",
      " 'profile_2/low_rate/bsnow_psc',\n",
      " 'profile_2/low_rate/cal_c',\n",
      " 'profile_2/low_rate/delta_time',\n",
      " 'profile_2/low_rate/ds_va_bin_h',\n",
      " 'profile_2/low_rate/latitude',\n",
      " 'profile_2/low_rate/longitude',\n",
      " 'profile_2/low_rate/met_cldprs',\n",
      " 'profile_2/low_rate/met_ps',\n",
      " 'profile_2/low_rate/met_qv10m',\n",
      " 'profile_2/low_rate/met_qv2m',\n",
      " 'profile_2/low_rate/met_slp',\n",
      " 'profile_2/low_rate/met_t10m',\n",
      " 'profile_2/low_rate/met_t2m',\n",
      " 'profile_2/low_rate/met_tqi',\n",
      " 'profile_2/low_rate/met_tql',\n",
      " 'profile_2/low_rate/met_troppb',\n",
      " 'profile_2/low_rate/met_tropt',\n",
      " 'profile_2/low_rate/met_ts',\n",
      " 'profile_2/low_rate/met_u10m',\n",
      " 'profile_2/low_rate/met_u2m',\n",
      " 'profile_2/low_rate/met_u50m',\n",
      " 'profile_2/low_rate/met_v10m',\n",
      " 'profile_2/low_rate/met_v2m',\n",
      " 'profile_2/low_rate/met_v50m',\n",
      " 'profile_2/low_rate/mol_backscatter',\n",
      " 'profile_2/low_rate/mol_backs_folded',\n",
      " 'profile_2/low_rate/molec_bkscat_p',\n",
      " 'profile_2/low_rate/molec_bkscat_rh',\n",
      " 'profile_2/low_rate/molec_bkscat_t',\n",
      " 'profile_2/low_rate/molec_trans',\n",
      " 'profile_2/low_rate/surf_type',\n",
      " 'profile_3/bckgrd_atlas/bckgrd_counts',\n",
      " 'profile_3/bckgrd_atlas/bckgrd_counts_reduced',\n",
      " 'profile_3/bckgrd_atlas/bckgrd_hist_top',\n",
      " 'profile_3/bckgrd_atlas/bckgrd_int_height',\n",
      " 'profile_3/bckgrd_atlas/bckgrd_int_height_reduced',\n",
      " 'profile_3/bckgrd_atlas/bckgrd_rate',\n",
      " 'profile_3/bckgrd_atlas/delta_time',\n",
      " 'profile_3/bckgrd_atlas/pce_mframe_cnt',\n",
      " 'profile_3/high_rate/aclr_true',\n",
      " 'profile_3/high_rate/apparent_surf_reflec',\n",
      " 'profile_3/high_rate/backg_c',\n",
      " 'profile_3/high_rate/backg_theoret',\n",
      " 'profile_3/high_rate/beam_azimuth',\n",
      " 'profile_3/high_rate/beam_elevation',\n",
      " 'profile_3/high_rate/bsnow_con',\n",
      " 'profile_3/high_rate/bsnow_dens',\n",
      " 'profile_3/high_rate/bsnow_h',\n",
      " 'profile_3/high_rate/bsnow_h_dens',\n",
      " 'profile_3/high_rate/bsnow_od',\n",
      " 'profile_3/high_rate/bsnow_psc',\n",
      " 'profile_3/high_rate/cab_prof',\n",
      " 'profile_3/high_rate/cloud_flag_asr',\n",
      " 'profile_3/high_rate/cloud_flag_atm',\n",
      " 'profile_3/high_rate/cloud_fold_flag',\n",
      " 'profile_3/high_rate/column_od_asr',\n",
      " 'profile_3/high_rate/column_od_asr_qf',\n",
      " 'profile_3/high_rate/delta_time',\n",
      " 'profile_3/high_rate/dem_flag',\n",
      " 'profile_3/high_rate/dem_h',\n",
      " 'profile_3/high_rate/density_pass1',\n",
      " 'profile_3/high_rate/density_pass2',\n",
      " 'profile_3/high_rate/ds_layers',\n",
      " 'profile_3/high_rate/ds_va_bin_h',\n",
      " 'profile_3/high_rate/dtime_fac1',\n",
      " 'profile_3/high_rate/dtime_fac2',\n",
      " 'profile_3/high_rate/latitude',\n",
      " 'profile_3/high_rate/layer_attr',\n",
      " 'profile_3/high_rate/layer_bot',\n",
      " 'profile_3/high_rate/layer_con',\n",
      " 'profile_3/high_rate/layer_conf_dens',\n",
      " 'profile_3/high_rate/layer_dens',\n",
      " 'profile_3/high_rate/layer_flag',\n",
      " 'profile_3/high_rate/layer_ib',\n",
      " 'profile_3/high_rate/layer_top',\n",
      " 'profile_3/high_rate/longitude',\n",
      " 'profile_3/high_rate/msw_flag',\n",
      " 'profile_3/high_rate/ocean_surf_reflec',\n",
      " 'profile_3/high_rate/pce_mframe_cnt',\n",
      " 'profile_3/high_rate/prof_dist_x',\n",
      " 'profile_3/high_rate/prof_dist_y',\n",
      " 'profile_3/high_rate/range_to_top',\n",
      " 'profile_3/high_rate/segment_id',\n",
      " 'profile_3/high_rate/sig_count_hi',\n",
      " 'profile_3/high_rate/sig_count_low',\n",
      " 'profile_3/high_rate/sig_count_med',\n",
      " 'profile_3/high_rate/sig_h_mean_hi',\n",
      " 'profile_3/high_rate/sig_h_mean_low',\n",
      " 'profile_3/high_rate/sig_h_mean_med',\n",
      " 'profile_3/high_rate/sig_h_sdev_hi',\n",
      " 'profile_3/high_rate/sig_h_sdev_low',\n",
      " 'profile_3/high_rate/sig_h_sdev_med',\n",
      " 'profile_3/high_rate/snow_ice',\n",
      " 'profile_3/high_rate/solar_azimuth',\n",
      " 'profile_3/high_rate/solar_elevation',\n",
      " 'profile_3/high_rate/surface_bin',\n",
      " 'profile_3/high_rate/surface_h_dens',\n",
      " 'profile_3/high_rate/surface_height',\n",
      " 'profile_3/high_rate/surface_sig',\n",
      " 'profile_3/high_rate/surf_refl_true',\n",
      " 'profile_3/high_rate/surf_type',\n",
      " 'profile_3/high_rate/surf_type_igbp',\n",
      " 'profile_3/high_rate/tx_pulse_energy',\n",
      " 'profile_3/low_rate/bsnow_con',\n",
      " 'profile_3/low_rate/bsnow_h',\n",
      " 'profile_3/low_rate/bsnow_od',\n",
      " 'profile_3/low_rate/bsnow_prob',\n",
      " 'profile_3/low_rate/bsnow_psc',\n",
      " 'profile_3/low_rate/cal_c',\n",
      " 'profile_3/low_rate/delta_time',\n",
      " 'profile_3/low_rate/ds_va_bin_h',\n",
      " 'profile_3/low_rate/latitude',\n",
      " 'profile_3/low_rate/longitude',\n",
      " 'profile_3/low_rate/met_cldprs',\n",
      " 'profile_3/low_rate/met_ps',\n",
      " 'profile_3/low_rate/met_qv10m',\n",
      " 'profile_3/low_rate/met_qv2m',\n",
      " 'profile_3/low_rate/met_slp',\n",
      " 'profile_3/low_rate/met_t10m',\n",
      " 'profile_3/low_rate/met_t2m',\n",
      " 'profile_3/low_rate/met_tqi',\n",
      " 'profile_3/low_rate/met_tql',\n",
      " 'profile_3/low_rate/met_troppb',\n",
      " 'profile_3/low_rate/met_tropt',\n",
      " 'profile_3/low_rate/met_ts',\n",
      " 'profile_3/low_rate/met_u10m',\n",
      " 'profile_3/low_rate/met_u2m',\n",
      " 'profile_3/low_rate/met_u50m',\n",
      " 'profile_3/low_rate/met_v10m',\n",
      " 'profile_3/low_rate/met_v2m',\n",
      " 'profile_3/low_rate/met_v50m',\n",
      " 'profile_3/low_rate/mol_backscatter',\n",
      " 'profile_3/low_rate/mol_backs_folded',\n",
      " 'profile_3/low_rate/molec_bkscat_p',\n",
      " 'profile_3/low_rate/molec_bkscat_rh',\n",
      " 'profile_3/low_rate/molec_bkscat_t',\n",
      " 'profile_3/low_rate/molec_trans',\n",
      " 'profile_3/low_rate/surf_type',\n",
      " 'quality_assessment/qa_granule_fail_reason',\n",
      " 'quality_assessment/qa_granule_pass_fail',\n",
      " 'quality_assessment/profile_1/asr_avg',\n",
      " 'quality_assessment/profile_1/asr_max',\n",
      " 'quality_assessment/profile_1/asr_min',\n",
      " 'quality_assessment/profile_1/asr_std',\n",
      " 'quality_assessment/profile_1/cab_mol_avg',\n",
      " 'quality_assessment/profile_1/cld_asr_pct',\n",
      " 'quality_assessment/profile_1/cld_avg',\n",
      " 'quality_assessment/profile_1/cld_max',\n",
      " 'quality_assessment/profile_1/cld_min',\n",
      " 'quality_assessment/profile_1/cld_pct',\n",
      " 'quality_assessment/profile_1/cod_avg',\n",
      " 'quality_assessment/profile_1/cod_max',\n",
      " 'quality_assessment/profile_1/cod_min',\n",
      " 'quality_assessment/profile_1/delta_time',\n",
      " 'quality_assessment/profile_1/osr_avg',\n",
      " 'quality_assessment/profile_1/osr_max',\n",
      " 'quality_assessment/profile_1/osr_min',\n",
      " 'quality_assessment/profile_1/surf_pct',\n",
      " 'quality_assessment/profile_2/asr_avg',\n",
      " 'quality_assessment/profile_2/asr_max',\n",
      " 'quality_assessment/profile_2/asr_min',\n",
      " 'quality_assessment/profile_2/asr_std',\n",
      " 'quality_assessment/profile_2/cab_mol_avg',\n",
      " 'quality_assessment/profile_2/cld_asr_pct',\n",
      " 'quality_assessment/profile_2/cld_avg',\n",
      " 'quality_assessment/profile_2/cld_max',\n",
      " 'quality_assessment/profile_2/cld_min',\n",
      " 'quality_assessment/profile_2/cld_pct',\n",
      " 'quality_assessment/profile_2/cod_avg',\n",
      " 'quality_assessment/profile_2/cod_max',\n",
      " 'quality_assessment/profile_2/cod_min',\n",
      " 'quality_assessment/profile_2/delta_time',\n",
      " 'quality_assessment/profile_2/osr_avg',\n",
      " 'quality_assessment/profile_2/osr_max',\n",
      " 'quality_assessment/profile_2/osr_min',\n",
      " 'quality_assessment/profile_2/surf_pct',\n",
      " 'quality_assessment/profile_3/asr_avg',\n",
      " 'quality_assessment/profile_3/asr_max',\n",
      " 'quality_assessment/profile_3/asr_min',\n",
      " 'quality_assessment/profile_3/asr_std',\n",
      " 'quality_assessment/profile_3/cab_mol_avg',\n",
      " 'quality_assessment/profile_3/cld_asr_pct',\n",
      " 'quality_assessment/profile_3/cld_avg',\n",
      " 'quality_assessment/profile_3/cld_max',\n",
      " 'quality_assessment/profile_3/cld_min',\n",
      " 'quality_assessment/profile_3/cld_pct',\n",
      " 'quality_assessment/profile_3/cod_avg',\n",
      " 'quality_assessment/profile_3/cod_max',\n",
      " 'quality_assessment/profile_3/cod_min',\n",
      " 'quality_assessment/profile_3/delta_time',\n",
      " 'quality_assessment/profile_3/osr_avg',\n",
      " 'quality_assessment/profile_3/osr_max',\n",
      " 'quality_assessment/profile_3/osr_min',\n",
      " 'quality_assessment/profile_3/surf_pct']\n"
     ]
    }
   ],
   "source": [
    "opts = region_a.show_custom_options(session)"
   ]
  },
  {
   "cell_type": "markdown",
   "metadata": {},
   "source": [
    "#### Setup the user provided variable list to subset variables"
   ]
  },
  {
   "cell_type": "markdown",
   "metadata": {},
   "source": [
    "Options for inputting variables:\n",
    "1. Use a default list for the dataset (not yet fully implemented across all datasets)\n",
    "2. Provide a list of variable names, which will return all path-variable combinations (e.g. longitude will return longitude for both beams for all profiles)\n",
    "3. Provide a list of variable names and/or specific profiles/beams (not yet implemented).\n",
    "\n",
    "An example of each type of input is below."
   ]
  },
  {
   "cell_type": "code",
   "execution_count": 7,
   "metadata": {},
   "outputs": [
    {
     "name": "stdout",
     "output_type": "stream",
     "text": [
      "max needed: 2\n",
      "['ancillary_data' 'orbit_info' 'profile_1' 'profile_2' 'profile_3'\n",
      " 'quality_assessment']\n",
      "['atmosphere' 'bckgrd_atlas' 'high_rate' 'low_rate' 'none' 'profile_1'\n",
      " 'profile_2' 'profile_3']\n"
     ]
    }
   ],
   "source": [
    "#default variables\n",
    "var_dict = region_a.build_wanted_var_list()"
   ]
  },
  {
   "cell_type": "code",
   "execution_count": 8,
   "metadata": {},
   "outputs": [],
   "source": [
    "#variable names\n",
    "var_list = ['latitude','longitude','bsnow_h','bsnow_dens','bsnow_con','bsnow_psc','bsnow_od']\n",
    "var_dict = region_a.build_wanted_var_list(var_list=var_list)"
   ]
  },
  {
   "cell_type": "code",
   "execution_count": null,
   "metadata": {},
   "outputs": [],
   "source": [
    "#variable names + beams/profiles\n",
    "###STILL NEED TO MAKE THE BELOW POSSIBLE IN THE CODE"
   ]
  },
  {
   "cell_type": "markdown",
   "metadata": {},
   "source": [
    "Choose ```latitude``` for ```profile_1``` only for demo purpose. \n",
    "\n",
    "```sc_orient``` provide info on beam strength and is stored under ```orbit_info```"
   ]
  },
  {
   "cell_type": "code",
   "execution_count": 11,
   "metadata": {},
   "outputs": [],
   "source": [
    "subset_kws = {'kw1_list':['profile_1','orbit_info'],'kw2_list':['high_rate'],'var_list':['latitude','sc_orient'],\n",
    "                                             'add_default_vars':True}"
   ]
  },
  {
   "cell_type": "code",
   "execution_count": 23,
   "metadata": {
    "scrolled": true
   },
   "outputs": [
    {
     "name": "stdout",
     "output_type": "stream",
     "text": [
      "/ancillary_data/atlas_sdp_gps_epoch,/ancillary_data/control,/ancillary_data/data_end_utc,/ancillary_data/data_start_utc,/ancillary_data/end_cycle,/ancillary_data/end_delta_time,/ancillary_data/end_geoseg,/ancillary_data/end_gpssow,/ancillary_data/end_gpsweek,/ancillary_data/end_orbit,/ancillary_data/end_region,/ancillary_data/end_rgt,/ancillary_data/granule_end_utc,/ancillary_data/granule_start_utc,/ancillary_data/qa_at_interval,/ancillary_data/release,/ancillary_data/start_cycle,/ancillary_data/start_delta_time,/ancillary_data/start_geoseg,/ancillary_data/start_gpssow,/ancillary_data/start_gpsweek,/ancillary_data/start_orbit,/ancillary_data/start_region,/ancillary_data/start_rgt,/ancillary_data/version,/ancillary_data/atmosphere/aclr_use_atlas,/ancillary_data/atmosphere/alpha,/ancillary_data/atmosphere/a_m1,/ancillary_data/atmosphere/a_m2,/ancillary_data/atmosphere/asr_cal_factor,/ancillary_data/atmosphere/atlas_bandpass_fw,/ancillary_data/atmosphere/atlas_tele_fov,/ancillary_data/atmosphere/backg_max_solar_elev,/ancillary_data/atmosphere/backg_min_solar_elev,/ancillary_data/atmosphere/backg_select,/ancillary_data/atmosphere/bs_extinc_backs,/ancillary_data/atmosphere/bs_lay_max_size,/ancillary_data/atmosphere/bs_thresh_scale,/ancillary_data/atmosphere/bs_top_scale,/ancillary_data/atmosphere/bs_wind_thres,/ancillary_data/atmosphere/cal_bot_ht,/ancillary_data/atmosphere/cal_default,/ancillary_data/atmosphere/cal_lat_bound,/ancillary_data/atmosphere/cal_select,/ancillary_data/atmosphere/cal_top_ht,/ancillary_data/atmosphere/cloud_det_layer_thick,/ancillary_data/atmosphere/cutoff1,/ancillary_data/atmosphere/cutoff2,/ancillary_data/atmosphere/detector_efficiency,/ancillary_data/atmosphere/downsample1,/ancillary_data/atmosphere/downsample2,/ancillary_data/atmosphere/dtime_select,/ancillary_data/atmosphere/grd_search_width,/ancillary_data/atmosphere/layer_flag_cp1,/ancillary_data/atmosphere/layer_flag_cp2,/ancillary_data/atmosphere/layer_sep,/ancillary_data/atmosphere/layer_thick,/ancillary_data/atmosphere/max_layers,/ancillary_data/atmosphere/neighborhood1,/ancillary_data/atmosphere/neighborhood2,/ancillary_data/atmosphere/normalization1,/ancillary_data/atmosphere/normalization2,/ancillary_data/atmosphere/num_passes,/ancillary_data/atmosphere/phi_land,/ancillary_data/atmosphere/phi_ocean,/ancillary_data/atmosphere/planck_const,/ancillary_data/atmosphere/proc_interval,/ancillary_data/atmosphere/quantile1,/ancillary_data/atmosphere/quantile2,/ancillary_data/atmosphere/receiver_optical_throughput,/ancillary_data/atmosphere/sigma1,/ancillary_data/atmosphere/sigma2,/ancillary_data/atmosphere/size_threshold1,/ancillary_data/atmosphere/size_threshold2,/ancillary_data/atmosphere/snow_age,/ancillary_data/atmosphere/solar_flux,/ancillary_data/atmosphere/surface_signal_source,/ancillary_data/atmosphere/surf_min,/ancillary_data/atmosphere/telescope_area,/ancillary_data/atmosphere/thresh_bias1,/ancillary_data/atmosphere/thresh_bias2,/ancillary_data/atmosphere/threshold_segment_length1,/ancillary_data/atmosphere/threshold_segment_length2,/ancillary_data/atmosphere/thresh_sensitivity1,/ancillary_data/atmosphere/thresh_sensitivity2,/orbit_info/sc_orient,/profile_1/high_rate/delta_time,/quality_assessment/profile_1/delta_time,/quality_assessment/profile_2/delta_time,/quality_assessment/profile_3/delta_time,/profile_1/high_rate/apparent_surf_reflec,/profile_1/high_rate/bsnow_con,/profile_1/high_rate/bsnow_dens,/profile_1/high_rate/bsnow_h,/profile_1/high_rate/bsnow_od,/profile_1/high_rate/bsnow_psc,/profile_1/high_rate/cloud_flag_asr,/profile_1/high_rate/cloud_flag_atm,/profile_1/high_rate/cloud_fold_flag,/profile_1/high_rate/column_od_asr,/profile_1/high_rate/column_od_asr_qf,/profile_1/high_rate/latitude,/profile_1/high_rate/layer_attr,/profile_1/high_rate/layer_bot,/profile_1/high_rate/layer_dens,/profile_1/high_rate/layer_flag,/profile_1/high_rate/layer_ib,/profile_1/high_rate/layer_top,/profile_1/high_rate/longitude,/profile_1/high_rate/msw_flag,/profile_1/high_rate/prof_dist_x,/profile_1/high_rate/prof_dist_y,/quality_assessment/qa_granule_fail_reason,/quality_assessment/qa_granule_pass_fail,/quality_assessment/profile_1/asr_avg,/quality_assessment/profile_2/asr_avg,/quality_assessment/profile_3/asr_avg,/quality_assessment/profile_1/asr_max,/quality_assessment/profile_2/asr_max,/quality_assessment/profile_3/asr_max,/quality_assessment/profile_1/asr_min,/quality_assessment/profile_2/asr_min,/quality_assessment/profile_3/asr_min,/quality_assessment/profile_1/asr_std,/quality_assessment/profile_2/asr_std,/quality_assessment/profile_3/asr_std,/quality_assessment/profile_1/cab_mol_avg,/quality_assessment/profile_2/cab_mol_avg,/quality_assessment/profile_3/cab_mol_avg,/quality_assessment/profile_1/cld_asr_pct,/quality_assessment/profile_2/cld_asr_pct,/quality_assessment/profile_3/cld_asr_pct,/quality_assessment/profile_1/cld_avg,/quality_assessment/profile_2/cld_avg,/quality_assessment/profile_3/cld_avg,/quality_assessment/profile_1/cld_max,/quality_assessment/profile_2/cld_max,/quality_assessment/profile_3/cld_max,/quality_assessment/profile_1/cld_min,/quality_assessment/profile_2/cld_min,/quality_assessment/profile_3/cld_min,/quality_assessment/profile_1/cld_pct,/quality_assessment/profile_2/cld_pct,/quality_assessment/profile_3/cld_pct,/quality_assessment/profile_1/cod_avg,/quality_assessment/profile_2/cod_avg,/quality_assessment/profile_3/cod_avg,/quality_assessment/profile_1/cod_max,/quality_assessment/profile_2/cod_max,/quality_assessment/profile_3/cod_max,/quality_assessment/profile_1/cod_min,/quality_assessment/profile_2/cod_min,/quality_assessment/profile_3/cod_min,/quality_assessment/profile_1/osr_avg,/quality_assessment/profile_2/osr_avg,/quality_assessment/profile_3/osr_avg,/quality_assessment/profile_1/osr_max,/quality_assessment/profile_2/osr_max,/quality_assessment/profile_3/osr_max,/quality_assessment/profile_1/osr_min,/quality_assessment/profile_2/osr_min,/quality_assessment/profile_3/osr_min,/quality_assessment/profile_1/surf_pct,/quality_assessment/profile_2/surf_pct,/quality_assessment/profile_3/surf_pct\n"
     ]
    },
    {
     "data": {
      "text/plain": [
       "str"
      ]
     },
     "execution_count": 23,
     "metadata": {},
     "output_type": "execute_result"
    }
   ],
   "source": [
    "cv09 = region_a.build_subset_coverage(**subset_kws)\n",
    "print(cv09)\n",
    "type(cv09)"
   ]
  },
  {
   "cell_type": "markdown",
   "metadata": {},
   "source": [
    "### Setting params and download"
   ]
  },
  {
   "cell_type": "code",
   "execution_count": 13,
   "metadata": {},
   "outputs": [],
   "source": [
    "region_a.build_CMR_params()\n",
    "region_a.build_reqconfig_params('download')"
   ]
  },
  {
   "cell_type": "code",
   "execution_count": 8,
   "metadata": {},
   "outputs": [
    {
     "data": {
      "text/plain": [
       "{'time': '2019-02-22T00:00:00,2019-02-28T23:59:59',\n",
       " 'bbox': '-55,68,-48,71',\n",
       " 'Coverage': '/profile_1/bckgrd_atlas/delta_time,/profile_1/high_rate/delta_time,/profile_1/low_rate/delta_time,/profile_2/bckgrd_atlas/delta_time,/profile_2/high_rate/delta_time,/profile_2/low_rate/delta_time,/profile_3/bckgrd_atlas/delta_time,/profile_3/high_rate/delta_time,/profile_3/low_rate/delta_time,/quality_assessment/profile_1/delta_time,/quality_assessment/profile_2/delta_time,/quality_assessment/profile_3/delta_time,/profile_1/high_rate/latitude,/profile_1/low_rate/latitude,/profile_2/high_rate/latitude,/profile_2/low_rate/latitude,/profile_3/high_rate/latitude,/profile_3/low_rate/latitude,/profile_1/high_rate/longitude,/profile_1/low_rate/longitude,/profile_2/high_rate/longitude,/profile_2/low_rate/longitude,/profile_3/high_rate/longitude,/profile_3/low_rate/longitude,/profile_1/high_rate/bsnow_h,/profile_1/low_rate/bsnow_h,/profile_2/high_rate/bsnow_h,/profile_2/low_rate/bsnow_h,/profile_3/high_rate/bsnow_h,/profile_3/low_rate/bsnow_h,/profile_1/high_rate/bsnow_dens,/profile_2/high_rate/bsnow_dens,/profile_3/high_rate/bsnow_dens,/profile_1/high_rate/bsnow_con,/profile_1/low_rate/bsnow_con,/profile_2/high_rate/bsnow_con,/profile_2/low_rate/bsnow_con,/profile_3/high_rate/bsnow_con,/profile_3/low_rate/bsnow_con,/profile_1/high_rate/bsnow_psc,/profile_1/low_rate/bsnow_psc,/profile_2/high_rate/bsnow_psc,/profile_2/low_rate/bsnow_psc,/profile_3/high_rate/bsnow_psc,/profile_3/low_rate/bsnow_psc,/profile_1/high_rate/bsnow_od,/profile_1/low_rate/bsnow_od,/profile_2/high_rate/bsnow_od,/profile_2/low_rate/bsnow_od,/profile_3/high_rate/bsnow_od,/profile_3/low_rate/bsnow_od,/profile_1/high_rate/cloud_flag_asr,/profile_2/high_rate/cloud_flag_asr,/profile_3/high_rate/cloud_flag_asr,/profile_1/high_rate/cloud_fold_flag,/profile_2/high_rate/cloud_fold_flag,/profile_3/high_rate/cloud_fold_flag,/profile_1/high_rate/cloud_flag_atm,/profile_2/high_rate/cloud_flag_atm,/profile_3/high_rate/cloud_flag_atm,/profile_1/high_rate/column_od_asr,/profile_2/high_rate/column_od_asr,/profile_3/high_rate/column_od_asr,/profile_1/high_rate/column_od_asr_qf,/profile_2/high_rate/column_od_asr_qf,/profile_3/high_rate/column_od_asr_qf,/profile_1/high_rate/layer_attr,/profile_2/high_rate/layer_attr,/profile_3/high_rate/layer_attr,/profile_1/high_rate/layer_bot,/profile_2/high_rate/layer_bot,/profile_3/high_rate/layer_bot,/profile_1/high_rate/layer_top,/profile_2/high_rate/layer_top,/profile_3/high_rate/layer_top,/profile_1/high_rate/layer_flag,/profile_2/high_rate/layer_flag,/profile_3/high_rate/layer_flag,/profile_1/high_rate/layer_dens,/profile_2/high_rate/layer_dens,/profile_3/high_rate/layer_dens,/profile_1/high_rate/layer_ib,/profile_2/high_rate/layer_ib,/profile_3/high_rate/layer_ib,/profile_1/high_rate/msw_flag,/profile_2/high_rate/msw_flag,/profile_3/high_rate/msw_flag,/profile_1/high_rate/prof_dist_x,/profile_2/high_rate/prof_dist_x,/profile_3/high_rate/prof_dist_x,/profile_1/high_rate/prof_dist_y,/profile_2/high_rate/prof_dist_y,/profile_3/high_rate/prof_dist_y,/profile_1/high_rate/apparent_surf_reflec,/profile_2/high_rate/apparent_surf_reflec,/profile_3/high_rate/apparent_surf_reflec'}"
      ]
     },
     "execution_count": 8,
     "metadata": {},
     "output_type": "execute_result"
    }
   ],
   "source": [
    "region_a.build_subset_params(**{'Coverage':var_dict})\n",
    "region_a.subsetparams"
   ]
  },
  {
   "cell_type": "code",
   "execution_count": 10,
   "metadata": {
    "collapsed": true,
    "jupyter": {
     "outputs_hidden": true
    }
   },
   "outputs": [
    {
     "data": {
      "text/plain": [
       "{'time': '2019-02-22T00:00:00,2019-02-28T23:59:59',\n",
       " 'bbox': '-55,68,-48,71',\n",
       " 'Coverage': '/profile_1/bckgrd_atlas/delta_time,/profile_1/high_rate/delta_time,/profile_1/low_rate/delta_time,/profile_2/bckgrd_atlas/delta_time,/profile_2/high_rate/delta_time,/profile_2/low_rate/delta_time,/profile_3/bckgrd_atlas/delta_time,/profile_3/high_rate/delta_time,/profile_3/low_rate/delta_time,/quality_assessment/profile_1/delta_time,/quality_assessment/profile_2/delta_time,/quality_assessment/profile_3/delta_time,/profile_1/high_rate/latitude,/profile_1/low_rate/latitude,/profile_2/high_rate/latitude,/profile_2/low_rate/latitude,/profile_3/high_rate/latitude,/profile_3/low_rate/latitude,/profile_1/high_rate/longitude,/profile_1/low_rate/longitude,/profile_2/high_rate/longitude,/profile_2/low_rate/longitude,/profile_3/high_rate/longitude,/profile_3/low_rate/longitude,/profile_1/high_rate/bsnow_h,/profile_1/low_rate/bsnow_h,/profile_2/high_rate/bsnow_h,/profile_2/low_rate/bsnow_h,/profile_3/high_rate/bsnow_h,/profile_3/low_rate/bsnow_h,/profile_1/high_rate/bsnow_dens,/profile_2/high_rate/bsnow_dens,/profile_3/high_rate/bsnow_dens,/profile_1/high_rate/bsnow_con,/profile_1/low_rate/bsnow_con,/profile_2/high_rate/bsnow_con,/profile_2/low_rate/bsnow_con,/profile_3/high_rate/bsnow_con,/profile_3/low_rate/bsnow_con,/profile_1/high_rate/bsnow_psc,/profile_1/low_rate/bsnow_psc,/profile_2/high_rate/bsnow_psc,/profile_2/low_rate/bsnow_psc,/profile_3/high_rate/bsnow_psc,/profile_3/low_rate/bsnow_psc,/profile_1/high_rate/bsnow_od,/profile_1/low_rate/bsnow_od,/profile_2/high_rate/bsnow_od,/profile_2/low_rate/bsnow_od,/profile_3/high_rate/bsnow_od,/profile_3/low_rate/bsnow_od,/profile_1/high_rate/cloud_flag_asr,/profile_2/high_rate/cloud_flag_asr,/profile_3/high_rate/cloud_flag_asr,/profile_1/high_rate/cloud_fold_flag,/profile_2/high_rate/cloud_fold_flag,/profile_3/high_rate/cloud_fold_flag,/profile_1/high_rate/cloud_flag_atm,/profile_2/high_rate/cloud_flag_atm,/profile_3/high_rate/cloud_flag_atm,/profile_1/high_rate/column_od_asr,/profile_2/high_rate/column_od_asr,/profile_3/high_rate/column_od_asr,/profile_1/high_rate/column_od_asr_qf,/profile_2/high_rate/column_od_asr_qf,/profile_3/high_rate/column_od_asr_qf,/profile_1/high_rate/layer_attr,/profile_2/high_rate/layer_attr,/profile_3/high_rate/layer_attr,/profile_1/high_rate/layer_bot,/profile_2/high_rate/layer_bot,/profile_3/high_rate/layer_bot,/profile_1/high_rate/layer_top,/profile_2/high_rate/layer_top,/profile_3/high_rate/layer_top,/profile_1/high_rate/layer_flag,/profile_2/high_rate/layer_flag,/profile_3/high_rate/layer_flag,/profile_1/high_rate/layer_dens,/profile_2/high_rate/layer_dens,/profile_3/high_rate/layer_dens,/profile_1/high_rate/layer_ib,/profile_2/high_rate/layer_ib,/profile_3/high_rate/layer_ib,/profile_1/high_rate/msw_flag,/profile_2/high_rate/msw_flag,/profile_3/high_rate/msw_flag,/profile_1/high_rate/prof_dist_x,/profile_2/high_rate/prof_dist_x,/profile_3/high_rate/prof_dist_x,/profile_1/high_rate/prof_dist_y,/profile_2/high_rate/prof_dist_y,/profile_3/high_rate/prof_dist_y,/profile_1/high_rate/apparent_surf_reflec,/profile_2/high_rate/apparent_surf_reflec,/profile_3/high_rate/apparent_surf_reflec'}"
      ]
     },
     "execution_count": 10,
     "metadata": {},
     "output_type": "execute_result"
    }
   ],
   "source": [
    "#Identical to above block, but enters the keywords with a different style\n",
    "region_a.build_subset_params(Coverage=var_dict)\n",
    "region_a.subsetparams"
   ]
  },
  {
   "cell_type": "code",
   "execution_count": 10,
   "metadata": {
    "collapsed": true,
    "jupyter": {
     "outputs_hidden": true
    }
   },
   "outputs": [
    {
     "name": "stdout",
     "output_type": "stream",
     "text": [
      "{'feed': {'updated': '2020-03-14T22:11:09.537Z', 'id': 'https://cmr.earthdata.nasa.gov:443/search/granules.json?short_name=ATL09&version=002&temporal=2019-02-22T00%3A00%3A00Z%2C2019-02-28T23%3A59%3A59Z&bounding_box=-55%2C68%2C-48%2C71&page_size=10&page_num=1', 'title': 'ECHO granule metadata', 'entry': [{'producer_granule_id': 'ATL09_20190222003738_08490201_002_01.h5', 'time_start': '2019-02-22T00:37:37.000Z', 'orbit': {'ascending_crossing': '130.68730694092687', 'start_lat': '0', 'start_direction': 'A', 'end_lat': '0', 'end_direction': 'A'}, 'updated': '2019-10-31T08:27:54.161Z', 'orbit_calculated_spatial_domains': [{'equator_crossing_date_time': '2019-02-22T00:37:38.252Z', 'equator_crossing_longitude': '130.68730694092687', 'orbit_number': '2437'}], 'dataset_id': 'ATLAS/ICESat-2 L3A Calibrated Backscatter Profiles and Atmospheric Layer Characteristics V002', 'data_center': 'NSIDC_ECS', 'title': 'SC:ATL09.002:166458094', 'coordinate_system': 'ORBIT', 'time_end': '2019-02-22T02:11:55.000Z', 'id': 'G1706542305-NSIDC_ECS', 'original_format': 'ISO-SMAP', 'granule_size': '2364.7421779633', 'browse_flag': True, 'polygons': [['-0.06924706944323258 130.53182441236362 19.0083146303696 128.58076736475988 38.08170965378806 126.41748813534821 57.14158353520796 123.54306307018149 76.12958942903286 116.87785520901646 84.19669358305916 -33.74630777572035 65.43272653958728 -52.0364460300226 46.388225807929715 -55.722724843454756 27.31877514405783 -58.09249619946337 8.242453680035764 -60.10492806271454 -10.835810263275414 -62.02648938276948 -29.91312113063751 -64.0227246063018 -48.985053379101366 -66.36246863389125 -68.0347531352114 -70.09081487395656 -86.64858203249966 -100.03422372007273 -73.61322314699761 118.18332704704328 -54.583277238542706 113.22632007026425 -35.514788705391005 110.67040503977512 -16.438414216356783 108.61283261798435 -0.06924706944327078 106.95932441236361 -0.057941837770421986 107.28306432143403 -16.426627548262154 108.95034121817568 -35.50090083718521 111.06797888718732 -54.56377396322304 113.78414966873693 -73.57319829434512 119.32141911850309 -86.46047073537534 -104.42508375363953 -68.00454856678505 -70.95252562153021 -48.967829500879795 -66.85530002613002 -29.90007923872572 -64.39612084638136 -10.82430002771835 -62.35609250404627 8.253877068492692 -60.432047362003836 27.331500292769896 -58.45683807453077 46.404618155767274 -56.191825943445785 65.45993228777492 -52.81324356685298 84.30959517222948 -36.779012237771944 76.17682709906677 118.21695355350477 57.162426034648384 124.13904322980535 38.096073618111774 126.82866504123227 19.02027229735012 128.9231658610867 -0.057941837770383794 130.85556432143406 -0.06924706944323258 130.53182441236362'], ['-0.06924706944327078 106.95932441236361 -0.031090394359856003 106.95549204012674 -0.01978516853655056 107.27923178189174 -0.057941837770421986 107.28306432143403 -0.06924706944327078 106.95932441236361']], 'collection_concept_id': 'C1631076797-NSIDC_ECS', 'online_access_flag': True, 'links': [{'rel': 'http://esipfed.org/ns/fedsearch/1.1/data#', 'type': 'application/x-hdfeos', 'hreflang': 'en-US', 'href': 'https://n5eil01u.ecs.nsidc.org/DP7/ATLAS/ATL09.002/2019.02.22/ATL09_20190222003738_08490201_002_01.h5'}, {'rel': 'http://esipfed.org/ns/fedsearch/1.1/browse#', 'type': 'image/jpeg', 'hreflang': 'en-US', 'href': 'https://n5eil01u.ecs.nsidc.org/DP0/BRWS/Browse.001/2019.10.31/ATL09_20190222003738_08490201_002_01_BRW.default.default1.jpg'}, {'rel': 'http://esipfed.org/ns/fedsearch/1.1/browse#', 'type': 'image/jpeg', 'hreflang': 'en-US', 'href': 'https://n5eil01u.ecs.nsidc.org/DP0/BRWS/Browse.001/2019.10.31/ATL09_20190222003738_08490201_002_01_BRW.default.default2.jpg'}, {'rel': 'http://esipfed.org/ns/fedsearch/1.1/browse#', 'type': 'image/jpeg', 'hreflang': 'en-US', 'href': 'https://n5eil01u.ecs.nsidc.org/DP0/BRWS/Browse.001/2019.10.31/ATL09_20190222003738_08490201_002_01_BRW.profile_1.apparent_surf_reflec.jpg'}, {'rel': 'http://esipfed.org/ns/fedsearch/1.1/browse#', 'type': 'image/jpeg', 'hreflang': 'en-US', 'href': 'https://n5eil01u.ecs.nsidc.org/DP0/BRWS/Browse.001/2019.10.31/ATL09_20190222003738_08490201_002_01_BRW.profile_1.cab_profile.jpg'}, {'rel': 'http://esipfed.org/ns/fedsearch/1.1/browse#', 'type': 'image/jpeg', 'hreflang': 'en-US', 'href': 'https://n5eil01u.ecs.nsidc.org/DP0/BRWS/Browse.001/2019.10.31/ATL09_20190222003738_08490201_002_01_BRW.profile_1.cloud_flag_asr_on_cab.jpg'}, {'rel': 'http://esipfed.org/ns/fedsearch/1.1/browse#', 'type': 'image/jpeg', 'hreflang': 'en-US', 'href': 'https://n5eil01u.ecs.nsidc.org/DP0/BRWS/Browse.001/2019.10.31/ATL09_20190222003738_08490201_002_01_BRW.profile_1.cloud_flag_asr_on_map.jpg'}, {'rel': 'http://esipfed.org/ns/fedsearch/1.1/browse#', 'type': 'image/jpeg', 'hreflang': 'en-US', 'href': 'https://n5eil01u.ecs.nsidc.org/DP0/BRWS/Browse.001/2019.10.31/ATL09_20190222003738_08490201_002_01_BRW.profile_1.cloud_flag_atm_on_map.jpg'}, {'rel': 'http://esipfed.org/ns/fedsearch/1.1/browse#', 'type': 'image/jpeg', 'hreflang': 'en-US', 'href': 'https://n5eil01u.ecs.nsidc.org/DP0/BRWS/Browse.001/2019.10.31/ATL09_20190222003738_08490201_002_01_BRW.profile_1.column_od_asr.jpg'}, {'rel': 'http://esipfed.org/ns/fedsearch/1.1/browse#', 'type': 'image/jpeg', 'hreflang': 'en-US', 'href': 'https://n5eil01u.ecs.nsidc.org/DP0/BRWS/Browse.001/2019.10.31/ATL09_20190222003738_08490201_002_01_BRW.profile_1.layer_flag_on_cab.jpg'}, {'rel': 'http://esipfed.org/ns/fedsearch/1.1/browse#', 'type': 'image/jpeg', 'hreflang': 'en-US', 'href': 'https://n5eil01u.ecs.nsidc.org/DP0/BRWS/Browse.001/2019.10.31/ATL09_20190222003738_08490201_002_01_BRW.profile_1.layer_flag_on_map.jpg'}, {'rel': 'http://esipfed.org/ns/fedsearch/1.1/browse#', 'type': 'image/jpeg', 'hreflang': 'en-US', 'href': 'https://n5eil01u.ecs.nsidc.org/DP0/BRWS/Browse.001/2019.10.31/ATL09_20190222003738_08490201_002_01_BRW.profile_1.layer_heights.jpg'}, {'rel': 'http://esipfed.org/ns/fedsearch/1.1/browse#', 'type': 'image/jpeg', 'hreflang': 'en-US', 'href': 'https://n5eil01u.ecs.nsidc.org/DP0/BRWS/Browse.001/2019.10.31/ATL09_20190222003738_08490201_002_01_BRW.profile_1.layer_heights_on_cab.jpg'}, {'rel': 'http://esipfed.org/ns/fedsearch/1.1/browse#', 'type': 'image/jpeg', 'hreflang': 'en-US', 'href': 'https://n5eil01u.ecs.nsidc.org/DP0/BRWS/Browse.001/2019.10.31/ATL09_20190222003738_08490201_002_01_BRW.profile_1.msw_flag_on_map.jpg'}, {'rel': 'http://esipfed.org/ns/fedsearch/1.1/browse#', 'type': 'image/jpeg', 'hreflang': 'en-US', 'href': 'https://n5eil01u.ecs.nsidc.org/DP0/BRWS/Browse.001/2019.10.31/ATL09_20190222003738_08490201_002_01_BRW.profile_1.ocean_surf_reflec.jpg'}, {'rel': 'http://esipfed.org/ns/fedsearch/1.1/browse#', 'type': 'image/jpeg', 'hreflang': 'en-US', 'href': 'https://n5eil01u.ecs.nsidc.org/DP0/BRWS/Browse.001/2019.10.31/ATL09_20190222003738_08490201_002_01_BRW.profile_2.apparent_surf_reflec.jpg'}, {'rel': 'http://esipfed.org/ns/fedsearch/1.1/browse#', 'type': 'image/jpeg', 'hreflang': 'en-US', 'href': 'https://n5eil01u.ecs.nsidc.org/DP0/BRWS/Browse.001/2019.10.31/ATL09_20190222003738_08490201_002_01_BRW.profile_2.cab_profile.jpg'}, {'rel': 'http://esipfed.org/ns/fedsearch/1.1/browse#', 'type': 'image/jpeg', 'hreflang': 'en-US', 'href': 'https://n5eil01u.ecs.nsidc.org/DP0/BRWS/Browse.001/2019.10.31/ATL09_20190222003738_08490201_002_01_BRW.profile_2.cloud_flag_asr_on_cab.jpg'}, {'rel': 'http://esipfed.org/ns/fedsearch/1.1/browse#', 'type': 'image/jpeg', 'hreflang': 'en-US', 'href': 'https://n5eil01u.ecs.nsidc.org/DP0/BRWS/Browse.001/2019.10.31/ATL09_20190222003738_08490201_002_01_BRW.profile_2.cloud_flag_asr_on_map.jpg'}, {'rel': 'http://esipfed.org/ns/fedsearch/1.1/browse#', 'type': 'image/jpeg', 'hreflang': 'en-US', 'href': 'https://n5eil01u.ecs.nsidc.org/DP0/BRWS/Browse.001/2019.10.31/ATL09_20190222003738_08490201_002_01_BRW.profile_2.cloud_flag_atm_on_map.jpg'}, {'rel': 'http://esipfed.org/ns/fedsearch/1.1/browse#', 'type': 'image/jpeg', 'hreflang': 'en-US', 'href': 'https://n5eil01u.ecs.nsidc.org/DP0/BRWS/Browse.001/2019.10.31/ATL09_20190222003738_08490201_002_01_BRW.profile_2.column_od_asr.jpg'}, {'rel': 'http://esipfed.org/ns/fedsearch/1.1/browse#', 'type': 'image/jpeg', 'hreflang': 'en-US', 'href': 'https://n5eil01u.ecs.nsidc.org/DP0/BRWS/Browse.001/2019.10.31/ATL09_20190222003738_08490201_002_01_BRW.profile_2.layer_flag_on_cab.jpg'}, {'rel': 'http://esipfed.org/ns/fedsearch/1.1/browse#', 'type': 'image/jpeg', 'hreflang': 'en-US', 'href': 'https://n5eil01u.ecs.nsidc.org/DP0/BRWS/Browse.001/2019.10.31/ATL09_20190222003738_08490201_002_01_BRW.profile_2.layer_flag_on_map.jpg'}, {'rel': 'http://esipfed.org/ns/fedsearch/1.1/browse#', 'type': 'image/jpeg', 'hreflang': 'en-US', 'href': 'https://n5eil01u.ecs.nsidc.org/DP0/BRWS/Browse.001/2019.10.31/ATL09_20190222003738_08490201_002_01_BRW.profile_2.layer_heights.jpg'}, {'rel': 'http://esipfed.org/ns/fedsearch/1.1/browse#', 'type': 'image/jpeg', 'hreflang': 'en-US', 'href': 'https://n5eil01u.ecs.nsidc.org/DP0/BRWS/Browse.001/2019.10.31/ATL09_20190222003738_08490201_002_01_BRW.profile_2.layer_heights_on_cab.jpg'}, {'rel': 'http://esipfed.org/ns/fedsearch/1.1/browse#', 'type': 'image/jpeg', 'hreflang': 'en-US', 'href': 'https://n5eil01u.ecs.nsidc.org/DP0/BRWS/Browse.001/2019.10.31/ATL09_20190222003738_08490201_002_01_BRW.profile_2.msw_flag_on_map.jpg'}, {'rel': 'http://esipfed.org/ns/fedsearch/1.1/browse#', 'type': 'image/jpeg', 'hreflang': 'en-US', 'href': 'https://n5eil01u.ecs.nsidc.org/DP0/BRWS/Browse.001/2019.10.31/ATL09_20190222003738_08490201_002_01_BRW.profile_2.ocean_surf_reflec.jpg'}, {'rel': 'http://esipfed.org/ns/fedsearch/1.1/browse#', 'type': 'image/jpeg', 'hreflang': 'en-US', 'href': 'https://n5eil01u.ecs.nsidc.org/DP0/BRWS/Browse.001/2019.10.31/ATL09_20190222003738_08490201_002_01_BRW.profile_3.apparent_surf_reflec.jpg'}, {'rel': 'http://esipfed.org/ns/fedsearch/1.1/browse#', 'type': 'image/jpeg', 'hreflang': 'en-US', 'href': 'https://n5eil01u.ecs.nsidc.org/DP0/BRWS/Browse.001/2019.10.31/ATL09_20190222003738_08490201_002_01_BRW.profile_3.cab_profile.jpg'}, {'rel': 'http://esipfed.org/ns/fedsearch/1.1/browse#', 'type': 'image/jpeg', 'hreflang': 'en-US', 'href': 'https://n5eil01u.ecs.nsidc.org/DP0/BRWS/Browse.001/2019.10.31/ATL09_20190222003738_08490201_002_01_BRW.profile_3.cloud_flag_asr_on_cab.jpg'}, {'rel': 'http://esipfed.org/ns/fedsearch/1.1/browse#', 'type': 'image/jpeg', 'hreflang': 'en-US', 'href': 'https://n5eil01u.ecs.nsidc.org/DP0/BRWS/Browse.001/2019.10.31/ATL09_20190222003738_08490201_002_01_BRW.profile_3.cloud_flag_asr_on_map.jpg'}, {'rel': 'http://esipfed.org/ns/fedsearch/1.1/browse#', 'type': 'image/jpeg', 'hreflang': 'en-US', 'href': 'https://n5eil01u.ecs.nsidc.org/DP0/BRWS/Browse.001/2019.10.31/ATL09_20190222003738_08490201_002_01_BRW.profile_3.cloud_flag_atm_on_map.jpg'}, {'rel': 'http://esipfed.org/ns/fedsearch/1.1/browse#', 'type': 'image/jpeg', 'hreflang': 'en-US', 'href': 'https://n5eil01u.ecs.nsidc.org/DP0/BRWS/Browse.001/2019.10.31/ATL09_20190222003738_08490201_002_01_BRW.profile_3.column_od_asr.jpg'}, {'rel': 'http://esipfed.org/ns/fedsearch/1.1/browse#', 'type': 'image/jpeg', 'hreflang': 'en-US', 'href': 'https://n5eil01u.ecs.nsidc.org/DP0/BRWS/Browse.001/2019.10.31/ATL09_20190222003738_08490201_002_01_BRW.profile_3.layer_flag_on_cab.jpg'}, {'rel': 'http://esipfed.org/ns/fedsearch/1.1/browse#', 'type': 'image/jpeg', 'hreflang': 'en-US', 'href': 'https://n5eil01u.ecs.nsidc.org/DP0/BRWS/Browse.001/2019.10.31/ATL09_20190222003738_08490201_002_01_BRW.profile_3.layer_flag_on_map.jpg'}, {'rel': 'http://esipfed.org/ns/fedsearch/1.1/browse#', 'type': 'image/jpeg', 'hreflang': 'en-US', 'href': 'https://n5eil01u.ecs.nsidc.org/DP0/BRWS/Browse.001/2019.10.31/ATL09_20190222003738_08490201_002_01_BRW.profile_3.layer_heights.jpg'}, {'rel': 'http://esipfed.org/ns/fedsearch/1.1/browse#', 'type': 'image/jpeg', 'hreflang': 'en-US', 'href': 'https://n5eil01u.ecs.nsidc.org/DP0/BRWS/Browse.001/2019.10.31/ATL09_20190222003738_08490201_002_01_BRW.profile_3.layer_heights_on_cab.jpg'}, {'rel': 'http://esipfed.org/ns/fedsearch/1.1/browse#', 'type': 'image/jpeg', 'hreflang': 'en-US', 'href': 'https://n5eil01u.ecs.nsidc.org/DP0/BRWS/Browse.001/2019.10.31/ATL09_20190222003738_08490201_002_01_BRW.profile_3.msw_flag_on_map.jpg'}, {'rel': 'http://esipfed.org/ns/fedsearch/1.1/browse#', 'type': 'image/jpeg', 'hreflang': 'en-US', 'href': 'https://n5eil01u.ecs.nsidc.org/DP0/BRWS/Browse.001/2019.10.31/ATL09_20190222003738_08490201_002_01_BRW.profile_3.ocean_surf_reflec.jpg'}, {'rel': 'http://esipfed.org/ns/fedsearch/1.1/metadata#', 'type': 'text/xml', 'hreflang': 'en-US', 'href': 'https://n5eil01u.ecs.nsidc.org/DP7/ATLAS/ATL09.002/2019.02.22/ATL09_20190222003738_08490201_002_01.iso.xml'}, {'inherited': True, 'length': '0.0KB', 'rel': 'http://esipfed.org/ns/fedsearch/1.1/data#', 'hreflang': 'en-US', 'href': 'https://n5eil01u.ecs.nsidc.org/ATLAS/ATL09.001/'}, {'inherited': True, 'length': '0.0KB', 'rel': 'http://esipfed.org/ns/fedsearch/1.1/data#', 'hreflang': 'en-US', 'href': 'http://nsidc.org/daac/subscriptions.html'}, {'inherited': True, 'length': '0.0KB', 'rel': 'http://esipfed.org/ns/fedsearch/1.1/data#', 'hreflang': 'en-US', 'href': 'https://search.earthdata.nasa.gov/search/granules?p=C1511851690-NSIDC_ECS&m=-87.87967837686685!9.890967019347585!1!1!0!0%2C2&tl=1542476530!4!!&q=atl09&ok=atl09'}, {'inherited': True, 'rel': 'http://esipfed.org/ns/fedsearch/1.1/metadata#', 'hreflang': 'en-US', 'href': 'https://doi.org/10.5067/ATLAS/ATL09.002'}, {'inherited': True, 'rel': 'http://esipfed.org/ns/fedsearch/1.1/documentation#', 'hreflang': 'en-US', 'href': 'https://doi.org/10.5067/ATLAS/ATL09.002'}]}, {'producer_granule_id': 'ATL09_20190225115500_09020201_002_01.h5', 'time_start': '2019-02-25T11:55:00.000Z', 'orbit': {'ascending_crossing': '-41.13680873799747', 'start_lat': '0', 'start_direction': 'A', 'end_lat': '0', 'end_direction': 'A'}, 'updated': '2019-10-31T10:03:15.053Z', 'orbit_calculated_spatial_domains': [{'equator_crossing_date_time': '2019-02-25T11:55:00.907Z', 'equator_crossing_longitude': '-41.13680873799747', 'orbit_number': '2490'}], 'dataset_id': 'ATLAS/ICESat-2 L3A Calibrated Backscatter Profiles and Atmospheric Layer Characteristics V002', 'data_center': 'NSIDC_ECS', 'title': 'SC:ATL09.002:166459949', 'coordinate_system': 'ORBIT', 'time_end': '2019-02-25T13:29:17.000Z', 'id': 'G1706548266-NSIDC_ECS', 'original_format': 'ISO-SMAP', 'granule_size': '2247.6289625168', 'browse_flag': True, 'polygons': [['-0.00565261235455362 -41.298678592946146 19.071902141078052 -43.25006592795662 38.145273816730395 -45.41456103071431 57.205066144013514 -48.293290607585746 76.1924296491052 -54.99229547567798 84.13760392372362 154.19305126724274 65.3693516469824 136.12151127170162 46.32468382826406 132.44405730616583 27.255194724795338 130.0763053128117 8.17886095546597 128.06449635363722 -10.899404505724597 126.1429608081972 -29.97670680684987 124.14615488484606 -49.04860713219981 121.80440160658335 -68.09814833379474 118.06618204703064 -86.70159564447627 87.53062790935428 -73.55000389447426 -53.670593281884706 -54.519744606720806 -58.60812888069977 -35.45120858798975 -61.1610690925371 -16.37482121901807 -63.21780782239784 -0.031090394359856003 -64.8686236387976 -0.01978516853655056 -64.54488389703259 -16.363038400632124 -62.88040931200752 -35.43733169743005 -60.7638089300913 -54.50027166626624 -58.05116377304997 -73.51012826867472 -52.536679156883 -86.5106285511061 83.10781796019874 -68.06786077457512 117.20212444682822 -49.031361259468405 121.31094266332897 -29.963656577207285 123.77252031822263 -10.88789181859205 125.81328757303332 8.190282513295823 127.73742941093582 27.267912588890816 129.71217168689552 46.341057117658906 131.97550020844488 65.39649166892605 135.34657714357584 84.24934925017939 151.18719202009734 76.23987883068152 -53.647332030000655 57.22594449552825 -47.69628954022621 38.15965029200101 -45.003026696555914 19.08386439053343 -42.90753639477553 0.00565261235455362 -40.9749388830488 -0.00565261235455362 -41.298678592946146']], 'collection_concept_id': 'C1631076797-NSIDC_ECS', 'online_access_flag': True, 'links': [{'rel': 'http://esipfed.org/ns/fedsearch/1.1/data#', 'type': 'application/x-hdfeos', 'hreflang': 'en-US', 'href': 'https://n5eil01u.ecs.nsidc.org/DP7/ATLAS/ATL09.002/2019.02.25/ATL09_20190225115500_09020201_002_01.h5'}, {'rel': 'http://esipfed.org/ns/fedsearch/1.1/browse#', 'type': 'image/jpeg', 'hreflang': 'en-US', 'href': 'https://n5eil01u.ecs.nsidc.org/DP0/BRWS/Browse.001/2019.10.31/ATL09_20190225115500_09020201_002_01_BRW.default.default1.jpg'}, {'rel': 'http://esipfed.org/ns/fedsearch/1.1/browse#', 'type': 'image/jpeg', 'hreflang': 'en-US', 'href': 'https://n5eil01u.ecs.nsidc.org/DP0/BRWS/Browse.001/2019.10.31/ATL09_20190225115500_09020201_002_01_BRW.default.default2.jpg'}, {'rel': 'http://esipfed.org/ns/fedsearch/1.1/browse#', 'type': 'image/jpeg', 'hreflang': 'en-US', 'href': 'https://n5eil01u.ecs.nsidc.org/DP0/BRWS/Browse.001/2019.10.31/ATL09_20190225115500_09020201_002_01_BRW.profile_1.apparent_surf_reflec.jpg'}, {'rel': 'http://esipfed.org/ns/fedsearch/1.1/browse#', 'type': 'image/jpeg', 'hreflang': 'en-US', 'href': 'https://n5eil01u.ecs.nsidc.org/DP0/BRWS/Browse.001/2019.10.31/ATL09_20190225115500_09020201_002_01_BRW.profile_1.cab_profile.jpg'}, {'rel': 'http://esipfed.org/ns/fedsearch/1.1/browse#', 'type': 'image/jpeg', 'hreflang': 'en-US', 'href': 'https://n5eil01u.ecs.nsidc.org/DP0/BRWS/Browse.001/2019.10.31/ATL09_20190225115500_09020201_002_01_BRW.profile_1.cloud_flag_asr_on_cab.jpg'}, {'rel': 'http://esipfed.org/ns/fedsearch/1.1/browse#', 'type': 'image/jpeg', 'hreflang': 'en-US', 'href': 'https://n5eil01u.ecs.nsidc.org/DP0/BRWS/Browse.001/2019.10.31/ATL09_20190225115500_09020201_002_01_BRW.profile_1.cloud_flag_asr_on_map.jpg'}, {'rel': 'http://esipfed.org/ns/fedsearch/1.1/browse#', 'type': 'image/jpeg', 'hreflang': 'en-US', 'href': 'https://n5eil01u.ecs.nsidc.org/DP0/BRWS/Browse.001/2019.10.31/ATL09_20190225115500_09020201_002_01_BRW.profile_1.cloud_flag_atm_on_map.jpg'}, {'rel': 'http://esipfed.org/ns/fedsearch/1.1/browse#', 'type': 'image/jpeg', 'hreflang': 'en-US', 'href': 'https://n5eil01u.ecs.nsidc.org/DP0/BRWS/Browse.001/2019.10.31/ATL09_20190225115500_09020201_002_01_BRW.profile_1.column_od_asr.jpg'}, {'rel': 'http://esipfed.org/ns/fedsearch/1.1/browse#', 'type': 'image/jpeg', 'hreflang': 'en-US', 'href': 'https://n5eil01u.ecs.nsidc.org/DP0/BRWS/Browse.001/2019.10.31/ATL09_20190225115500_09020201_002_01_BRW.profile_1.layer_flag_on_cab.jpg'}, {'rel': 'http://esipfed.org/ns/fedsearch/1.1/browse#', 'type': 'image/jpeg', 'hreflang': 'en-US', 'href': 'https://n5eil01u.ecs.nsidc.org/DP0/BRWS/Browse.001/2019.10.31/ATL09_20190225115500_09020201_002_01_BRW.profile_1.layer_flag_on_map.jpg'}, {'rel': 'http://esipfed.org/ns/fedsearch/1.1/browse#', 'type': 'image/jpeg', 'hreflang': 'en-US', 'href': 'https://n5eil01u.ecs.nsidc.org/DP0/BRWS/Browse.001/2019.10.31/ATL09_20190225115500_09020201_002_01_BRW.profile_1.layer_heights.jpg'}, {'rel': 'http://esipfed.org/ns/fedsearch/1.1/browse#', 'type': 'image/jpeg', 'hreflang': 'en-US', 'href': 'https://n5eil01u.ecs.nsidc.org/DP0/BRWS/Browse.001/2019.10.31/ATL09_20190225115500_09020201_002_01_BRW.profile_1.layer_heights_on_cab.jpg'}, {'rel': 'http://esipfed.org/ns/fedsearch/1.1/browse#', 'type': 'image/jpeg', 'hreflang': 'en-US', 'href': 'https://n5eil01u.ecs.nsidc.org/DP0/BRWS/Browse.001/2019.10.31/ATL09_20190225115500_09020201_002_01_BRW.profile_1.msw_flag_on_map.jpg'}, {'rel': 'http://esipfed.org/ns/fedsearch/1.1/browse#', 'type': 'image/jpeg', 'hreflang': 'en-US', 'href': 'https://n5eil01u.ecs.nsidc.org/DP0/BRWS/Browse.001/2019.10.31/ATL09_20190225115500_09020201_002_01_BRW.profile_1.ocean_surf_reflec.jpg'}, {'rel': 'http://esipfed.org/ns/fedsearch/1.1/browse#', 'type': 'image/jpeg', 'hreflang': 'en-US', 'href': 'https://n5eil01u.ecs.nsidc.org/DP0/BRWS/Browse.001/2019.10.31/ATL09_20190225115500_09020201_002_01_BRW.profile_2.apparent_surf_reflec.jpg'}, {'rel': 'http://esipfed.org/ns/fedsearch/1.1/browse#', 'type': 'image/jpeg', 'hreflang': 'en-US', 'href': 'https://n5eil01u.ecs.nsidc.org/DP0/BRWS/Browse.001/2019.10.31/ATL09_20190225115500_09020201_002_01_BRW.profile_2.cab_profile.jpg'}, {'rel': 'http://esipfed.org/ns/fedsearch/1.1/browse#', 'type': 'image/jpeg', 'hreflang': 'en-US', 'href': 'https://n5eil01u.ecs.nsidc.org/DP0/BRWS/Browse.001/2019.10.31/ATL09_20190225115500_09020201_002_01_BRW.profile_2.cloud_flag_asr_on_cab.jpg'}, {'rel': 'http://esipfed.org/ns/fedsearch/1.1/browse#', 'type': 'image/jpeg', 'hreflang': 'en-US', 'href': 'https://n5eil01u.ecs.nsidc.org/DP0/BRWS/Browse.001/2019.10.31/ATL09_20190225115500_09020201_002_01_BRW.profile_2.cloud_flag_asr_on_map.jpg'}, {'rel': 'http://esipfed.org/ns/fedsearch/1.1/browse#', 'type': 'image/jpeg', 'hreflang': 'en-US', 'href': 'https://n5eil01u.ecs.nsidc.org/DP0/BRWS/Browse.001/2019.10.31/ATL09_20190225115500_09020201_002_01_BRW.profile_2.cloud_flag_atm_on_map.jpg'}, {'rel': 'http://esipfed.org/ns/fedsearch/1.1/browse#', 'type': 'image/jpeg', 'hreflang': 'en-US', 'href': 'https://n5eil01u.ecs.nsidc.org/DP0/BRWS/Browse.001/2019.10.31/ATL09_20190225115500_09020201_002_01_BRW.profile_2.column_od_asr.jpg'}, {'rel': 'http://esipfed.org/ns/fedsearch/1.1/browse#', 'type': 'image/jpeg', 'hreflang': 'en-US', 'href': 'https://n5eil01u.ecs.nsidc.org/DP0/BRWS/Browse.001/2019.10.31/ATL09_20190225115500_09020201_002_01_BRW.profile_2.layer_flag_on_cab.jpg'}, {'rel': 'http://esipfed.org/ns/fedsearch/1.1/browse#', 'type': 'image/jpeg', 'hreflang': 'en-US', 'href': 'https://n5eil01u.ecs.nsidc.org/DP0/BRWS/Browse.001/2019.10.31/ATL09_20190225115500_09020201_002_01_BRW.profile_2.layer_flag_on_map.jpg'}, {'rel': 'http://esipfed.org/ns/fedsearch/1.1/browse#', 'type': 'image/jpeg', 'hreflang': 'en-US', 'href': 'https://n5eil01u.ecs.nsidc.org/DP0/BRWS/Browse.001/2019.10.31/ATL09_20190225115500_09020201_002_01_BRW.profile_2.layer_heights.jpg'}, {'rel': 'http://esipfed.org/ns/fedsearch/1.1/browse#', 'type': 'image/jpeg', 'hreflang': 'en-US', 'href': 'https://n5eil01u.ecs.nsidc.org/DP0/BRWS/Browse.001/2019.10.31/ATL09_20190225115500_09020201_002_01_BRW.profile_2.layer_heights_on_cab.jpg'}, {'rel': 'http://esipfed.org/ns/fedsearch/1.1/browse#', 'type': 'image/jpeg', 'hreflang': 'en-US', 'href': 'https://n5eil01u.ecs.nsidc.org/DP0/BRWS/Browse.001/2019.10.31/ATL09_20190225115500_09020201_002_01_BRW.profile_2.msw_flag_on_map.jpg'}, {'rel': 'http://esipfed.org/ns/fedsearch/1.1/browse#', 'type': 'image/jpeg', 'hreflang': 'en-US', 'href': 'https://n5eil01u.ecs.nsidc.org/DP0/BRWS/Browse.001/2019.10.31/ATL09_20190225115500_09020201_002_01_BRW.profile_2.ocean_surf_reflec.jpg'}, {'rel': 'http://esipfed.org/ns/fedsearch/1.1/browse#', 'type': 'image/jpeg', 'hreflang': 'en-US', 'href': 'https://n5eil01u.ecs.nsidc.org/DP0/BRWS/Browse.001/2019.10.31/ATL09_20190225115500_09020201_002_01_BRW.profile_3.apparent_surf_reflec.jpg'}, {'rel': 'http://esipfed.org/ns/fedsearch/1.1/browse#', 'type': 'image/jpeg', 'hreflang': 'en-US', 'href': 'https://n5eil01u.ecs.nsidc.org/DP0/BRWS/Browse.001/2019.10.31/ATL09_20190225115500_09020201_002_01_BRW.profile_3.cab_profile.jpg'}, {'rel': 'http://esipfed.org/ns/fedsearch/1.1/browse#', 'type': 'image/jpeg', 'hreflang': 'en-US', 'href': 'https://n5eil01u.ecs.nsidc.org/DP0/BRWS/Browse.001/2019.10.31/ATL09_20190225115500_09020201_002_01_BRW.profile_3.cloud_flag_asr_on_cab.jpg'}, {'rel': 'http://esipfed.org/ns/fedsearch/1.1/browse#', 'type': 'image/jpeg', 'hreflang': 'en-US', 'href': 'https://n5eil01u.ecs.nsidc.org/DP0/BRWS/Browse.001/2019.10.31/ATL09_20190225115500_09020201_002_01_BRW.profile_3.cloud_flag_asr_on_map.jpg'}, {'rel': 'http://esipfed.org/ns/fedsearch/1.1/browse#', 'type': 'image/jpeg', 'hreflang': 'en-US', 'href': 'https://n5eil01u.ecs.nsidc.org/DP0/BRWS/Browse.001/2019.10.31/ATL09_20190225115500_09020201_002_01_BRW.profile_3.cloud_flag_atm_on_map.jpg'}, {'rel': 'http://esipfed.org/ns/fedsearch/1.1/browse#', 'type': 'image/jpeg', 'hreflang': 'en-US', 'href': 'https://n5eil01u.ecs.nsidc.org/DP0/BRWS/Browse.001/2019.10.31/ATL09_20190225115500_09020201_002_01_BRW.profile_3.column_od_asr.jpg'}, {'rel': 'http://esipfed.org/ns/fedsearch/1.1/browse#', 'type': 'image/jpeg', 'hreflang': 'en-US', 'href': 'https://n5eil01u.ecs.nsidc.org/DP0/BRWS/Browse.001/2019.10.31/ATL09_20190225115500_09020201_002_01_BRW.profile_3.layer_flag_on_cab.jpg'}, {'rel': 'http://esipfed.org/ns/fedsearch/1.1/browse#', 'type': 'image/jpeg', 'hreflang': 'en-US', 'href': 'https://n5eil01u.ecs.nsidc.org/DP0/BRWS/Browse.001/2019.10.31/ATL09_20190225115500_09020201_002_01_BRW.profile_3.layer_flag_on_map.jpg'}, {'rel': 'http://esipfed.org/ns/fedsearch/1.1/browse#', 'type': 'image/jpeg', 'hreflang': 'en-US', 'href': 'https://n5eil01u.ecs.nsidc.org/DP0/BRWS/Browse.001/2019.10.31/ATL09_20190225115500_09020201_002_01_BRW.profile_3.layer_heights.jpg'}, {'rel': 'http://esipfed.org/ns/fedsearch/1.1/browse#', 'type': 'image/jpeg', 'hreflang': 'en-US', 'href': 'https://n5eil01u.ecs.nsidc.org/DP0/BRWS/Browse.001/2019.10.31/ATL09_20190225115500_09020201_002_01_BRW.profile_3.layer_heights_on_cab.jpg'}, {'rel': 'http://esipfed.org/ns/fedsearch/1.1/browse#', 'type': 'image/jpeg', 'hreflang': 'en-US', 'href': 'https://n5eil01u.ecs.nsidc.org/DP0/BRWS/Browse.001/2019.10.31/ATL09_20190225115500_09020201_002_01_BRW.profile_3.msw_flag_on_map.jpg'}, {'rel': 'http://esipfed.org/ns/fedsearch/1.1/browse#', 'type': 'image/jpeg', 'hreflang': 'en-US', 'href': 'https://n5eil01u.ecs.nsidc.org/DP0/BRWS/Browse.001/2019.10.31/ATL09_20190225115500_09020201_002_01_BRW.profile_3.ocean_surf_reflec.jpg'}, {'rel': 'http://esipfed.org/ns/fedsearch/1.1/metadata#', 'type': 'text/xml', 'hreflang': 'en-US', 'href': 'https://n5eil01u.ecs.nsidc.org/DP7/ATLAS/ATL09.002/2019.02.25/ATL09_20190225115500_09020201_002_01.iso.xml'}, {'inherited': True, 'length': '0.0KB', 'rel': 'http://esipfed.org/ns/fedsearch/1.1/data#', 'hreflang': 'en-US', 'href': 'https://n5eil01u.ecs.nsidc.org/ATLAS/ATL09.001/'}, {'inherited': True, 'length': '0.0KB', 'rel': 'http://esipfed.org/ns/fedsearch/1.1/data#', 'hreflang': 'en-US', 'href': 'http://nsidc.org/daac/subscriptions.html'}, {'inherited': True, 'length': '0.0KB', 'rel': 'http://esipfed.org/ns/fedsearch/1.1/data#', 'hreflang': 'en-US', 'href': 'https://search.earthdata.nasa.gov/search/granules?p=C1511851690-NSIDC_ECS&m=-87.87967837686685!9.890967019347585!1!1!0!0%2C2&tl=1542476530!4!!&q=atl09&ok=atl09'}, {'inherited': True, 'rel': 'http://esipfed.org/ns/fedsearch/1.1/metadata#', 'hreflang': 'en-US', 'href': 'https://doi.org/10.5067/ATLAS/ATL09.002'}, {'inherited': True, 'rel': 'http://esipfed.org/ns/fedsearch/1.1/documentation#', 'hreflang': 'en-US', 'href': 'https://doi.org/10.5067/ATLAS/ATL09.002'}]}, {'producer_granule_id': 'ATL09_20190226002919_09100201_002_01.h5', 'time_start': '2019-02-26T00:29:19.000Z', 'orbit': {'ascending_crossing': '129.90866624462055', 'start_lat': '0', 'start_direction': 'A', 'end_lat': '0', 'end_direction': 'A'}, 'updated': '2019-10-31T08:56:55.598Z', 'orbit_calculated_spatial_domains': [{'equator_crossing_date_time': '2019-02-26T00:29:20.033Z', 'equator_crossing_longitude': '129.90866624462055', 'orbit_number': '2498'}], 'dataset_id': 'ATLAS/ICESat-2 L3A Calibrated Backscatter Profiles and Atmospheric Layer Characteristics V002', 'data_center': 'NSIDC_ECS', 'title': 'SC:ATL09.002:166458478', 'coordinate_system': 'ORBIT', 'time_end': '2019-02-26T02:03:37.000Z', 'id': 'G1706547878-NSIDC_ECS', 'original_format': 'ISO-SMAP', 'granule_size': '2255.3254375458', 'browse_flag': True, 'polygons': [['-0.06924706944323258 129.75318371605732 19.0083146303696 127.80212666845357 38.08170965378806 125.6388474390419 57.14158353520796 122.76442237387518 76.12958942903286 116.09921451271015 84.19669358305916 -34.52494847202666 65.43272653958728 -52.8150867263289 46.388225807929715 -56.50136553976106 27.31877514405783 -58.871136895769666 8.242453680035764 -60.88356875902084 -10.835810263275414 -62.80513007907578 -29.91312113063751 -64.80136530260812 -48.985053379101366 -67.14110933019755 -68.0347531352114 -70.86945557026286 -86.64858203249966 -100.81286441637904 -73.61322314699761 117.40468635073697 -54.583277238542706 112.44767937395795 -35.514788705391005 109.89176434346881 -16.438414216356783 107.83419192167804 -0.06924706944327078 106.1806837160573 -0.057941837770421986 106.50442362512773 -16.426627548262154 108.17170052186938 -35.50090083718521 110.28933819088101 -54.56377396322304 113.00550897243063 -73.57319829434512 118.5427784221968 -86.46047073537534 -105.20372444994582 -68.00454856678505 -71.73116631783653 -48.967829500879795 -67.63394072243634 -29.90007923872572 -65.17476154268768 -10.82430002771835 -63.13473320035257 8.253877068492692 -61.21068805831015 27.331500292769896 -59.2354787708371 46.404618155767274 -56.97046663975209 65.45993228777492 -53.59188426315927 84.30959517222948 -37.557652934078256 76.17682709906677 117.43831285719845 57.162426034648384 123.36040253349904 38.096073618111774 126.05002434492596 19.02027229735012 128.14452516478036 -0.057941837770383794 130.0769236251277 -0.06924706944323258 129.75318371605732'], ['-0.06924706944327078 106.1806837160573 -0.031090394359856003 106.17685134382043 -0.01978516853655056 106.50059108558544 -0.057941837770421986 106.50442362512773 -0.06924706944327078 106.1806837160573']], 'collection_concept_id': 'C1631076797-NSIDC_ECS', 'online_access_flag': True, 'links': [{'rel': 'http://esipfed.org/ns/fedsearch/1.1/data#', 'type': 'application/x-hdfeos', 'hreflang': 'en-US', 'href': 'https://n5eil01u.ecs.nsidc.org/DP7/ATLAS/ATL09.002/2019.02.26/ATL09_20190226002919_09100201_002_01.h5'}, {'rel': 'http://esipfed.org/ns/fedsearch/1.1/browse#', 'type': 'image/jpeg', 'hreflang': 'en-US', 'href': 'https://n5eil01u.ecs.nsidc.org/DP0/BRWS/Browse.001/2019.10.31/ATL09_20190226002919_09100201_002_01_BRW.default.default1.jpg'}, {'rel': 'http://esipfed.org/ns/fedsearch/1.1/browse#', 'type': 'image/jpeg', 'hreflang': 'en-US', 'href': 'https://n5eil01u.ecs.nsidc.org/DP0/BRWS/Browse.001/2019.10.31/ATL09_20190226002919_09100201_002_01_BRW.default.default2.jpg'}, {'rel': 'http://esipfed.org/ns/fedsearch/1.1/browse#', 'type': 'image/jpeg', 'hreflang': 'en-US', 'href': 'https://n5eil01u.ecs.nsidc.org/DP0/BRWS/Browse.001/2019.10.31/ATL09_20190226002919_09100201_002_01_BRW.profile_1.apparent_surf_reflec.jpg'}, {'rel': 'http://esipfed.org/ns/fedsearch/1.1/browse#', 'type': 'image/jpeg', 'hreflang': 'en-US', 'href': 'https://n5eil01u.ecs.nsidc.org/DP0/BRWS/Browse.001/2019.10.31/ATL09_20190226002919_09100201_002_01_BRW.profile_1.cab_profile.jpg'}, {'rel': 'http://esipfed.org/ns/fedsearch/1.1/browse#', 'type': 'image/jpeg', 'hreflang': 'en-US', 'href': 'https://n5eil01u.ecs.nsidc.org/DP0/BRWS/Browse.001/2019.10.31/ATL09_20190226002919_09100201_002_01_BRW.profile_1.cloud_flag_asr_on_cab.jpg'}, {'rel': 'http://esipfed.org/ns/fedsearch/1.1/browse#', 'type': 'image/jpeg', 'hreflang': 'en-US', 'href': 'https://n5eil01u.ecs.nsidc.org/DP0/BRWS/Browse.001/2019.10.31/ATL09_20190226002919_09100201_002_01_BRW.profile_1.cloud_flag_asr_on_map.jpg'}, {'rel': 'http://esipfed.org/ns/fedsearch/1.1/browse#', 'type': 'image/jpeg', 'hreflang': 'en-US', 'href': 'https://n5eil01u.ecs.nsidc.org/DP0/BRWS/Browse.001/2019.10.31/ATL09_20190226002919_09100201_002_01_BRW.profile_1.cloud_flag_atm_on_map.jpg'}, {'rel': 'http://esipfed.org/ns/fedsearch/1.1/browse#', 'type': 'image/jpeg', 'hreflang': 'en-US', 'href': 'https://n5eil01u.ecs.nsidc.org/DP0/BRWS/Browse.001/2019.10.31/ATL09_20190226002919_09100201_002_01_BRW.profile_1.column_od_asr.jpg'}, {'rel': 'http://esipfed.org/ns/fedsearch/1.1/browse#', 'type': 'image/jpeg', 'hreflang': 'en-US', 'href': 'https://n5eil01u.ecs.nsidc.org/DP0/BRWS/Browse.001/2019.10.31/ATL09_20190226002919_09100201_002_01_BRW.profile_1.layer_flag_on_cab.jpg'}, {'rel': 'http://esipfed.org/ns/fedsearch/1.1/browse#', 'type': 'image/jpeg', 'hreflang': 'en-US', 'href': 'https://n5eil01u.ecs.nsidc.org/DP0/BRWS/Browse.001/2019.10.31/ATL09_20190226002919_09100201_002_01_BRW.profile_1.layer_flag_on_map.jpg'}, {'rel': 'http://esipfed.org/ns/fedsearch/1.1/browse#', 'type': 'image/jpeg', 'hreflang': 'en-US', 'href': 'https://n5eil01u.ecs.nsidc.org/DP0/BRWS/Browse.001/2019.10.31/ATL09_20190226002919_09100201_002_01_BRW.profile_1.layer_heights.jpg'}, {'rel': 'http://esipfed.org/ns/fedsearch/1.1/browse#', 'type': 'image/jpeg', 'hreflang': 'en-US', 'href': 'https://n5eil01u.ecs.nsidc.org/DP0/BRWS/Browse.001/2019.10.31/ATL09_20190226002919_09100201_002_01_BRW.profile_1.layer_heights_on_cab.jpg'}, {'rel': 'http://esipfed.org/ns/fedsearch/1.1/browse#', 'type': 'image/jpeg', 'hreflang': 'en-US', 'href': 'https://n5eil01u.ecs.nsidc.org/DP0/BRWS/Browse.001/2019.10.31/ATL09_20190226002919_09100201_002_01_BRW.profile_1.msw_flag_on_map.jpg'}, {'rel': 'http://esipfed.org/ns/fedsearch/1.1/browse#', 'type': 'image/jpeg', 'hreflang': 'en-US', 'href': 'https://n5eil01u.ecs.nsidc.org/DP0/BRWS/Browse.001/2019.10.31/ATL09_20190226002919_09100201_002_01_BRW.profile_1.ocean_surf_reflec.jpg'}, {'rel': 'http://esipfed.org/ns/fedsearch/1.1/browse#', 'type': 'image/jpeg', 'hreflang': 'en-US', 'href': 'https://n5eil01u.ecs.nsidc.org/DP0/BRWS/Browse.001/2019.10.31/ATL09_20190226002919_09100201_002_01_BRW.profile_2.apparent_surf_reflec.jpg'}, {'rel': 'http://esipfed.org/ns/fedsearch/1.1/browse#', 'type': 'image/jpeg', 'hreflang': 'en-US', 'href': 'https://n5eil01u.ecs.nsidc.org/DP0/BRWS/Browse.001/2019.10.31/ATL09_20190226002919_09100201_002_01_BRW.profile_2.cab_profile.jpg'}, {'rel': 'http://esipfed.org/ns/fedsearch/1.1/browse#', 'type': 'image/jpeg', 'hreflang': 'en-US', 'href': 'https://n5eil01u.ecs.nsidc.org/DP0/BRWS/Browse.001/2019.10.31/ATL09_20190226002919_09100201_002_01_BRW.profile_2.cloud_flag_asr_on_cab.jpg'}, {'rel': 'http://esipfed.org/ns/fedsearch/1.1/browse#', 'type': 'image/jpeg', 'hreflang': 'en-US', 'href': 'https://n5eil01u.ecs.nsidc.org/DP0/BRWS/Browse.001/2019.10.31/ATL09_20190226002919_09100201_002_01_BRW.profile_2.cloud_flag_asr_on_map.jpg'}, {'rel': 'http://esipfed.org/ns/fedsearch/1.1/browse#', 'type': 'image/jpeg', 'hreflang': 'en-US', 'href': 'https://n5eil01u.ecs.nsidc.org/DP0/BRWS/Browse.001/2019.10.31/ATL09_20190226002919_09100201_002_01_BRW.profile_2.cloud_flag_atm_on_map.jpg'}, {'rel': 'http://esipfed.org/ns/fedsearch/1.1/browse#', 'type': 'image/jpeg', 'hreflang': 'en-US', 'href': 'https://n5eil01u.ecs.nsidc.org/DP0/BRWS/Browse.001/2019.10.31/ATL09_20190226002919_09100201_002_01_BRW.profile_2.column_od_asr.jpg'}, {'rel': 'http://esipfed.org/ns/fedsearch/1.1/browse#', 'type': 'image/jpeg', 'hreflang': 'en-US', 'href': 'https://n5eil01u.ecs.nsidc.org/DP0/BRWS/Browse.001/2019.10.31/ATL09_20190226002919_09100201_002_01_BRW.profile_2.layer_flag_on_cab.jpg'}, {'rel': 'http://esipfed.org/ns/fedsearch/1.1/browse#', 'type': 'image/jpeg', 'hreflang': 'en-US', 'href': 'https://n5eil01u.ecs.nsidc.org/DP0/BRWS/Browse.001/2019.10.31/ATL09_20190226002919_09100201_002_01_BRW.profile_2.layer_flag_on_map.jpg'}, {'rel': 'http://esipfed.org/ns/fedsearch/1.1/browse#', 'type': 'image/jpeg', 'hreflang': 'en-US', 'href': 'https://n5eil01u.ecs.nsidc.org/DP0/BRWS/Browse.001/2019.10.31/ATL09_20190226002919_09100201_002_01_BRW.profile_2.layer_heights.jpg'}, {'rel': 'http://esipfed.org/ns/fedsearch/1.1/browse#', 'type': 'image/jpeg', 'hreflang': 'en-US', 'href': 'https://n5eil01u.ecs.nsidc.org/DP0/BRWS/Browse.001/2019.10.31/ATL09_20190226002919_09100201_002_01_BRW.profile_2.layer_heights_on_cab.jpg'}, {'rel': 'http://esipfed.org/ns/fedsearch/1.1/browse#', 'type': 'image/jpeg', 'hreflang': 'en-US', 'href': 'https://n5eil01u.ecs.nsidc.org/DP0/BRWS/Browse.001/2019.10.31/ATL09_20190226002919_09100201_002_01_BRW.profile_2.msw_flag_on_map.jpg'}, {'rel': 'http://esipfed.org/ns/fedsearch/1.1/browse#', 'type': 'image/jpeg', 'hreflang': 'en-US', 'href': 'https://n5eil01u.ecs.nsidc.org/DP0/BRWS/Browse.001/2019.10.31/ATL09_20190226002919_09100201_002_01_BRW.profile_2.ocean_surf_reflec.jpg'}, {'rel': 'http://esipfed.org/ns/fedsearch/1.1/browse#', 'type': 'image/jpeg', 'hreflang': 'en-US', 'href': 'https://n5eil01u.ecs.nsidc.org/DP0/BRWS/Browse.001/2019.10.31/ATL09_20190226002919_09100201_002_01_BRW.profile_3.apparent_surf_reflec.jpg'}, {'rel': 'http://esipfed.org/ns/fedsearch/1.1/browse#', 'type': 'image/jpeg', 'hreflang': 'en-US', 'href': 'https://n5eil01u.ecs.nsidc.org/DP0/BRWS/Browse.001/2019.10.31/ATL09_20190226002919_09100201_002_01_BRW.profile_3.cab_profile.jpg'}, {'rel': 'http://esipfed.org/ns/fedsearch/1.1/browse#', 'type': 'image/jpeg', 'hreflang': 'en-US', 'href': 'https://n5eil01u.ecs.nsidc.org/DP0/BRWS/Browse.001/2019.10.31/ATL09_20190226002919_09100201_002_01_BRW.profile_3.cloud_flag_asr_on_cab.jpg'}, {'rel': 'http://esipfed.org/ns/fedsearch/1.1/browse#', 'type': 'image/jpeg', 'hreflang': 'en-US', 'href': 'https://n5eil01u.ecs.nsidc.org/DP0/BRWS/Browse.001/2019.10.31/ATL09_20190226002919_09100201_002_01_BRW.profile_3.cloud_flag_asr_on_map.jpg'}, {'rel': 'http://esipfed.org/ns/fedsearch/1.1/browse#', 'type': 'image/jpeg', 'hreflang': 'en-US', 'href': 'https://n5eil01u.ecs.nsidc.org/DP0/BRWS/Browse.001/2019.10.31/ATL09_20190226002919_09100201_002_01_BRW.profile_3.cloud_flag_atm_on_map.jpg'}, {'rel': 'http://esipfed.org/ns/fedsearch/1.1/browse#', 'type': 'image/jpeg', 'hreflang': 'en-US', 'href': 'https://n5eil01u.ecs.nsidc.org/DP0/BRWS/Browse.001/2019.10.31/ATL09_20190226002919_09100201_002_01_BRW.profile_3.column_od_asr.jpg'}, {'rel': 'http://esipfed.org/ns/fedsearch/1.1/browse#', 'type': 'image/jpeg', 'hreflang': 'en-US', 'href': 'https://n5eil01u.ecs.nsidc.org/DP0/BRWS/Browse.001/2019.10.31/ATL09_20190226002919_09100201_002_01_BRW.profile_3.layer_flag_on_cab.jpg'}, {'rel': 'http://esipfed.org/ns/fedsearch/1.1/browse#', 'type': 'image/jpeg', 'hreflang': 'en-US', 'href': 'https://n5eil01u.ecs.nsidc.org/DP0/BRWS/Browse.001/2019.10.31/ATL09_20190226002919_09100201_002_01_BRW.profile_3.layer_flag_on_map.jpg'}, {'rel': 'http://esipfed.org/ns/fedsearch/1.1/browse#', 'type': 'image/jpeg', 'hreflang': 'en-US', 'href': 'https://n5eil01u.ecs.nsidc.org/DP0/BRWS/Browse.001/2019.10.31/ATL09_20190226002919_09100201_002_01_BRW.profile_3.layer_heights.jpg'}, {'rel': 'http://esipfed.org/ns/fedsearch/1.1/browse#', 'type': 'image/jpeg', 'hreflang': 'en-US', 'href': 'https://n5eil01u.ecs.nsidc.org/DP0/BRWS/Browse.001/2019.10.31/ATL09_20190226002919_09100201_002_01_BRW.profile_3.layer_heights_on_cab.jpg'}, {'rel': 'http://esipfed.org/ns/fedsearch/1.1/browse#', 'type': 'image/jpeg', 'hreflang': 'en-US', 'href': 'https://n5eil01u.ecs.nsidc.org/DP0/BRWS/Browse.001/2019.10.31/ATL09_20190226002919_09100201_002_01_BRW.profile_3.msw_flag_on_map.jpg'}, {'rel': 'http://esipfed.org/ns/fedsearch/1.1/browse#', 'type': 'image/jpeg', 'hreflang': 'en-US', 'href': 'https://n5eil01u.ecs.nsidc.org/DP0/BRWS/Browse.001/2019.10.31/ATL09_20190226002919_09100201_002_01_BRW.profile_3.ocean_surf_reflec.jpg'}, {'rel': 'http://esipfed.org/ns/fedsearch/1.1/metadata#', 'type': 'text/xml', 'hreflang': 'en-US', 'href': 'https://n5eil01u.ecs.nsidc.org/DP7/ATLAS/ATL09.002/2019.02.26/ATL09_20190226002919_09100201_002_01.iso.xml'}, {'inherited': True, 'length': '0.0KB', 'rel': 'http://esipfed.org/ns/fedsearch/1.1/data#', 'hreflang': 'en-US', 'href': 'https://n5eil01u.ecs.nsidc.org/ATLAS/ATL09.001/'}, {'inherited': True, 'length': '0.0KB', 'rel': 'http://esipfed.org/ns/fedsearch/1.1/data#', 'hreflang': 'en-US', 'href': 'http://nsidc.org/daac/subscriptions.html'}, {'inherited': True, 'length': '0.0KB', 'rel': 'http://esipfed.org/ns/fedsearch/1.1/data#', 'hreflang': 'en-US', 'href': 'https://search.earthdata.nasa.gov/search/granules?p=C1511851690-NSIDC_ECS&m=-87.87967837686685!9.890967019347585!1!1!0!0%2C2&tl=1542476530!4!!&q=atl09&ok=atl09'}, {'inherited': True, 'rel': 'http://esipfed.org/ns/fedsearch/1.1/metadata#', 'hreflang': 'en-US', 'href': 'https://doi.org/10.5067/ATLAS/ATL09.002'}, {'inherited': True, 'rel': 'http://esipfed.org/ns/fedsearch/1.1/documentation#', 'hreflang': 'en-US', 'href': 'https://doi.org/10.5067/ATLAS/ATL09.002'}]}]}}\n",
      "{'feed': {'updated': '2020-03-14T22:11:10.451Z', 'id': 'https://cmr.earthdata.nasa.gov:443/search/granules.json?short_name=ATL09&version=002&temporal=2019-02-22T00%3A00%3A00Z%2C2019-02-28T23%3A59%3A59Z&bounding_box=-55%2C68%2C-48%2C71&page_size=10&page_num=2', 'title': 'ECHO granule metadata', 'entry': []}}\n",
      "Order:  1\n",
      "[]\n",
      "Request HTTP response:  201\n",
      "Order request URL:  https://n5eil02u.ecs.nsidc.org/egi/request?short_name=ATL09&version=002&temporal=2019-02-22T00%3A00%3A00Z%2C2019-02-28T23%3A59%3A59Z&bounding_box=-55%2C68%2C-48%2C71&email=liuzheng%40apl.uw.edu&token=F9AEB039-8155-01A8-B8C7-24190C468993&page_size=10&page_num=1&request_mode=async&include_meta=Y&time=2019-02-22T00%3A00%3A00%2C2019-02-28T23%3A59%3A59&bbox=-55%2C68%2C-48%2C71&Coverage=%2Fancillary_data%2Fatlas_sdp_gps_epoch%2C%2Fancillary_data%2Fcontrol%2C%2Fancillary_data%2Fdata_end_utc%2C%2Fancillary_data%2Fdata_start_utc%2C%2Fancillary_data%2Fend_cycle%2C%2Fancillary_data%2Fend_delta_time%2C%2Fancillary_data%2Fend_geoseg%2C%2Fancillary_data%2Fend_gpssow%2C%2Fancillary_data%2Fend_gpsweek%2C%2Fancillary_data%2Fend_orbit%2C%2Fancillary_data%2Fend_region%2C%2Fancillary_data%2Fend_rgt%2C%2Fancillary_data%2Fgranule_end_utc%2C%2Fancillary_data%2Fgranule_start_utc%2C%2Fancillary_data%2Fqa_at_interval%2C%2Fancillary_data%2Frelease%2C%2Fancillary_data%2Fstart_cycle%2C%2Fancillary_data%2Fstart_delta_time%2C%2Fancillary_data%2Fstart_geoseg%2C%2Fancillary_data%2Fstart_gpssow%2C%2Fancillary_data%2Fstart_gpsweek%2C%2Fancillary_data%2Fstart_orbit%2C%2Fancillary_data%2Fstart_region%2C%2Fancillary_data%2Fstart_rgt%2C%2Fancillary_data%2Fversion%2C%2Fancillary_data%2Fatmosphere%2Faclr_use_atlas%2C%2Fancillary_data%2Fatmosphere%2Falpha%2C%2Fancillary_data%2Fatmosphere%2Fa_m1%2C%2Fancillary_data%2Fatmosphere%2Fa_m2%2C%2Fancillary_data%2Fatmosphere%2Fasr_cal_factor%2C%2Fancillary_data%2Fatmosphere%2Fatlas_bandpass_fw%2C%2Fancillary_data%2Fatmosphere%2Fatlas_tele_fov%2C%2Fancillary_data%2Fatmosphere%2Fbackg_max_solar_elev%2C%2Fancillary_data%2Fatmosphere%2Fbackg_min_solar_elev%2C%2Fancillary_data%2Fatmosphere%2Fbackg_select%2C%2Fancillary_data%2Fatmosphere%2Fbs_extinc_backs%2C%2Fancillary_data%2Fatmosphere%2Fbs_lay_max_size%2C%2Fancillary_data%2Fatmosphere%2Fbs_thresh_scale%2C%2Fancillary_data%2Fatmosphere%2Fbs_top_scale%2C%2Fancillary_data%2Fatmosphere%2Fbs_wind_thres%2C%2Fancillary_data%2Fatmosphere%2Fcal_bot_ht%2C%2Fancillary_data%2Fatmosphere%2Fcal_default%2C%2Fancillary_data%2Fatmosphere%2Fcal_lat_bound%2C%2Fancillary_data%2Fatmosphere%2Fcal_select%2C%2Fancillary_data%2Fatmosphere%2Fcal_top_ht%2C%2Fancillary_data%2Fatmosphere%2Fcloud_det_layer_thick%2C%2Fancillary_data%2Fatmosphere%2Fcutoff1%2C%2Fancillary_data%2Fatmosphere%2Fcutoff2%2C%2Fancillary_data%2Fatmosphere%2Fdetector_efficiency%2C%2Fancillary_data%2Fatmosphere%2Fdownsample1%2C%2Fancillary_data%2Fatmosphere%2Fdownsample2%2C%2Fancillary_data%2Fatmosphere%2Fdtime_select%2C%2Fancillary_data%2Fatmosphere%2Fgrd_search_width%2C%2Fancillary_data%2Fatmosphere%2Flayer_flag_cp1%2C%2Fancillary_data%2Fatmosphere%2Flayer_flag_cp2%2C%2Fancillary_data%2Fatmosphere%2Flayer_sep%2C%2Fancillary_data%2Fatmosphere%2Flayer_thick%2C%2Fancillary_data%2Fatmosphere%2Fmax_layers%2C%2Fancillary_data%2Fatmosphere%2Fneighborhood1%2C%2Fancillary_data%2Fatmosphere%2Fneighborhood2%2C%2Fancillary_data%2Fatmosphere%2Fnormalization1%2C%2Fancillary_data%2Fatmosphere%2Fnormalization2%2C%2Fancillary_data%2Fatmosphere%2Fnum_passes%2C%2Fancillary_data%2Fatmosphere%2Fphi_land%2C%2Fancillary_data%2Fatmosphere%2Fphi_ocean%2C%2Fancillary_data%2Fatmosphere%2Fplanck_const%2C%2Fancillary_data%2Fatmosphere%2Fproc_interval%2C%2Fancillary_data%2Fatmosphere%2Fquantile1%2C%2Fancillary_data%2Fatmosphere%2Fquantile2%2C%2Fancillary_data%2Fatmosphere%2Freceiver_optical_throughput%2C%2Fancillary_data%2Fatmosphere%2Fsigma1%2C%2Fancillary_data%2Fatmosphere%2Fsigma2%2C%2Fancillary_data%2Fatmosphere%2Fsize_threshold1%2C%2Fancillary_data%2Fatmosphere%2Fsize_threshold2%2C%2Fancillary_data%2Fatmosphere%2Fsnow_age%2C%2Fancillary_data%2Fatmosphere%2Fsolar_flux%2C%2Fancillary_data%2Fatmosphere%2Fsurface_signal_source%2C%2Fancillary_data%2Fatmosphere%2Fsurf_min%2C%2Fancillary_data%2Fatmosphere%2Ftelescope_area%2C%2Fancillary_data%2Fatmosphere%2Fthresh_bias1%2C%2Fancillary_data%2Fatmosphere%2Fthresh_bias2%2C%2Fancillary_data%2Fatmosphere%2Fthreshold_segment_length1%2C%2Fancillary_data%2Fatmosphere%2Fthreshold_segment_length2%2C%2Fancillary_data%2Fatmosphere%2Fthresh_sensitivity1%2C%2Fancillary_data%2Fatmosphere%2Fthresh_sensitivity2%2C%2Forbit_info%2Fsc_orient%2C%2Fprofile_1%2Fhigh_rate%2Fdelta_time%2C%2Fquality_assessment%2Fprofile_1%2Fdelta_time%2C%2Fquality_assessment%2Fprofile_2%2Fdelta_time%2C%2Fquality_assessment%2Fprofile_3%2Fdelta_time%2C%2Fprofile_1%2Fhigh_rate%2Fapparent_surf_reflec%2C%2Fprofile_1%2Fhigh_rate%2Fbsnow_con%2C%2Fprofile_1%2Fhigh_rate%2Fbsnow_dens%2C%2Fprofile_1%2Fhigh_rate%2Fbsnow_h%2C%2Fprofile_1%2Fhigh_rate%2Fbsnow_od%2C%2Fprofile_1%2Fhigh_rate%2Fbsnow_psc%2C%2Fprofile_1%2Fhigh_rate%2Fcloud_flag_asr%2C%2Fprofile_1%2Fhigh_rate%2Fcloud_flag_atm%2C%2Fprofile_1%2Fhigh_rate%2Fcloud_fold_flag%2C%2Fprofile_1%2Fhigh_rate%2Fcolumn_od_asr%2C%2Fprofile_1%2Fhigh_rate%2Fcolumn_od_asr_qf%2C%2Fprofile_1%2Fhigh_rate%2Flatitude%2C%2Fprofile_1%2Fhigh_rate%2Flayer_attr%2C%2Fprofile_1%2Fhigh_rate%2Flayer_bot%2C%2Fprofile_1%2Fhigh_rate%2Flayer_dens%2C%2Fprofile_1%2Fhigh_rate%2Flayer_flag%2C%2Fprofile_1%2Fhigh_rate%2Flayer_ib%2C%2Fprofile_1%2Fhigh_rate%2Flayer_top%2C%2Fprofile_1%2Fhigh_rate%2Flongitude%2C%2Fprofile_1%2Fhigh_rate%2Fmsw_flag%2C%2Fprofile_1%2Fhigh_rate%2Fprof_dist_x%2C%2Fprofile_1%2Fhigh_rate%2Fprof_dist_y%2C%2Fquality_assessment%2Fqa_granule_fail_reason%2C%2Fquality_assessment%2Fqa_granule_pass_fail%2C%2Fquality_assessment%2Fprofile_1%2Fasr_avg%2C%2Fquality_assessment%2Fprofile_2%2Fasr_avg%2C%2Fquality_assessment%2Fprofile_3%2Fasr_avg%2C%2Fquality_assessment%2Fprofile_1%2Fasr_max%2C%2Fquality_assessment%2Fprofile_2%2Fasr_max%2C%2Fquality_assessment%2Fprofile_3%2Fasr_max%2C%2Fquality_assessment%2Fprofile_1%2Fasr_min%2C%2Fquality_assessment%2Fprofile_2%2Fasr_min%2C%2Fquality_assessment%2Fprofile_3%2Fasr_min%2C%2Fquality_assessment%2Fprofile_1%2Fasr_std%2C%2Fquality_assessment%2Fprofile_2%2Fasr_std%2C%2Fquality_assessment%2Fprofile_3%2Fasr_std%2C%2Fquality_assessment%2Fprofile_1%2Fcab_mol_avg%2C%2Fquality_assessment%2Fprofile_2%2Fcab_mol_avg%2C%2Fquality_assessment%2Fprofile_3%2Fcab_mol_avg%2C%2Fquality_assessment%2Fprofile_1%2Fcld_asr_pct%2C%2Fquality_assessment%2Fprofile_2%2Fcld_asr_pct%2C%2Fquality_assessment%2Fprofile_3%2Fcld_asr_pct%2C%2Fquality_assessment%2Fprofile_1%2Fcld_avg%2C%2Fquality_assessment%2Fprofile_2%2Fcld_avg%2C%2Fquality_assessment%2Fprofile_3%2Fcld_avg%2C%2Fquality_assessment%2Fprofile_1%2Fcld_max%2C%2Fquality_assessment%2Fprofile_2%2Fcld_max%2C%2Fquality_assessment%2Fprofile_3%2Fcld_max%2C%2Fquality_assessment%2Fprofile_1%2Fcld_min%2C%2Fquality_assessment%2Fprofile_2%2Fcld_min%2C%2Fquality_assessment%2Fprofile_3%2Fcld_min%2C%2Fquality_assessment%2Fprofile_1%2Fcld_pct%2C%2Fquality_assessment%2Fprofile_2%2Fcld_pct%2C%2Fquality_assessment%2Fprofile_3%2Fcld_pct%2C%2Fquality_assessment%2Fprofile_1%2Fcod_avg%2C%2Fquality_assessment%2Fprofile_2%2Fcod_avg%2C%2Fquality_assessment%2Fprofile_3%2Fcod_avg%2C%2Fquality_assessment%2Fprofile_1%2Fcod_max%2C%2Fquality_assessment%2Fprofile_2%2Fcod_max%2C%2Fquality_assessment%2Fprofile_3%2Fcod_max%2C%2Fquality_assessment%2Fprofile_1%2Fcod_min%2C%2Fquality_assessment%2Fprofile_2%2Fcod_min%2C%2Fquality_assessment%2Fprofile_3%2Fcod_min%2C%2Fquality_assessment%2Fprofile_1%2Fosr_avg%2C%2Fquality_assessment%2Fprofile_2%2Fosr_avg%2C%2Fquality_assessment%2Fprofile_3%2Fosr_avg%2C%2Fquality_assessment%2Fprofile_1%2Fosr_max%2C%2Fquality_assessment%2Fprofile_2%2Fosr_max%2C%2Fquality_assessment%2Fprofile_3%2Fosr_max%2C%2Fquality_assessment%2Fprofile_1%2Fosr_min%2C%2Fquality_assessment%2Fprofile_2%2Fosr_min%2C%2Fquality_assessment%2Fprofile_3%2Fosr_min%2C%2Fquality_assessment%2Fprofile_1%2Fsurf_pct%2C%2Fquality_assessment%2Fprofile_2%2Fsurf_pct%2C%2Fquality_assessment%2Fprofile_3%2Fsurf_pct\n",
      "Order request URL:  https://n5eil02u.ecs.nsidc.org/egi/request?short_name=ATL09&version=002&temporal=2019-02-22T00%3A00%3A00Z%2C2019-02-28T23%3A59%3A59Z&bounding_box=-55%2C68%2C-48%2C71&email=liuzheng%40apl.uw.edu&token=F9AEB039-8155-01A8-B8C7-24190C468993&page_size=10&page_num=1&request_mode=async&include_meta=Y&time=2019-02-22T00%3A00%3A00%2C2019-02-28T23%3A59%3A59&bbox=-55%2C68%2C-48%2C71&Coverage=%2Fancillary_data%2Fatlas_sdp_gps_epoch%2C%2Fancillary_data%2Fcontrol%2C%2Fancillary_data%2Fdata_end_utc%2C%2Fancillary_data%2Fdata_start_utc%2C%2Fancillary_data%2Fend_cycle%2C%2Fancillary_data%2Fend_delta_time%2C%2Fancillary_data%2Fend_geoseg%2C%2Fancillary_data%2Fend_gpssow%2C%2Fancillary_data%2Fend_gpsweek%2C%2Fancillary_data%2Fend_orbit%2C%2Fancillary_data%2Fend_region%2C%2Fancillary_data%2Fend_rgt%2C%2Fancillary_data%2Fgranule_end_utc%2C%2Fancillary_data%2Fgranule_start_utc%2C%2Fancillary_data%2Fqa_at_interval%2C%2Fancillary_data%2Frelease%2C%2Fancillary_data%2Fstart_cycle%2C%2Fancillary_data%2Fstart_delta_time%2C%2Fancillary_data%2Fstart_geoseg%2C%2Fancillary_data%2Fstart_gpssow%2C%2Fancillary_data%2Fstart_gpsweek%2C%2Fancillary_data%2Fstart_orbit%2C%2Fancillary_data%2Fstart_region%2C%2Fancillary_data%2Fstart_rgt%2C%2Fancillary_data%2Fversion%2C%2Fancillary_data%2Fatmosphere%2Faclr_use_atlas%2C%2Fancillary_data%2Fatmosphere%2Falpha%2C%2Fancillary_data%2Fatmosphere%2Fa_m1%2C%2Fancillary_data%2Fatmosphere%2Fa_m2%2C%2Fancillary_data%2Fatmosphere%2Fasr_cal_factor%2C%2Fancillary_data%2Fatmosphere%2Fatlas_bandpass_fw%2C%2Fancillary_data%2Fatmosphere%2Fatlas_tele_fov%2C%2Fancillary_data%2Fatmosphere%2Fbackg_max_solar_elev%2C%2Fancillary_data%2Fatmosphere%2Fbackg_min_solar_elev%2C%2Fancillary_data%2Fatmosphere%2Fbackg_select%2C%2Fancillary_data%2Fatmosphere%2Fbs_extinc_backs%2C%2Fancillary_data%2Fatmosphere%2Fbs_lay_max_size%2C%2Fancillary_data%2Fatmosphere%2Fbs_thresh_scale%2C%2Fancillary_data%2Fatmosphere%2Fbs_top_scale%2C%2Fancillary_data%2Fatmosphere%2Fbs_wind_thres%2C%2Fancillary_data%2Fatmosphere%2Fcal_bot_ht%2C%2Fancillary_data%2Fatmosphere%2Fcal_default%2C%2Fancillary_data%2Fatmosphere%2Fcal_lat_bound%2C%2Fancillary_data%2Fatmosphere%2Fcal_select%2C%2Fancillary_data%2Fatmosphere%2Fcal_top_ht%2C%2Fancillary_data%2Fatmosphere%2Fcloud_det_layer_thick%2C%2Fancillary_data%2Fatmosphere%2Fcutoff1%2C%2Fancillary_data%2Fatmosphere%2Fcutoff2%2C%2Fancillary_data%2Fatmosphere%2Fdetector_efficiency%2C%2Fancillary_data%2Fatmosphere%2Fdownsample1%2C%2Fancillary_data%2Fatmosphere%2Fdownsample2%2C%2Fancillary_data%2Fatmosphere%2Fdtime_select%2C%2Fancillary_data%2Fatmosphere%2Fgrd_search_width%2C%2Fancillary_data%2Fatmosphere%2Flayer_flag_cp1%2C%2Fancillary_data%2Fatmosphere%2Flayer_flag_cp2%2C%2Fancillary_data%2Fatmosphere%2Flayer_sep%2C%2Fancillary_data%2Fatmosphere%2Flayer_thick%2C%2Fancillary_data%2Fatmosphere%2Fmax_layers%2C%2Fancillary_data%2Fatmosphere%2Fneighborhood1%2C%2Fancillary_data%2Fatmosphere%2Fneighborhood2%2C%2Fancillary_data%2Fatmosphere%2Fnormalization1%2C%2Fancillary_data%2Fatmosphere%2Fnormalization2%2C%2Fancillary_data%2Fatmosphere%2Fnum_passes%2C%2Fancillary_data%2Fatmosphere%2Fphi_land%2C%2Fancillary_data%2Fatmosphere%2Fphi_ocean%2C%2Fancillary_data%2Fatmosphere%2Fplanck_const%2C%2Fancillary_data%2Fatmosphere%2Fproc_interval%2C%2Fancillary_data%2Fatmosphere%2Fquantile1%2C%2Fancillary_data%2Fatmosphere%2Fquantile2%2C%2Fancillary_data%2Fatmosphere%2Freceiver_optical_throughput%2C%2Fancillary_data%2Fatmosphere%2Fsigma1%2C%2Fancillary_data%2Fatmosphere%2Fsigma2%2C%2Fancillary_data%2Fatmosphere%2Fsize_threshold1%2C%2Fancillary_data%2Fatmosphere%2Fsize_threshold2%2C%2Fancillary_data%2Fatmosphere%2Fsnow_age%2C%2Fancillary_data%2Fatmosphere%2Fsolar_flux%2C%2Fancillary_data%2Fatmosphere%2Fsurface_signal_source%2C%2Fancillary_data%2Fatmosphere%2Fsurf_min%2C%2Fancillary_data%2Fatmosphere%2Ftelescope_area%2C%2Fancillary_data%2Fatmosphere%2Fthresh_bias1%2C%2Fancillary_data%2Fatmosphere%2Fthresh_bias2%2C%2Fancillary_data%2Fatmosphere%2Fthreshold_segment_length1%2C%2Fancillary_data%2Fatmosphere%2Fthreshold_segment_length2%2C%2Fancillary_data%2Fatmosphere%2Fthresh_sensitivity1%2C%2Fancillary_data%2Fatmosphere%2Fthresh_sensitivity2%2C%2Forbit_info%2Fsc_orient%2C%2Fprofile_1%2Fhigh_rate%2Fdelta_time%2C%2Fquality_assessment%2Fprofile_1%2Fdelta_time%2C%2Fquality_assessment%2Fprofile_2%2Fdelta_time%2C%2Fquality_assessment%2Fprofile_3%2Fdelta_time%2C%2Fprofile_1%2Fhigh_rate%2Fapparent_surf_reflec%2C%2Fprofile_1%2Fhigh_rate%2Fbsnow_con%2C%2Fprofile_1%2Fhigh_rate%2Fbsnow_dens%2C%2Fprofile_1%2Fhigh_rate%2Fbsnow_h%2C%2Fprofile_1%2Fhigh_rate%2Fbsnow_od%2C%2Fprofile_1%2Fhigh_rate%2Fbsnow_psc%2C%2Fprofile_1%2Fhigh_rate%2Fcloud_flag_asr%2C%2Fprofile_1%2Fhigh_rate%2Fcloud_flag_atm%2C%2Fprofile_1%2Fhigh_rate%2Fcloud_fold_flag%2C%2Fprofile_1%2Fhigh_rate%2Fcolumn_od_asr%2C%2Fprofile_1%2Fhigh_rate%2Fcolumn_od_asr_qf%2C%2Fprofile_1%2Fhigh_rate%2Flatitude%2C%2Fprofile_1%2Fhigh_rate%2Flayer_attr%2C%2Fprofile_1%2Fhigh_rate%2Flayer_bot%2C%2Fprofile_1%2Fhigh_rate%2Flayer_dens%2C%2Fprofile_1%2Fhigh_rate%2Flayer_flag%2C%2Fprofile_1%2Fhigh_rate%2Flayer_ib%2C%2Fprofile_1%2Fhigh_rate%2Flayer_top%2C%2Fprofile_1%2Fhigh_rate%2Flongitude%2C%2Fprofile_1%2Fhigh_rate%2Fmsw_flag%2C%2Fprofile_1%2Fhigh_rate%2Fprof_dist_x%2C%2Fprofile_1%2Fhigh_rate%2Fprof_dist_y%2C%2Fquality_assessment%2Fqa_granule_fail_reason%2C%2Fquality_assessment%2Fqa_granule_pass_fail%2C%2Fquality_assessment%2Fprofile_1%2Fasr_avg%2C%2Fquality_assessment%2Fprofile_2%2Fasr_avg%2C%2Fquality_assessment%2Fprofile_3%2Fasr_avg%2C%2Fquality_assessment%2Fprofile_1%2Fasr_max%2C%2Fquality_assessment%2Fprofile_2%2Fasr_max%2C%2Fquality_assessment%2Fprofile_3%2Fasr_max%2C%2Fquality_assessment%2Fprofile_1%2Fasr_min%2C%2Fquality_assessment%2Fprofile_2%2Fasr_min%2C%2Fquality_assessment%2Fprofile_3%2Fasr_min%2C%2Fquality_assessment%2Fprofile_1%2Fasr_std%2C%2Fquality_assessment%2Fprofile_2%2Fasr_std%2C%2Fquality_assessment%2Fprofile_3%2Fasr_std%2C%2Fquality_assessment%2Fprofile_1%2Fcab_mol_avg%2C%2Fquality_assessment%2Fprofile_2%2Fcab_mol_avg%2C%2Fquality_assessment%2Fprofile_3%2Fcab_mol_avg%2C%2Fquality_assessment%2Fprofile_1%2Fcld_asr_pct%2C%2Fquality_assessment%2Fprofile_2%2Fcld_asr_pct%2C%2Fquality_assessment%2Fprofile_3%2Fcld_asr_pct%2C%2Fquality_assessment%2Fprofile_1%2Fcld_avg%2C%2Fquality_assessment%2Fprofile_2%2Fcld_avg%2C%2Fquality_assessment%2Fprofile_3%2Fcld_avg%2C%2Fquality_assessment%2Fprofile_1%2Fcld_max%2C%2Fquality_assessment%2Fprofile_2%2Fcld_max%2C%2Fquality_assessment%2Fprofile_3%2Fcld_max%2C%2Fquality_assessment%2Fprofile_1%2Fcld_min%2C%2Fquality_assessment%2Fprofile_2%2Fcld_min%2C%2Fquality_assessment%2Fprofile_3%2Fcld_min%2C%2Fquality_assessment%2Fprofile_1%2Fcld_pct%2C%2Fquality_assessment%2Fprofile_2%2Fcld_pct%2C%2Fquality_assessment%2Fprofile_3%2Fcld_pct%2C%2Fquality_assessment%2Fprofile_1%2Fcod_avg%2C%2Fquality_assessment%2Fprofile_2%2Fcod_avg%2C%2Fquality_assessment%2Fprofile_3%2Fcod_avg%2C%2Fquality_assessment%2Fprofile_1%2Fcod_max%2C%2Fquality_assessment%2Fprofile_2%2Fcod_max%2C%2Fquality_assessment%2Fprofile_3%2Fcod_max%2C%2Fquality_assessment%2Fprofile_1%2Fcod_min%2C%2Fquality_assessment%2Fprofile_2%2Fcod_min%2C%2Fquality_assessment%2Fprofile_3%2Fcod_min%2C%2Fquality_assessment%2Fprofile_1%2Fosr_avg%2C%2Fquality_assessment%2Fprofile_2%2Fosr_avg%2C%2Fquality_assessment%2Fprofile_3%2Fosr_avg%2C%2Fquality_assessment%2Fprofile_1%2Fosr_max%2C%2Fquality_assessment%2Fprofile_2%2Fosr_max%2C%2Fquality_assessment%2Fprofile_3%2Fosr_max%2C%2Fquality_assessment%2Fprofile_1%2Fosr_min%2C%2Fquality_assessment%2Fprofile_2%2Fosr_min%2C%2Fquality_assessment%2Fprofile_3%2Fosr_min%2C%2Fquality_assessment%2Fprofile_1%2Fsurf_pct%2C%2Fquality_assessment%2Fprofile_2%2Fsurf_pct%2C%2Fquality_assessment%2Fprofile_3%2Fsurf_pct\n",
      "Order request response XML content:  b'<?xml version=\"1.0\" encoding=\"UTF-8\" standalone=\"yes\"?>\\n<eesi:agentResponse xsi:schemaLocation=\"http://eosdis.nasa.gov/esi/rsp/e https://newsroom.gsfc.nasa.gov/esi/8.1/schemas/ESIAgentResponseExternal.xsd\" xmlns=\"\" xmlns:iesi=\"http://eosdis.nasa.gov/esi/rsp/i\" xmlns:ssw=\"http://newsroom.gsfc.nasa.gov/esi/rsp/ssw\" xmlns:eesi=\"http://eosdis.nasa.gov/esi/rsp/e\" xmlns:esi=\"http://eosdis.nasa.gov/esi/rsp\" xmlns:xsi=\"http://www.w3.org/2001/XMLSchema-instance\">\\n    <order>\\n        <orderId>5000000499635</orderId>\\n        <Instructions>You may receive an email about your order if you specified an EMAIL address. &lt;br/&gt;&lt;br/&gt;The instructions used to process this order are:  Include metadata and processing history=Y. Bounding Box(es)=-55,68,-48,71. Band(s)=/ancillary_data/atlas_sdp_gps_epoch,/ancillary_data/control,/ancillary_data/data_end_utc,/ancillary_data/data_start_utc,/ancillary_data/end_cycle,/ancillary_data/end_delta_time,/ancillary_data/end_geoseg,/ancillary_data/end_gpssow,/ancillary_data/end_gpsweek,/ancillary_data/end_orbit,/ancillary_data/end_region,/ancillary_data/end_rgt,/ancillary_data/granule_end_utc,/ancillary_data/granule_start_utc,/ancillary_data/qa_at_interval,/ancillary_data/release,/ancillary_data/start_cycle,/ancillary_data/start_delta_time,/ancillary_data/start_geoseg,/ancillary_data/start_gpssow,/ancillary_data/start_gpsweek,/ancillary_data/start_orbit,/ancillary_data/start_region,/ancillary_data/start_rgt,/ancillary_data/version,/ancillary_data/atmosphere/aclr_use_atlas,/ancillary_data/atmosphere/alpha,/ancillary_data/atmosphere/a_m1,/ancillary_data/atmosphere/a_m2,/ancillary_data/atmosphere/asr_cal_factor,/ancillary_data/atmosphere/atlas_bandpass_fw,/ancillary_data/atmosphere/atlas_tele_fov,/ancillary_data/atmosphere/backg_max_solar_elev,/ancillary_data/atmosphere/backg_min_solar_elev,/ancillary_data/atmosphere/backg_select,/ancillary_data/atmosphere/bs_extinc_backs,/ancillary_data/atmosphere/bs_lay_max_size,/ancillary_data/atmosphere/bs_thresh_scale,/ancillary_data/atmosphere/bs_top_scale,/ancillary_data/atmosphere/bs_wind_thres,/ancillary_data/atmosphere/cal_bot_ht,/ancillary_data/atmosphere/cal_default,/ancillary_data/atmosphere/cal_lat_bound,/ancillary_data/atmosphere/cal_select,/ancillary_data/atmosphere/cal_top_ht,/ancillary_data/atmosphere/cloud_det_layer_thick,/ancillary_data/atmosphere/cutoff1,/ancillary_data/atmosphere/cutoff2,/ancillary_data/atmosphere/detector_efficiency,/ancillary_data/atmosphere/downsample1,/ancillary_data/atmosphere/downsample2,/ancillary_data/atmosphere/dtime_select,/ancillary_data/atmosphere/grd_search_width,/ancillary_data/atmosphere/layer_flag_cp1,/ancillary_data/atmosphere/layer_flag_cp2,/ancillary_data/atmosphere/layer_sep,/ancillary_data/atmosphere/layer_thick,/ancillary_data/atmosphere/max_layers,/ancillary_data/atmosphere/neighborhood1,/ancillary_data/atmosphere/neighborhood2,/ancillary_data/atmosphere/normalization1,/ancillary_data/atmosphere/normalization2,/ancillary_data/atmosphere/num_passes,/ancillary_data/atmosphere/phi_land,/ancillary_data/atmosphere/phi_ocean,/ancillary_data/atmosphere/planck_const,/ancillary_data/atmosphere/proc_interval,/ancillary_data/atmosphere/quantile1,/ancillary_data/atmosphere/quantile2,/ancillary_data/atmosphere/receiver_optical_throughput,/ancillary_data/atmosphere/sigma1,/ancillary_data/atmosphere/sigma2,/ancillary_data/atmosphere/size_threshold1,/ancillary_data/atmosphere/size_threshold2,/ancillary_data/atmosphere/snow_age,/ancillary_data/atmosphere/solar_flux,/ancillary_data/atmosphere/surface_signal_source,/ancillary_data/atmosphere/surf_min,/ancillary_data/atmosphere/telescope_area,/ancillary_data/atmosphere/thresh_bias1,/ancillary_data/atmosphere/thresh_bias2,/ancillary_data/atmosphere/threshold_segment_length1,/ancillary_data/atmosphere/threshold_segment_length2,/ancillary_data/atmosphere/thresh_sensitivity1,/ancillary_data/atmosphere/thresh_sensitivity2,/orbit_info/sc_orient,/profile_1/high_rate/delta_time,/quality_assessment/profile_1/delta_time,/quality_assessment/profile_2/delta_time,/quality_assessment/profile_3/delta_time,/profile_1/high_rate/apparent_surf_reflec,/profile_1/high_rate/bsnow_con,/profile_1/high_rate/bsnow_dens,/profile_1/high_rate/bsnow_h,/profile_1/high_rate/bsnow_od,/profile_1/high_rate/bsnow_psc,/profile_1/high_rate/cloud_flag_asr,/profile_1/high_rate/cloud_flag_atm,/profile_1/high_rate/cloud_fold_flag,/profile_1/high_rate/column_od_asr,/profile_1/high_rate/column_od_asr_qf,/profile_1/high_rate/latitude,/profile_1/high_rate/layer_attr,/profile_1/high_rate/layer_bot,/profile_1/high_rate/layer_dens,/profile_1/high_rate/layer_flag,/profile_1/high_rate/layer_ib,/profile_1/high_rate/layer_top,/profile_1/high_rate/longitude,/profile_1/high_rate/msw_flag,/profile_1/high_rate/prof_dist_x,/profile_1/high_rate/prof_dist_y,/quality_assessment/qa_granule_fail_reason,/quality_assessment/qa_granule_pass_fail,/quality_assessment/profile_1/asr_avg,/quality_assessment/profile_2/asr_avg,/quality_assessment/profile_3/asr_avg,/quality_assessment/profile_1/asr_max,/quality_assessment/profile_2/asr_max,/quality_assessment/profile_3/asr_max,/quality_assessment/profile_1/asr_min,/quality_assessment/profile_2/asr_min,/quality_assessment/profile_3/asr_min,/quality_assessment/profile_1/asr_std,/quality_assessment/profile_2/asr_std,/quality_assessment/profile_3/asr_std,/quality_assessment/profile_1/cab_mol_avg,/quality_assessment/profile_2/cab_mol_avg,/quality_assessment/profile_3/cab_mol_avg,/quality_assessment/profile_1/cld_asr_pct,/quality_assessment/profile_2/cld_asr_pct,/quality_assessment/profile_3/cld_asr_pct,/quality_assessment/profile_1/cld_avg,/quality_assessment/profile_2/cld_avg,/quality_assessment/profile_3/cld_avg,/quality_assessment/profile_1/cld_max,/quality_assessment/profile_2/cld_max,/quality_assessment/profile_3/cld_max,/quality_assessment/profile_1/cld_min,/quality_assessment/profile_2/cld_min,/quality_assessment/profile_3/cld_min,/quality_assessment/profile_1/cld_pct,/quality_assessment/profile_2/cld_pct,/quality_assessment/profile_3/cld_pct,/quality_assessment/profile_1/cod_avg,/quality_assessment/profile_2/cod_avg,/quality_assessment/profile_3/cod_avg,/quality_assessment/profile_1/cod_max,/quality_assessment/profile_2/cod_max,/quality_assessment/profile_3/cod_max,/quality_assessment/profile_1/cod_min,/quality_assessment/profile_2/cod_min,/quality_assessment/profile_3/cod_min,/quality_assessment/profile_1/osr_avg,/quality_assessment/profile_2/osr_avg,/quality_assessment/profile_3/osr_avg,/quality_assessment/profile_1/osr_max,/quality_assessment/profile_2/osr_max,/quality_assessment/profile_3/osr_max,/quality_assessment/profile_1/osr_min,/quality_assessment/profile_2/osr_min,/quality_assessment/profile_3/osr_min,/quality_assessment/profile_1/surf_pct,/quality_assessment/profile_2/surf_pct,/quality_assessment/profile_3/surf_pct. Granule id(s)=SC:ATL09.002:166458094,SC:ATL09.002:166459949,SC:ATL09.002:166458478. Temporal search start=2019-02-22T00:00:00 end=2019-02-28T23:59:59. Email address=liuzheng@apl.uw.edu. Processing tool=ICESAT2.</Instructions>\\n    </order>\\n    <contactInformation>\\n        <contactName>NSIDC User Services</contactName>\\n        <contactEmail>nsidc@nsidc.org</contactEmail>\\n    </contactInformation>\\n    <processInfo>\\n        <processDuration>PT0.250S</processDuration>\\n        <subagentId>ICESAT2</subagentId>\\n    </processInfo>\\n    <requestStatus>\\n        <status>processing</status>\\n        <numberProcessed>0</numberProcessed>\\n        <totalNumber>3</totalNumber>\\n    </requestStatus>\\n</eesi:agentResponse>\\n'\n",
      "<Element 'orderId' at 0x7f4b1fcbc9a8>\n",
      "<Element 'Instructions' at 0x7f4b1fcbcef8>\n",
      "order ID:  5000000499635\n",
      "status URL:  https://n5eil02u.ecs.nsidc.org/egi/request/5000000499635\n",
      "HTTP response from order response URL:  201\n",
      "Data request  1  is submitting...\n",
      "Initial request status is  processing\n",
      "Status is not complete. Trying again.\n",
      "Retry request status is:  complete\n"
     ]
    }
   ],
   "source": [
    "region_a.order_granules(session, verbose=True)"
   ]
  },
  {
   "cell_type": "code",
   "execution_count": 11,
   "metadata": {},
   "outputs": [
    {
     "name": "stdout",
     "output_type": "stream",
     "text": [
      "Beginning download of zipped output...\n",
      "Data request 5000000499635 of  1  order(s) is complete.\n"
     ]
    }
   ],
   "source": [
    "region_a.download_granules(session,'.')"
   ]
  },
  {
   "cell_type": "markdown",
   "metadata": {},
   "source": [
    "### Examine downloaded subset data file \n"
   ]
  },
  {
   "cell_type": "code",
   "execution_count": 12,
   "metadata": {},
   "outputs": [],
   "source": [
    "fn = '166458094/processed_ATL09_20190222003738_08490201_002_01.h5'"
   ]
  },
  {
   "cell_type": "markdown",
   "metadata": {},
   "source": [
    "#### Check the downloaded dataset\n",
    "Take ```latitude``` for example,"
   ]
  },
  {
   "cell_type": "code",
   "execution_count": 13,
   "metadata": {},
   "outputs": [
    {
     "name": "stdout",
     "output_type": "stream",
     "text": [
      "profile_1/high_rate/latitude\n"
     ]
    }
   ],
   "source": [
    "varname = 'latitude'\n",
    "#varname = 'sc_orient'\n",
    "\n",
    "varlist = []\n",
    "def IS2h5walk(vname, h5node):\n",
    "    if isinstance(h5node, h5py.Dataset):\n",
    "        varlist.append(vname)\n",
    "    return \n",
    "\n",
    "with h5py.File(fn,'r') as h5pt:\n",
    "    h5pt.visititems(IS2h5walk)\n",
    "    \n",
    "for tvar in varlist:\n",
    "    vpath,vn = os.path.split(tvar)\n",
    "    if vn==varname: print(tvar) "
   ]
  },
  {
   "cell_type": "markdown",
   "metadata": {},
   "source": [
    "#### Compare the varaible ```latitude``` in the original data and the subsetted dat"
   ]
  },
  {
   "cell_type": "code",
   "execution_count": 14,
   "metadata": {},
   "outputs": [
    {
     "data": {
      "text/plain": [
       "['profile_1/high_rate/latitude',\n",
       " 'profile_1/low_rate/latitude',\n",
       " 'profile_2/high_rate/latitude',\n",
       " 'profile_2/low_rate/latitude',\n",
       " 'profile_3/high_rate/latitude',\n",
       " 'profile_3/low_rate/latitude']"
      ]
     },
     "execution_count": 14,
     "metadata": {},
     "output_type": "execute_result"
    }
   ],
   "source": [
    "region_a.variables['latitude']"
   ]
  },
  {
   "cell_type": "code",
   "execution_count": null,
   "metadata": {},
   "outputs": [],
   "source": []
  },
  {
   "cell_type": "code",
   "execution_count": null,
   "metadata": {},
   "outputs": [],
   "source": []
  }
 ],
 "metadata": {
  "kernelspec": {
   "display_name": "Python 3",
   "language": "python",
   "name": "python3"
  },
  "language_info": {
   "codemirror_mode": {
    "name": "ipython",
    "version": 3
   },
   "file_extension": ".py",
   "mimetype": "text/x-python",
   "name": "python",
   "nbconvert_exporter": "python",
   "pygments_lexer": "ipython3",
   "version": "3.8.1"
  }
 },
 "nbformat": 4,
 "nbformat_minor": 4
}
