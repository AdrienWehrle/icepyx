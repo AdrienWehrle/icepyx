{
 "cells": [
  {
   "cell_type": "code",
   "execution_count": 1,
   "metadata": {},
   "outputs": [],
   "source": [
    "import numpy as np\n",
    "import xarray as xr\n",
    "import pandas as pd\n",
    "\n",
    "import h5py\n",
    "import os,json\n",
    "from pprint import pprint"
   ]
  },
  {
   "cell_type": "code",
   "execution_count": 2,
   "metadata": {},
   "outputs": [
    {
     "name": "stdout",
     "output_type": "stream",
     "text": [
      "/home/jovyan/icepyx\n"
     ]
    }
   ],
   "source": [
    "#change working directory\n",
    "%cd ../"
   ]
  },
  {
   "cell_type": "code",
   "execution_count": 3,
   "metadata": {},
   "outputs": [],
   "source": [
    "%load_ext autoreload\n",
    "%autoreload 2\n",
    "\n",
    "from icepyx import is2class as ipd"
   ]
  },
  {
   "cell_type": "markdown",
   "metadata": {},
   "source": [
    "### Choose a region for subsetting as well. Use the same region as in the core demo."
   ]
  },
  {
   "cell_type": "code",
   "execution_count": 4,
   "metadata": {},
   "outputs": [],
   "source": [
    "region_a = ipd.Icesat2Data('ATL09',[-55, 68, -48, 71],['2019-02-22','2019-02-28'], \\\n",
    "                           start_time='00:00:00', end_time='23:59:59', version='2')"
   ]
  },
  {
   "cell_type": "code",
   "execution_count": null,
   "metadata": {},
   "outputs": [],
   "source": [
    "region_07 = ipd.Icesat2Data('ATL07',[-55, 68, -48, 71],['2019-02-22','2019-02-28'], \\\n",
    "                           start_time='00:00:00', end_time='23:59:59', version='2')"
   ]
  },
  {
   "cell_type": "code",
   "execution_count": null,
   "metadata": {},
   "outputs": [],
   "source": [
    "session=region_a.earthdata_login('liuzheng','liuzheng@apl.uw.edu')"
   ]
  },
  {
   "cell_type": "code",
   "execution_count": 5,
   "metadata": {},
   "outputs": [
    {
     "name": "stdin",
     "output_type": "stream",
     "text": [
      "Earthdata Login password:  ········\n"
     ]
    },
    {
     "name": "stdout",
     "output_type": "stream",
     "text": [
      "<requests.sessions.Session object at 0x7f5b6610ad60>\n"
     ]
    }
   ],
   "source": [
    "session=region_a.earthdata_login('jessica.scheick','jessica.scheick@maine.edu')"
   ]
  },
  {
   "cell_type": "markdown",
   "metadata": {},
   "source": [
    "### Now, generate variable dictionary. \n",
    "Get the variable dictionary by parsing the dataset xml information from NSIDC, by calling ```show_custom_options(session)```. \n",
    "\n",
    "The data variables are stored in ```region_a._cust_options['variables']```. "
   ]
  },
  {
   "cell_type": "code",
   "execution_count": 6,
   "metadata": {
    "scrolled": true
   },
   "outputs": [
    {
     "name": "stdout",
     "output_type": "stream",
     "text": [
      "Subsetting options\n",
      "[{'id': 'ICESAT2',\n",
      "  'maxGransAsyncRequest': '2000',\n",
      "  'maxGransSyncRequest': '100',\n",
      "  'spatialSubsetting': 'true',\n",
      "  'spatialSubsettingShapefile': 'true',\n",
      "  'temporalSubsetting': 'true',\n",
      "  'type': 'both'}]\n",
      "Data File Formats (Reformatting Options)\n",
      "['TABULAR_ASCII', 'NetCDF4-CF', 'Shapefile', 'NetCDF-3']\n",
      "Reprojection Options\n",
      "[]\n",
      "Data File (Reformatting) Options Supporting Reprojection\n",
      "['TABULAR_ASCII', 'NetCDF4-CF', 'Shapefile', 'NetCDF-3', 'No reformatting']\n",
      "Data File (Reformatting) Options NOT Supporting Reprojection\n",
      "[]\n",
      "Data Variables (also Subsettable)\n",
      "{'a_m1': ['ancillary_data/atmosphere/a_m1'],\n",
      " 'a_m2': ['ancillary_data/atmosphere/a_m2'],\n",
      " 'aclr_true': ['profile_1/high_rate/aclr_true',\n",
      "               'profile_2/high_rate/aclr_true',\n",
      "               'profile_3/high_rate/aclr_true'],\n",
      " 'aclr_use_atlas': ['ancillary_data/atmosphere/aclr_use_atlas'],\n",
      " 'alpha': ['ancillary_data/atmosphere/alpha'],\n",
      " 'apparent_surf_reflec': ['profile_1/high_rate/apparent_surf_reflec',\n",
      "                          'profile_2/high_rate/apparent_surf_reflec',\n",
      "                          'profile_3/high_rate/apparent_surf_reflec'],\n",
      " 'asr_avg': ['quality_assessment/profile_1/asr_avg',\n",
      "             'quality_assessment/profile_2/asr_avg',\n",
      "             'quality_assessment/profile_3/asr_avg'],\n",
      " 'asr_cal_factor': ['ancillary_data/atmosphere/asr_cal_factor'],\n",
      " 'asr_max': ['quality_assessment/profile_1/asr_max',\n",
      "             'quality_assessment/profile_2/asr_max',\n",
      "             'quality_assessment/profile_3/asr_max'],\n",
      " 'asr_min': ['quality_assessment/profile_1/asr_min',\n",
      "             'quality_assessment/profile_2/asr_min',\n",
      "             'quality_assessment/profile_3/asr_min'],\n",
      " 'asr_std': ['quality_assessment/profile_1/asr_std',\n",
      "             'quality_assessment/profile_2/asr_std',\n",
      "             'quality_assessment/profile_3/asr_std'],\n",
      " 'atlas_bandpass_fw': ['ancillary_data/atmosphere/atlas_bandpass_fw'],\n",
      " 'atlas_sdp_gps_epoch': ['ancillary_data/atlas_sdp_gps_epoch'],\n",
      " 'atlas_tele_fov': ['ancillary_data/atmosphere/atlas_tele_fov'],\n",
      " 'backg_c': ['profile_1/high_rate/backg_c',\n",
      "             'profile_2/high_rate/backg_c',\n",
      "             'profile_3/high_rate/backg_c'],\n",
      " 'backg_max_solar_elev': ['ancillary_data/atmosphere/backg_max_solar_elev'],\n",
      " 'backg_min_solar_elev': ['ancillary_data/atmosphere/backg_min_solar_elev'],\n",
      " 'backg_select': ['ancillary_data/atmosphere/backg_select'],\n",
      " 'backg_theoret': ['profile_1/high_rate/backg_theoret',\n",
      "                   'profile_2/high_rate/backg_theoret',\n",
      "                   'profile_3/high_rate/backg_theoret'],\n",
      " 'bckgrd_counts': ['profile_1/bckgrd_atlas/bckgrd_counts',\n",
      "                   'profile_2/bckgrd_atlas/bckgrd_counts',\n",
      "                   'profile_3/bckgrd_atlas/bckgrd_counts'],\n",
      " 'bckgrd_counts_reduced': ['profile_1/bckgrd_atlas/bckgrd_counts_reduced',\n",
      "                           'profile_2/bckgrd_atlas/bckgrd_counts_reduced',\n",
      "                           'profile_3/bckgrd_atlas/bckgrd_counts_reduced'],\n",
      " 'bckgrd_hist_top': ['profile_1/bckgrd_atlas/bckgrd_hist_top',\n",
      "                     'profile_2/bckgrd_atlas/bckgrd_hist_top',\n",
      "                     'profile_3/bckgrd_atlas/bckgrd_hist_top'],\n",
      " 'bckgrd_int_height': ['profile_1/bckgrd_atlas/bckgrd_int_height',\n",
      "                       'profile_2/bckgrd_atlas/bckgrd_int_height',\n",
      "                       'profile_3/bckgrd_atlas/bckgrd_int_height'],\n",
      " 'bckgrd_int_height_reduced': ['profile_1/bckgrd_atlas/bckgrd_int_height_reduced',\n",
      "                               'profile_2/bckgrd_atlas/bckgrd_int_height_reduced',\n",
      "                               'profile_3/bckgrd_atlas/bckgrd_int_height_reduced'],\n",
      " 'bckgrd_rate': ['profile_1/bckgrd_atlas/bckgrd_rate',\n",
      "                 'profile_2/bckgrd_atlas/bckgrd_rate',\n",
      "                 'profile_3/bckgrd_atlas/bckgrd_rate'],\n",
      " 'beam_azimuth': ['profile_1/high_rate/beam_azimuth',\n",
      "                  'profile_2/high_rate/beam_azimuth',\n",
      "                  'profile_3/high_rate/beam_azimuth'],\n",
      " 'beam_elevation': ['profile_1/high_rate/beam_elevation',\n",
      "                    'profile_2/high_rate/beam_elevation',\n",
      "                    'profile_3/high_rate/beam_elevation'],\n",
      " 'bs_extinc_backs': ['ancillary_data/atmosphere/bs_extinc_backs'],\n",
      " 'bs_lay_max_size': ['ancillary_data/atmosphere/bs_lay_max_size'],\n",
      " 'bs_thresh_scale': ['ancillary_data/atmosphere/bs_thresh_scale'],\n",
      " 'bs_top_scale': ['ancillary_data/atmosphere/bs_top_scale'],\n",
      " 'bs_wind_thres': ['ancillary_data/atmosphere/bs_wind_thres'],\n",
      " 'bsnow_con': ['profile_1/high_rate/bsnow_con',\n",
      "               'profile_1/low_rate/bsnow_con',\n",
      "               'profile_2/high_rate/bsnow_con',\n",
      "               'profile_2/low_rate/bsnow_con',\n",
      "               'profile_3/high_rate/bsnow_con',\n",
      "               'profile_3/low_rate/bsnow_con'],\n",
      " 'bsnow_dens': ['profile_1/high_rate/bsnow_dens',\n",
      "                'profile_2/high_rate/bsnow_dens',\n",
      "                'profile_3/high_rate/bsnow_dens'],\n",
      " 'bsnow_h': ['profile_1/high_rate/bsnow_h',\n",
      "             'profile_1/low_rate/bsnow_h',\n",
      "             'profile_2/high_rate/bsnow_h',\n",
      "             'profile_2/low_rate/bsnow_h',\n",
      "             'profile_3/high_rate/bsnow_h',\n",
      "             'profile_3/low_rate/bsnow_h'],\n",
      " 'bsnow_h_dens': ['profile_1/high_rate/bsnow_h_dens',\n",
      "                  'profile_2/high_rate/bsnow_h_dens',\n",
      "                  'profile_3/high_rate/bsnow_h_dens'],\n",
      " 'bsnow_od': ['profile_1/high_rate/bsnow_od',\n",
      "              'profile_1/low_rate/bsnow_od',\n",
      "              'profile_2/high_rate/bsnow_od',\n",
      "              'profile_2/low_rate/bsnow_od',\n",
      "              'profile_3/high_rate/bsnow_od',\n",
      "              'profile_3/low_rate/bsnow_od'],\n",
      " 'bsnow_prob': ['profile_1/low_rate/bsnow_prob',\n",
      "                'profile_2/low_rate/bsnow_prob',\n",
      "                'profile_3/low_rate/bsnow_prob'],\n",
      " 'bsnow_psc': ['profile_1/high_rate/bsnow_psc',\n",
      "               'profile_1/low_rate/bsnow_psc',\n",
      "               'profile_2/high_rate/bsnow_psc',\n",
      "               'profile_2/low_rate/bsnow_psc',\n",
      "               'profile_3/high_rate/bsnow_psc',\n",
      "               'profile_3/low_rate/bsnow_psc'],\n",
      " 'cab_mol_avg': ['quality_assessment/profile_1/cab_mol_avg',\n",
      "                 'quality_assessment/profile_2/cab_mol_avg',\n",
      "                 'quality_assessment/profile_3/cab_mol_avg'],\n",
      " 'cab_prof': ['profile_1/high_rate/cab_prof',\n",
      "              'profile_2/high_rate/cab_prof',\n",
      "              'profile_3/high_rate/cab_prof'],\n",
      " 'cal_bot_ht': ['ancillary_data/atmosphere/cal_bot_ht'],\n",
      " 'cal_c': ['profile_1/low_rate/cal_c',\n",
      "           'profile_2/low_rate/cal_c',\n",
      "           'profile_3/low_rate/cal_c'],\n",
      " 'cal_default': ['ancillary_data/atmosphere/cal_default'],\n",
      " 'cal_lat_bound': ['ancillary_data/atmosphere/cal_lat_bound'],\n",
      " 'cal_select': ['ancillary_data/atmosphere/cal_select'],\n",
      " 'cal_top_ht': ['ancillary_data/atmosphere/cal_top_ht'],\n",
      " 'cld_asr_pct': ['quality_assessment/profile_1/cld_asr_pct',\n",
      "                 'quality_assessment/profile_2/cld_asr_pct',\n",
      "                 'quality_assessment/profile_3/cld_asr_pct'],\n",
      " 'cld_avg': ['quality_assessment/profile_1/cld_avg',\n",
      "             'quality_assessment/profile_2/cld_avg',\n",
      "             'quality_assessment/profile_3/cld_avg'],\n",
      " 'cld_max': ['quality_assessment/profile_1/cld_max',\n",
      "             'quality_assessment/profile_2/cld_max',\n",
      "             'quality_assessment/profile_3/cld_max'],\n",
      " 'cld_min': ['quality_assessment/profile_1/cld_min',\n",
      "             'quality_assessment/profile_2/cld_min',\n",
      "             'quality_assessment/profile_3/cld_min'],\n",
      " 'cld_pct': ['quality_assessment/profile_1/cld_pct',\n",
      "             'quality_assessment/profile_2/cld_pct',\n",
      "             'quality_assessment/profile_3/cld_pct'],\n",
      " 'cloud_det_layer_thick': ['ancillary_data/atmosphere/cloud_det_layer_thick'],\n",
      " 'cloud_flag_asr': ['profile_1/high_rate/cloud_flag_asr',\n",
      "                    'profile_2/high_rate/cloud_flag_asr',\n",
      "                    'profile_3/high_rate/cloud_flag_asr'],\n",
      " 'cloud_flag_atm': ['profile_1/high_rate/cloud_flag_atm',\n",
      "                    'profile_2/high_rate/cloud_flag_atm',\n",
      "                    'profile_3/high_rate/cloud_flag_atm'],\n",
      " 'cloud_fold_flag': ['profile_1/high_rate/cloud_fold_flag',\n",
      "                     'profile_2/high_rate/cloud_fold_flag',\n",
      "                     'profile_3/high_rate/cloud_fold_flag'],\n",
      " 'cod_avg': ['quality_assessment/profile_1/cod_avg',\n",
      "             'quality_assessment/profile_2/cod_avg',\n",
      "             'quality_assessment/profile_3/cod_avg'],\n",
      " 'cod_max': ['quality_assessment/profile_1/cod_max',\n",
      "             'quality_assessment/profile_2/cod_max',\n",
      "             'quality_assessment/profile_3/cod_max'],\n",
      " 'cod_min': ['quality_assessment/profile_1/cod_min',\n",
      "             'quality_assessment/profile_2/cod_min',\n",
      "             'quality_assessment/profile_3/cod_min'],\n",
      " 'column_od_asr': ['profile_1/high_rate/column_od_asr',\n",
      "                   'profile_2/high_rate/column_od_asr',\n",
      "                   'profile_3/high_rate/column_od_asr'],\n",
      " 'column_od_asr_qf': ['profile_1/high_rate/column_od_asr_qf',\n",
      "                      'profile_2/high_rate/column_od_asr_qf',\n",
      "                      'profile_3/high_rate/column_od_asr_qf'],\n",
      " 'control': ['ancillary_data/control'],\n",
      " 'crossing_time': ['orbit_info/crossing_time'],\n",
      " 'cutoff1': ['ancillary_data/atmosphere/cutoff1'],\n",
      " 'cutoff2': ['ancillary_data/atmosphere/cutoff2'],\n",
      " 'cycle_number': ['orbit_info/cycle_number'],\n",
      " 'data_end_utc': ['ancillary_data/data_end_utc'],\n",
      " 'data_start_utc': ['ancillary_data/data_start_utc'],\n",
      " 'delta_time': ['profile_1/bckgrd_atlas/delta_time',\n",
      "                'profile_1/high_rate/delta_time',\n",
      "                'profile_1/low_rate/delta_time',\n",
      "                'profile_2/bckgrd_atlas/delta_time',\n",
      "                'profile_2/high_rate/delta_time',\n",
      "                'profile_2/low_rate/delta_time',\n",
      "                'profile_3/bckgrd_atlas/delta_time',\n",
      "                'profile_3/high_rate/delta_time',\n",
      "                'profile_3/low_rate/delta_time',\n",
      "                'quality_assessment/profile_1/delta_time',\n",
      "                'quality_assessment/profile_2/delta_time',\n",
      "                'quality_assessment/profile_3/delta_time'],\n",
      " 'dem_flag': ['profile_1/high_rate/dem_flag',\n",
      "              'profile_2/high_rate/dem_flag',\n",
      "              'profile_3/high_rate/dem_flag'],\n",
      " 'dem_h': ['profile_1/high_rate/dem_h',\n",
      "           'profile_2/high_rate/dem_h',\n",
      "           'profile_3/high_rate/dem_h'],\n",
      " 'density_pass1': ['profile_1/high_rate/density_pass1',\n",
      "                   'profile_2/high_rate/density_pass1',\n",
      "                   'profile_3/high_rate/density_pass1'],\n",
      " 'density_pass2': ['profile_1/high_rate/density_pass2',\n",
      "                   'profile_2/high_rate/density_pass2',\n",
      "                   'profile_3/high_rate/density_pass2'],\n",
      " 'detector_efficiency': ['ancillary_data/atmosphere/detector_efficiency'],\n",
      " 'downsample1': ['ancillary_data/atmosphere/downsample1'],\n",
      " 'downsample2': ['ancillary_data/atmosphere/downsample2'],\n",
      " 'ds_layers': ['profile_1/high_rate/ds_layers',\n",
      "               'profile_2/high_rate/ds_layers',\n",
      "               'profile_3/high_rate/ds_layers'],\n",
      " 'ds_surf_type': ['ds_surf_type'],\n",
      " 'ds_va_bin_h': ['profile_1/high_rate/ds_va_bin_h',\n",
      "                 'profile_1/low_rate/ds_va_bin_h',\n",
      "                 'profile_2/high_rate/ds_va_bin_h',\n",
      "                 'profile_2/low_rate/ds_va_bin_h',\n",
      "                 'profile_3/high_rate/ds_va_bin_h',\n",
      "                 'profile_3/low_rate/ds_va_bin_h'],\n",
      " 'dtime_fac1': ['profile_1/high_rate/dtime_fac1',\n",
      "                'profile_2/high_rate/dtime_fac1',\n",
      "                'profile_3/high_rate/dtime_fac1'],\n",
      " 'dtime_fac2': ['profile_1/high_rate/dtime_fac2',\n",
      "                'profile_2/high_rate/dtime_fac2',\n",
      "                'profile_3/high_rate/dtime_fac2'],\n",
      " 'dtime_select': ['ancillary_data/atmosphere/dtime_select'],\n",
      " 'end_cycle': ['ancillary_data/end_cycle'],\n",
      " 'end_delta_time': ['ancillary_data/end_delta_time'],\n",
      " 'end_geoseg': ['ancillary_data/end_geoseg'],\n",
      " 'end_gpssow': ['ancillary_data/end_gpssow'],\n",
      " 'end_gpsweek': ['ancillary_data/end_gpsweek'],\n",
      " 'end_orbit': ['ancillary_data/end_orbit'],\n",
      " 'end_region': ['ancillary_data/end_region'],\n",
      " 'end_rgt': ['ancillary_data/end_rgt'],\n",
      " 'granule_end_utc': ['ancillary_data/granule_end_utc'],\n",
      " 'granule_start_utc': ['ancillary_data/granule_start_utc'],\n",
      " 'grd_search_width': ['ancillary_data/atmosphere/grd_search_width'],\n",
      " 'lan': ['orbit_info/lan'],\n",
      " 'latitude': ['profile_1/high_rate/latitude',\n",
      "              'profile_1/low_rate/latitude',\n",
      "              'profile_2/high_rate/latitude',\n",
      "              'profile_2/low_rate/latitude',\n",
      "              'profile_3/high_rate/latitude',\n",
      "              'profile_3/low_rate/latitude'],\n",
      " 'layer_attr': ['profile_1/high_rate/layer_attr',\n",
      "                'profile_2/high_rate/layer_attr',\n",
      "                'profile_3/high_rate/layer_attr'],\n",
      " 'layer_bot': ['profile_1/high_rate/layer_bot',\n",
      "               'profile_2/high_rate/layer_bot',\n",
      "               'profile_3/high_rate/layer_bot'],\n",
      " 'layer_con': ['profile_1/high_rate/layer_con',\n",
      "               'profile_2/high_rate/layer_con',\n",
      "               'profile_3/high_rate/layer_con'],\n",
      " 'layer_conf_dens': ['profile_1/high_rate/layer_conf_dens',\n",
      "                     'profile_2/high_rate/layer_conf_dens',\n",
      "                     'profile_3/high_rate/layer_conf_dens'],\n",
      " 'layer_dens': ['profile_1/high_rate/layer_dens',\n",
      "                'profile_2/high_rate/layer_dens',\n",
      "                'profile_3/high_rate/layer_dens'],\n",
      " 'layer_flag': ['profile_1/high_rate/layer_flag',\n",
      "                'profile_2/high_rate/layer_flag',\n",
      "                'profile_3/high_rate/layer_flag'],\n",
      " 'layer_flag_cp1': ['ancillary_data/atmosphere/layer_flag_cp1'],\n",
      " 'layer_flag_cp2': ['ancillary_data/atmosphere/layer_flag_cp2'],\n",
      " 'layer_ib': ['profile_1/high_rate/layer_ib',\n",
      "              'profile_2/high_rate/layer_ib',\n",
      "              'profile_3/high_rate/layer_ib'],\n",
      " 'layer_sep': ['ancillary_data/atmosphere/layer_sep'],\n",
      " 'layer_thick': ['ancillary_data/atmosphere/layer_thick'],\n",
      " 'layer_top': ['profile_1/high_rate/layer_top',\n",
      "               'profile_2/high_rate/layer_top',\n",
      "               'profile_3/high_rate/layer_top'],\n",
      " 'longitude': ['profile_1/high_rate/longitude',\n",
      "               'profile_1/low_rate/longitude',\n",
      "               'profile_2/high_rate/longitude',\n",
      "               'profile_2/low_rate/longitude',\n",
      "               'profile_3/high_rate/longitude',\n",
      "               'profile_3/low_rate/longitude'],\n",
      " 'max_layers': ['ancillary_data/atmosphere/max_layers'],\n",
      " 'met_cldprs': ['profile_1/low_rate/met_cldprs',\n",
      "                'profile_2/low_rate/met_cldprs',\n",
      "                'profile_3/low_rate/met_cldprs'],\n",
      " 'met_ps': ['profile_1/low_rate/met_ps',\n",
      "            'profile_2/low_rate/met_ps',\n",
      "            'profile_3/low_rate/met_ps'],\n",
      " 'met_qv10m': ['profile_1/low_rate/met_qv10m',\n",
      "               'profile_2/low_rate/met_qv10m',\n",
      "               'profile_3/low_rate/met_qv10m'],\n",
      " 'met_qv2m': ['profile_1/low_rate/met_qv2m',\n",
      "              'profile_2/low_rate/met_qv2m',\n",
      "              'profile_3/low_rate/met_qv2m'],\n",
      " 'met_slp': ['profile_1/low_rate/met_slp',\n",
      "             'profile_2/low_rate/met_slp',\n",
      "             'profile_3/low_rate/met_slp'],\n",
      " 'met_t10m': ['profile_1/low_rate/met_t10m',\n",
      "              'profile_2/low_rate/met_t10m',\n",
      "              'profile_3/low_rate/met_t10m'],\n",
      " 'met_t2m': ['profile_1/low_rate/met_t2m',\n",
      "             'profile_2/low_rate/met_t2m',\n",
      "             'profile_3/low_rate/met_t2m'],\n",
      " 'met_tqi': ['profile_1/low_rate/met_tqi',\n",
      "             'profile_2/low_rate/met_tqi',\n",
      "             'profile_3/low_rate/met_tqi'],\n",
      " 'met_tql': ['profile_1/low_rate/met_tql',\n",
      "             'profile_2/low_rate/met_tql',\n",
      "             'profile_3/low_rate/met_tql'],\n",
      " 'met_troppb': ['profile_1/low_rate/met_troppb',\n",
      "                'profile_2/low_rate/met_troppb',\n",
      "                'profile_3/low_rate/met_troppb'],\n",
      " 'met_tropt': ['profile_1/low_rate/met_tropt',\n",
      "               'profile_2/low_rate/met_tropt',\n",
      "               'profile_3/low_rate/met_tropt'],\n",
      " 'met_ts': ['profile_1/low_rate/met_ts',\n",
      "            'profile_2/low_rate/met_ts',\n",
      "            'profile_3/low_rate/met_ts'],\n",
      " 'met_u10m': ['profile_1/low_rate/met_u10m',\n",
      "              'profile_2/low_rate/met_u10m',\n",
      "              'profile_3/low_rate/met_u10m'],\n",
      " 'met_u2m': ['profile_1/low_rate/met_u2m',\n",
      "             'profile_2/low_rate/met_u2m',\n",
      "             'profile_3/low_rate/met_u2m'],\n",
      " 'met_u50m': ['profile_1/low_rate/met_u50m',\n",
      "              'profile_2/low_rate/met_u50m',\n",
      "              'profile_3/low_rate/met_u50m'],\n",
      " 'met_v10m': ['profile_1/low_rate/met_v10m',\n",
      "              'profile_2/low_rate/met_v10m',\n",
      "              'profile_3/low_rate/met_v10m'],\n",
      " 'met_v2m': ['profile_1/low_rate/met_v2m',\n",
      "             'profile_2/low_rate/met_v2m',\n",
      "             'profile_3/low_rate/met_v2m'],\n",
      " 'met_v50m': ['profile_1/low_rate/met_v50m',\n",
      "              'profile_2/low_rate/met_v50m',\n",
      "              'profile_3/low_rate/met_v50m'],\n",
      " 'mol_backs_folded': ['profile_1/low_rate/mol_backs_folded',\n",
      "                      'profile_2/low_rate/mol_backs_folded',\n",
      "                      'profile_3/low_rate/mol_backs_folded'],\n",
      " 'mol_backscatter': ['profile_1/low_rate/mol_backscatter',\n",
      "                     'profile_2/low_rate/mol_backscatter',\n",
      "                     'profile_3/low_rate/mol_backscatter'],\n",
      " 'molec_bkscat_p': ['profile_1/low_rate/molec_bkscat_p',\n",
      "                    'profile_2/low_rate/molec_bkscat_p',\n",
      "                    'profile_3/low_rate/molec_bkscat_p'],\n",
      " 'molec_bkscat_rh': ['profile_1/low_rate/molec_bkscat_rh',\n",
      "                     'profile_2/low_rate/molec_bkscat_rh',\n",
      "                     'profile_3/low_rate/molec_bkscat_rh'],\n",
      " 'molec_bkscat_t': ['profile_1/low_rate/molec_bkscat_t',\n",
      "                    'profile_2/low_rate/molec_bkscat_t',\n",
      "                    'profile_3/low_rate/molec_bkscat_t'],\n",
      " 'molec_trans': ['profile_1/low_rate/molec_trans',\n",
      "                 'profile_2/low_rate/molec_trans',\n",
      "                 'profile_3/low_rate/molec_trans'],\n",
      " 'msw_flag': ['profile_1/high_rate/msw_flag',\n",
      "              'profile_2/high_rate/msw_flag',\n",
      "              'profile_3/high_rate/msw_flag'],\n",
      " 'neighborhood1': ['ancillary_data/atmosphere/neighborhood1'],\n",
      " 'neighborhood2': ['ancillary_data/atmosphere/neighborhood2'],\n",
      " 'normalization1': ['ancillary_data/atmosphere/normalization1'],\n",
      " 'normalization2': ['ancillary_data/atmosphere/normalization2'],\n",
      " 'num_passes': ['ancillary_data/atmosphere/num_passes'],\n",
      " 'ocean_surf_reflec': ['profile_1/high_rate/ocean_surf_reflec',\n",
      "                       'profile_2/high_rate/ocean_surf_reflec',\n",
      "                       'profile_3/high_rate/ocean_surf_reflec'],\n",
      " 'orbit_number': ['orbit_info/orbit_number'],\n",
      " 'osr_avg': ['quality_assessment/profile_1/osr_avg',\n",
      "             'quality_assessment/profile_2/osr_avg',\n",
      "             'quality_assessment/profile_3/osr_avg'],\n",
      " 'osr_max': ['quality_assessment/profile_1/osr_max',\n",
      "             'quality_assessment/profile_2/osr_max',\n",
      "             'quality_assessment/profile_3/osr_max'],\n",
      " 'osr_min': ['quality_assessment/profile_1/osr_min',\n",
      "             'quality_assessment/profile_2/osr_min',\n",
      "             'quality_assessment/profile_3/osr_min'],\n",
      " 'pce_mframe_cnt': ['profile_1/bckgrd_atlas/pce_mframe_cnt',\n",
      "                    'profile_1/high_rate/pce_mframe_cnt',\n",
      "                    'profile_2/bckgrd_atlas/pce_mframe_cnt',\n",
      "                    'profile_2/high_rate/pce_mframe_cnt',\n",
      "                    'profile_3/bckgrd_atlas/pce_mframe_cnt',\n",
      "                    'profile_3/high_rate/pce_mframe_cnt'],\n",
      " 'phi_land': ['ancillary_data/atmosphere/phi_land'],\n",
      " 'phi_ocean': ['ancillary_data/atmosphere/phi_ocean'],\n",
      " 'planck_const': ['ancillary_data/atmosphere/planck_const'],\n",
      " 'proc_interval': ['ancillary_data/atmosphere/proc_interval'],\n",
      " 'prof_dist_x': ['profile_1/high_rate/prof_dist_x',\n",
      "                 'profile_2/high_rate/prof_dist_x',\n",
      "                 'profile_3/high_rate/prof_dist_x'],\n",
      " 'prof_dist_y': ['profile_1/high_rate/prof_dist_y',\n",
      "                 'profile_2/high_rate/prof_dist_y',\n",
      "                 'profile_3/high_rate/prof_dist_y'],\n",
      " 'qa_at_interval': ['ancillary_data/qa_at_interval'],\n",
      " 'qa_granule_fail_reason': ['quality_assessment/qa_granule_fail_reason'],\n",
      " 'qa_granule_pass_fail': ['quality_assessment/qa_granule_pass_fail'],\n",
      " 'quantile1': ['ancillary_data/atmosphere/quantile1'],\n",
      " 'quantile2': ['ancillary_data/atmosphere/quantile2'],\n",
      " 'range_to_top': ['profile_1/high_rate/range_to_top',\n",
      "                  'profile_2/high_rate/range_to_top',\n",
      "                  'profile_3/high_rate/range_to_top'],\n",
      " 'receiver_optical_throughput': ['ancillary_data/atmosphere/receiver_optical_throughput'],\n",
      " 'release': ['ancillary_data/release'],\n",
      " 'rgt': ['orbit_info/rgt'],\n",
      " 'sc_orient': ['orbit_info/sc_orient'],\n",
      " 'sc_orient_time': ['orbit_info/sc_orient_time'],\n",
      " 'segment_id': ['profile_1/high_rate/segment_id',\n",
      "                'profile_2/high_rate/segment_id',\n",
      "                'profile_3/high_rate/segment_id'],\n",
      " 'sig_count_hi': ['profile_1/high_rate/sig_count_hi',\n",
      "                  'profile_2/high_rate/sig_count_hi',\n",
      "                  'profile_3/high_rate/sig_count_hi'],\n",
      " 'sig_count_low': ['profile_1/high_rate/sig_count_low',\n",
      "                   'profile_2/high_rate/sig_count_low',\n",
      "                   'profile_3/high_rate/sig_count_low'],\n",
      " 'sig_count_med': ['profile_1/high_rate/sig_count_med',\n",
      "                   'profile_2/high_rate/sig_count_med',\n",
      "                   'profile_3/high_rate/sig_count_med'],\n",
      " 'sig_h_mean_hi': ['profile_1/high_rate/sig_h_mean_hi',\n",
      "                   'profile_2/high_rate/sig_h_mean_hi',\n",
      "                   'profile_3/high_rate/sig_h_mean_hi'],\n",
      " 'sig_h_mean_low': ['profile_1/high_rate/sig_h_mean_low',\n",
      "                    'profile_2/high_rate/sig_h_mean_low',\n",
      "                    'profile_3/high_rate/sig_h_mean_low'],\n",
      " 'sig_h_mean_med': ['profile_1/high_rate/sig_h_mean_med',\n",
      "                    'profile_2/high_rate/sig_h_mean_med',\n",
      "                    'profile_3/high_rate/sig_h_mean_med'],\n",
      " 'sig_h_sdev_hi': ['profile_1/high_rate/sig_h_sdev_hi',\n",
      "                   'profile_2/high_rate/sig_h_sdev_hi',\n",
      "                   'profile_3/high_rate/sig_h_sdev_hi'],\n",
      " 'sig_h_sdev_low': ['profile_1/high_rate/sig_h_sdev_low',\n",
      "                    'profile_2/high_rate/sig_h_sdev_low',\n",
      "                    'profile_3/high_rate/sig_h_sdev_low'],\n",
      " 'sig_h_sdev_med': ['profile_1/high_rate/sig_h_sdev_med',\n",
      "                    'profile_2/high_rate/sig_h_sdev_med',\n",
      "                    'profile_3/high_rate/sig_h_sdev_med'],\n",
      " 'sigma1': ['ancillary_data/atmosphere/sigma1'],\n",
      " 'sigma2': ['ancillary_data/atmosphere/sigma2'],\n",
      " 'size_threshold1': ['ancillary_data/atmosphere/size_threshold1'],\n",
      " 'size_threshold2': ['ancillary_data/atmosphere/size_threshold2'],\n",
      " 'snow_age': ['ancillary_data/atmosphere/snow_age'],\n",
      " 'snow_ice': ['profile_1/high_rate/snow_ice',\n",
      "              'profile_2/high_rate/snow_ice',\n",
      "              'profile_3/high_rate/snow_ice'],\n",
      " 'solar_azimuth': ['profile_1/high_rate/solar_azimuth',\n",
      "                   'profile_2/high_rate/solar_azimuth',\n",
      "                   'profile_3/high_rate/solar_azimuth'],\n",
      " 'solar_elevation': ['profile_1/high_rate/solar_elevation',\n",
      "                     'profile_2/high_rate/solar_elevation',\n",
      "                     'profile_3/high_rate/solar_elevation'],\n",
      " 'solar_flux': ['ancillary_data/atmosphere/solar_flux'],\n",
      " 'start_cycle': ['ancillary_data/start_cycle'],\n",
      " 'start_delta_time': ['ancillary_data/start_delta_time'],\n",
      " 'start_geoseg': ['ancillary_data/start_geoseg'],\n",
      " 'start_gpssow': ['ancillary_data/start_gpssow'],\n",
      " 'start_gpsweek': ['ancillary_data/start_gpsweek'],\n",
      " 'start_orbit': ['ancillary_data/start_orbit'],\n",
      " 'start_region': ['ancillary_data/start_region'],\n",
      " 'start_rgt': ['ancillary_data/start_rgt'],\n",
      " 'surf_min': ['ancillary_data/atmosphere/surf_min'],\n",
      " 'surf_pct': ['quality_assessment/profile_1/surf_pct',\n",
      "              'quality_assessment/profile_2/surf_pct',\n",
      "              'quality_assessment/profile_3/surf_pct'],\n",
      " 'surf_refl_true': ['profile_1/high_rate/surf_refl_true',\n",
      "                    'profile_2/high_rate/surf_refl_true',\n",
      "                    'profile_3/high_rate/surf_refl_true'],\n",
      " 'surf_type': ['profile_1/high_rate/surf_type',\n",
      "               'profile_1/low_rate/surf_type',\n",
      "               'profile_2/high_rate/surf_type',\n",
      "               'profile_2/low_rate/surf_type',\n",
      "               'profile_3/high_rate/surf_type',\n",
      "               'profile_3/low_rate/surf_type'],\n",
      " 'surf_type_igbp': ['profile_1/high_rate/surf_type_igbp',\n",
      "                    'profile_2/high_rate/surf_type_igbp',\n",
      "                    'profile_3/high_rate/surf_type_igbp'],\n",
      " 'surface_bin': ['profile_1/high_rate/surface_bin',\n",
      "                 'profile_2/high_rate/surface_bin',\n",
      "                 'profile_3/high_rate/surface_bin'],\n",
      " 'surface_h_dens': ['profile_1/high_rate/surface_h_dens',\n",
      "                    'profile_2/high_rate/surface_h_dens',\n",
      "                    'profile_3/high_rate/surface_h_dens'],\n",
      " 'surface_height': ['profile_1/high_rate/surface_height',\n",
      "                    'profile_2/high_rate/surface_height',\n",
      "                    'profile_3/high_rate/surface_height'],\n",
      " 'surface_sig': ['profile_1/high_rate/surface_sig',\n",
      "                 'profile_2/high_rate/surface_sig',\n",
      "                 'profile_3/high_rate/surface_sig'],\n",
      " 'surface_signal_source': ['ancillary_data/atmosphere/surface_signal_source'],\n",
      " 'telescope_area': ['ancillary_data/atmosphere/telescope_area'],\n",
      " 'thresh_bias1': ['ancillary_data/atmosphere/thresh_bias1'],\n",
      " 'thresh_bias2': ['ancillary_data/atmosphere/thresh_bias2'],\n",
      " 'thresh_sensitivity1': ['ancillary_data/atmosphere/thresh_sensitivity1'],\n",
      " 'thresh_sensitivity2': ['ancillary_data/atmosphere/thresh_sensitivity2'],\n",
      " 'threshold_segment_length1': ['ancillary_data/atmosphere/threshold_segment_length1'],\n",
      " 'threshold_segment_length2': ['ancillary_data/atmosphere/threshold_segment_length2'],\n",
      " 'tx_pulse_energy': ['profile_1/high_rate/tx_pulse_energy',\n",
      "                     'profile_2/high_rate/tx_pulse_energy',\n",
      "                     'profile_3/high_rate/tx_pulse_energy'],\n",
      " 'version': ['ancillary_data/version']}\n"
     ]
    }
   ],
   "source": [
    "opts = region_a.show_custom_options(session,dictview=True)"
   ]
  },
  {
   "cell_type": "code",
   "execution_count": 9,
   "metadata": {},
   "outputs": [
    {
     "name": "stdout",
     "output_type": "stream",
     "text": [
      "you need to login\n"
     ]
    },
    {
     "ename": "AttributeError",
     "evalue": "'str' object has no attribute '_get_custom_options'",
     "output_type": "error",
     "traceback": [
      "\u001b[0;31m---------------------------------------------------------------------------\u001b[0m",
      "\u001b[0;31mAttributeError\u001b[0m                            Traceback (most recent call last)",
      "\u001b[0;32m<ipython-input-9-2fe006ed9b48>\u001b[0m in \u001b[0;36m<module>\u001b[0;34m\u001b[0m\n\u001b[0;32m----> 1\u001b[0;31m \u001b[0mregion_a\u001b[0m\u001b[0;34m.\u001b[0m\u001b[0mvariables\u001b[0m\u001b[0;34m.\u001b[0m\u001b[0mget_avail\u001b[0m\u001b[0;34m(\u001b[0m\u001b[0;34m)\u001b[0m\u001b[0;34m\u001b[0m\u001b[0;34m\u001b[0m\u001b[0m\n\u001b[0m",
      "\u001b[0;32m~/icepyx/icepyx/core/variables.py\u001b[0m in \u001b[0;36mget_avail\u001b[0;34m(self, **kwarg)\u001b[0m\n\u001b[1;32m     94\u001b[0m             \u001b[0;31m#DevGoal: get the possible list of variables from the dataset!! - this code won't work, as it's circular\u001b[0m\u001b[0;34m\u001b[0m\u001b[0;34m\u001b[0m\u001b[0;34m\u001b[0m\u001b[0m\n\u001b[1;32m     95\u001b[0m             \u001b[0;32mif\u001b[0m \u001b[0;32mnot\u001b[0m \u001b[0mhasattr\u001b[0m\u001b[0;34m(\u001b[0m\u001b[0mself\u001b[0m\u001b[0;34m.\u001b[0m\u001b[0msource\u001b[0m\u001b[0;34m,\u001b[0m \u001b[0;34m'_cust_options'\u001b[0m\u001b[0;34m)\u001b[0m\u001b[0;34m:\u001b[0m\u001b[0;34m\u001b[0m\u001b[0;34m\u001b[0m\u001b[0m\n\u001b[0;32m---> 96\u001b[0;31m                 \u001b[0mself\u001b[0m\u001b[0;34m.\u001b[0m\u001b[0mavail\u001b[0m \u001b[0;34m=\u001b[0m \u001b[0mself\u001b[0m\u001b[0;34m.\u001b[0m\u001b[0msource\u001b[0m\u001b[0;34m.\u001b[0m\u001b[0m_get_custom_options\u001b[0m\u001b[0;34m(\u001b[0m\u001b[0mself\u001b[0m\u001b[0;34m.\u001b[0m\u001b[0m_session\u001b[0m\u001b[0;34m)\u001b[0m\u001b[0;34m[\u001b[0m\u001b[0;34m'variables'\u001b[0m\u001b[0;34m]\u001b[0m\u001b[0;34m\u001b[0m\u001b[0;34m\u001b[0m\u001b[0m\n\u001b[0m\u001b[1;32m     97\u001b[0m \u001b[0;34m\u001b[0m\u001b[0m\n\u001b[1;32m     98\u001b[0m         \u001b[0;32melif\u001b[0m \u001b[0mself\u001b[0m\u001b[0;34m.\u001b[0m\u001b[0m_vartype\u001b[0m \u001b[0;34m==\u001b[0m \u001b[0;34m'file'\u001b[0m\u001b[0;34m:\u001b[0m\u001b[0;34m\u001b[0m\u001b[0;34m\u001b[0m\u001b[0m\n",
      "\u001b[0;31mAttributeError\u001b[0m: 'str' object has no attribute '_get_custom_options'"
     ]
    }
   ],
   "source": [
    "region_a.variables.get_avail()"
   ]
  },
  {
   "cell_type": "code",
   "execution_count": 38,
   "metadata": {},
   "outputs": [
    {
     "data": {
      "text/plain": [
       "<bound method Icesat2Data.variables of <icepyx.core.is2class.Icesat2Data object at 0x7f17caf559a0>>"
      ]
     },
     "execution_count": 38,
     "metadata": {},
     "output_type": "execute_result"
    }
   ],
   "source": [
    "region_a.variables"
   ]
  },
  {
   "cell_type": "code",
   "execution_count": 42,
   "metadata": {},
   "outputs": [
    {
     "name": "stdout",
     "output_type": "stream",
     "text": [
      "<requests.sessions.Session object at 0x7f17caf53c70>\n"
     ]
    },
    {
     "data": {
      "text/plain": [
       "{'Number of available granules': 3,\n",
       " 'Average size of granules (MB)': 2289.2321926752998,\n",
       " 'Total size of all granules (MB)': 6867.6965780259}"
      ]
     },
     "execution_count": 42,
     "metadata": {},
     "output_type": "execute_result"
    }
   ],
   "source": [
    "region_a.avail_granules()"
   ]
  },
  {
   "cell_type": "code",
   "execution_count": 43,
   "metadata": {},
   "outputs": [
    {
     "data": {
      "text/plain": [
       "<icepyx.core.granules.Granules at 0x7f17cb1dee80>"
      ]
     },
     "execution_count": 43,
     "metadata": {},
     "output_type": "execute_result"
    }
   ],
   "source": [
    "region_a.granules"
   ]
  },
  {
   "cell_type": "code",
   "execution_count": 45,
   "metadata": {},
   "outputs": [
    {
     "ename": "TypeError",
     "evalue": "get_avail() missing 2 required positional arguments: 'CMRparams' and 'reqparams'",
     "output_type": "error",
     "traceback": [
      "\u001b[0;31m---------------------------------------------------------------------------\u001b[0m",
      "\u001b[0;31mTypeError\u001b[0m                                 Traceback (most recent call last)",
      "\u001b[0;32m<ipython-input-45-b2e8034237f9>\u001b[0m in \u001b[0;36m<module>\u001b[0;34m\u001b[0m\n\u001b[0;32m----> 1\u001b[0;31m \u001b[0mregion_a\u001b[0m\u001b[0;34m.\u001b[0m\u001b[0mgranules\u001b[0m\u001b[0;34m.\u001b[0m\u001b[0mget_avail\u001b[0m\u001b[0;34m(\u001b[0m\u001b[0;34m)\u001b[0m\u001b[0;34m\u001b[0m\u001b[0;34m\u001b[0m\u001b[0m\n\u001b[0m",
      "\u001b[0;31mTypeError\u001b[0m: get_avail() missing 2 required positional arguments: 'CMRparams' and 'reqparams'"
     ]
    }
   ],
   "source": [
    "region_a.granules.get_avail()"
   ]
  },
  {
   "cell_type": "markdown",
   "metadata": {},
   "source": [
    "#### TESTING SECTION:\n",
    "##### Setup the user provided variable list to subset variables: Please TRY OUT the tests below. "
   ]
  },
  {
   "cell_type": "markdown",
   "metadata": {},
   "source": [
    "Options for inputting variables:\n",
    "1. Use a default list for the dataset (not yet fully implemented across all datasets)\n",
    "2. Provide a list of variable names, which will return all path-variable combinations (e.g. longitude will return longitude for both beams for all profiles)\n",
    "3. Provide a list of variable names and/or specific profiles/beams (not yet implemented).\n",
    "\n",
    "An example of each type of input is below."
   ]
  },
  {
   "cell_type": "markdown",
   "metadata": {},
   "source": [
    "#### Test 1:\n",
    "Add ```latitude``` for profile 1 and 2"
   ]
  },
  {
   "cell_type": "code",
   "execution_count": 38,
   "metadata": {},
   "outputs": [
    {
     "data": {
      "text/plain": [
       "{'sc_orient': ['orbit_info/sc_orient'],\n",
       " 'atlas_sdp_gps_epoch': ['ancillary_data/atlas_sdp_gps_epoch'],\n",
       " 'data_start_utc': ['ancillary_data/data_start_utc'],\n",
       " 'data_end_utc': ['ancillary_data/data_end_utc'],\n",
       " 'granule_start_utc': ['ancillary_data/granule_start_utc'],\n",
       " 'granule_end_utc': ['ancillary_data/granule_end_utc'],\n",
       " 'start_delta_time': ['ancillary_data/start_delta_time'],\n",
       " 'end_delta_time': ['ancillary_data/end_delta_time'],\n",
       " 'latitude': ['profile_1/high_rate/latitude',\n",
       "  'profile_1/low_rate/latitude',\n",
       "  'profile_2/high_rate/latitude',\n",
       "  'profile_2/low_rate/latitude']}"
      ]
     },
     "execution_count": 38,
     "metadata": {},
     "output_type": "execute_result"
    }
   ],
   "source": [
    "#default variables\n",
    "var_dict = region_a.build_wanted_var_list(beam_list=['profile_1','profile_2'],var_list=['latitude'])\n",
    "region_a.variables\n",
    "#pprint(var_dict)"
   ]
  },
  {
   "cell_type": "markdown",
   "metadata": {},
   "source": [
    "#### Test 2:\n",
    "Add ```latitude``` for profile 2 and overwrite"
   ]
  },
  {
   "cell_type": "code",
   "execution_count": 39,
   "metadata": {},
   "outputs": [
    {
     "data": {
      "text/plain": [
       "{'sc_orient': ['orbit_info/sc_orient'],\n",
       " 'atlas_sdp_gps_epoch': ['ancillary_data/atlas_sdp_gps_epoch'],\n",
       " 'data_start_utc': ['ancillary_data/data_start_utc'],\n",
       " 'data_end_utc': ['ancillary_data/data_end_utc'],\n",
       " 'granule_start_utc': ['ancillary_data/granule_start_utc'],\n",
       " 'granule_end_utc': ['ancillary_data/granule_end_utc'],\n",
       " 'start_delta_time': ['ancillary_data/start_delta_time'],\n",
       " 'end_delta_time': ['ancillary_data/end_delta_time'],\n",
       " 'latitude': ['profile_2/high_rate/latitude', 'profile_2/low_rate/latitude']}"
      ]
     },
     "execution_count": 39,
     "metadata": {},
     "output_type": "execute_result"
    }
   ],
   "source": [
    "region_a.build_wanted_var_list(beam_list=['profile_2'],var_list=['latitude'], append=False)\n",
    "region_a.variables"
   ]
  },
  {
   "cell_type": "markdown",
   "metadata": {},
   "source": [
    "#### Test 2B:\n",
    "Add ```latitude``` for profile 3 and overwrite (so profile_2 should be removed)"
   ]
  },
  {
   "cell_type": "code",
   "execution_count": 40,
   "metadata": {},
   "outputs": [
    {
     "data": {
      "text/plain": [
       "{'sc_orient': ['orbit_info/sc_orient'],\n",
       " 'atlas_sdp_gps_epoch': ['ancillary_data/atlas_sdp_gps_epoch'],\n",
       " 'data_start_utc': ['ancillary_data/data_start_utc'],\n",
       " 'data_end_utc': ['ancillary_data/data_end_utc'],\n",
       " 'granule_start_utc': ['ancillary_data/granule_start_utc'],\n",
       " 'granule_end_utc': ['ancillary_data/granule_end_utc'],\n",
       " 'start_delta_time': ['ancillary_data/start_delta_time'],\n",
       " 'end_delta_time': ['ancillary_data/end_delta_time'],\n",
       " 'latitude': ['profile_3/high_rate/latitude', 'profile_3/low_rate/latitude']}"
      ]
     },
     "execution_count": 40,
     "metadata": {},
     "output_type": "execute_result"
    }
   ],
   "source": [
    "region_a.build_wanted_var_list(beam_list=['profile_3'],var_list=['latitude'],append=False)\n",
    "region_a.variables"
   ]
  },
  {
   "cell_type": "markdown",
   "metadata": {},
   "source": [
    "#### Test 3:\n",
    "Add ```latitude``` for all profiles and with keyword ```low_rate``` and append"
   ]
  },
  {
   "cell_type": "code",
   "execution_count": 31,
   "metadata": {},
   "outputs": [
    {
     "data": {
      "text/plain": [
       "{'sc_orient': ['orbit_info/sc_orient'],\n",
       " 'atlas_sdp_gps_epoch': ['ancillary_data/atlas_sdp_gps_epoch'],\n",
       " 'data_start_utc': ['ancillary_data/data_start_utc'],\n",
       " 'data_end_utc': ['ancillary_data/data_end_utc'],\n",
       " 'granule_start_utc': ['ancillary_data/granule_start_utc'],\n",
       " 'granule_end_utc': ['ancillary_data/granule_end_utc'],\n",
       " 'start_delta_time': ['ancillary_data/start_delta_time'],\n",
       " 'end_delta_time': ['ancillary_data/end_delta_time'],\n",
       " 'latitude': ['profile_2/high_rate/latitude',\n",
       "  'profile_2/low_rate/latitude',\n",
       "  'profile_1/low_rate/latitude',\n",
       "  'profile_3/low_rate/latitude']}"
      ]
     },
     "execution_count": 31,
     "metadata": {},
     "output_type": "execute_result"
    }
   ],
   "source": [
    "#region_a.build_wanted_var_list(beam_list=['profile_3'],var_list=['latitude'],keyword_list=['low_rate'],append=True)\n",
    "region_a.build_wanted_var_list(var_list=['latitude'],keyword_list=['low_rate'],append=True)\n",
    "region_a.variables"
   ]
  },
  {
   "cell_type": "markdown",
   "metadata": {},
   "source": [
    "#### Before Test 4:\n",
    "Go back to test 2. Overwrite ```latitude``` for profile 2 only."
   ]
  },
  {
   "cell_type": "code",
   "execution_count": 32,
   "metadata": {},
   "outputs": [
    {
     "data": {
      "text/plain": [
       "{'sc_orient': ['orbit_info/sc_orient'],\n",
       " 'atlas_sdp_gps_epoch': ['ancillary_data/atlas_sdp_gps_epoch'],\n",
       " 'data_start_utc': ['ancillary_data/data_start_utc'],\n",
       " 'data_end_utc': ['ancillary_data/data_end_utc'],\n",
       " 'granule_start_utc': ['ancillary_data/granule_start_utc'],\n",
       " 'granule_end_utc': ['ancillary_data/granule_end_utc'],\n",
       " 'start_delta_time': ['ancillary_data/start_delta_time'],\n",
       " 'end_delta_time': ['ancillary_data/end_delta_time'],\n",
       " 'latitude': ['profile_2/high_rate/latitude', 'profile_2/low_rate/latitude']}"
      ]
     },
     "execution_count": 32,
     "metadata": {},
     "output_type": "execute_result"
    }
   ],
   "source": [
    "region_a.build_wanted_var_list(beam_list=['profile_2'],var_list=['latitude'],append=False)\n",
    "region_a.variables"
   ]
  },
  {
   "cell_type": "markdown",
   "metadata": {},
   "source": [
    "#### Test 5:\n",
    "Append ```latitude``` for profile 3 and ```high_rate``` only"
   ]
  },
  {
   "cell_type": "code",
   "execution_count": 33,
   "metadata": {},
   "outputs": [
    {
     "data": {
      "text/plain": [
       "{'sc_orient': ['orbit_info/sc_orient'],\n",
       " 'atlas_sdp_gps_epoch': ['ancillary_data/atlas_sdp_gps_epoch'],\n",
       " 'data_start_utc': ['ancillary_data/data_start_utc'],\n",
       " 'data_end_utc': ['ancillary_data/data_end_utc'],\n",
       " 'granule_start_utc': ['ancillary_data/granule_start_utc'],\n",
       " 'granule_end_utc': ['ancillary_data/granule_end_utc'],\n",
       " 'start_delta_time': ['ancillary_data/start_delta_time'],\n",
       " 'end_delta_time': ['ancillary_data/end_delta_time'],\n",
       " 'latitude': ['profile_2/high_rate/latitude',\n",
       "  'profile_2/low_rate/latitude',\n",
       "  'profile_1/low_rate/latitude',\n",
       "  'profile_3/high_rate/latitude',\n",
       "  'profile_3/low_rate/latitude']}"
      ]
     },
     "execution_count": 33,
     "metadata": {},
     "output_type": "execute_result"
    }
   ],
   "source": [
    "region_a.build_wanted_var_list(beam_list=['profile_3'],var_list=['latitude'],keyword_list=['low_rate'])\n",
    "region_a.variables"
   ]
  },
  {
   "cell_type": "markdown",
   "metadata": {},
   "source": [
    "#### Test 6:\n",
    "Add ```sc_orient_time``` under ```orbit_info```."
   ]
  },
  {
   "cell_type": "code",
   "execution_count": 34,
   "metadata": {},
   "outputs": [
    {
     "data": {
      "text/plain": [
       "{'sc_orient': ['orbit_info/sc_orient'],\n",
       " 'atlas_sdp_gps_epoch': ['ancillary_data/atlas_sdp_gps_epoch'],\n",
       " 'data_start_utc': ['ancillary_data/data_start_utc'],\n",
       " 'data_end_utc': ['ancillary_data/data_end_utc'],\n",
       " 'granule_start_utc': ['ancillary_data/granule_start_utc'],\n",
       " 'granule_end_utc': ['ancillary_data/granule_end_utc'],\n",
       " 'start_delta_time': ['ancillary_data/start_delta_time'],\n",
       " 'end_delta_time': ['ancillary_data/end_delta_time'],\n",
       " 'latitude': ['profile_2/high_rate/latitude',\n",
       "  'profile_2/low_rate/latitude',\n",
       "  'profile_1/low_rate/latitude',\n",
       "  'profile_3/high_rate/latitude',\n",
       "  'profile_3/low_rate/latitude'],\n",
       " 'sc_orient_time': ['orbit_info/sc_orient_time']}"
      ]
     },
     "execution_count": 34,
     "metadata": {},
     "output_type": "execute_result"
    }
   ],
   "source": [
    "region_a.build_wanted_var_list(keyword_list=['orbit_info'],var_list=['sc_orient_time'])\n",
    "region_a.variables"
   ]
  },
  {
   "cell_type": "markdown",
   "metadata": {},
   "source": [
    "#### Test 7:\n",
    "Add all variables under ```orbit_info``` but path to ```sc_orient_time``` should not be duplicated."
   ]
  },
  {
   "cell_type": "code",
   "execution_count": 35,
   "metadata": {},
   "outputs": [
    {
     "data": {
      "text/plain": [
       "{'sc_orient': ['orbit_info/sc_orient'],\n",
       " 'atlas_sdp_gps_epoch': ['ancillary_data/atlas_sdp_gps_epoch'],\n",
       " 'data_start_utc': ['ancillary_data/data_start_utc'],\n",
       " 'data_end_utc': ['ancillary_data/data_end_utc'],\n",
       " 'granule_start_utc': ['ancillary_data/granule_start_utc'],\n",
       " 'granule_end_utc': ['ancillary_data/granule_end_utc'],\n",
       " 'start_delta_time': ['ancillary_data/start_delta_time'],\n",
       " 'end_delta_time': ['ancillary_data/end_delta_time'],\n",
       " 'latitude': ['profile_2/high_rate/latitude',\n",
       "  'profile_2/low_rate/latitude',\n",
       "  'profile_1/low_rate/latitude',\n",
       "  'profile_3/high_rate/latitude',\n",
       "  'profile_3/low_rate/latitude'],\n",
       " 'sc_orient_time': ['orbit_info/sc_orient_time'],\n",
       " 'crossing_time': ['orbit_info/crossing_time'],\n",
       " 'cycle_number': ['orbit_info/cycle_number'],\n",
       " 'lan': ['orbit_info/lan'],\n",
       " 'orbit_number': ['orbit_info/orbit_number'],\n",
       " 'rgt': ['orbit_info/rgt']}"
      ]
     },
     "execution_count": 35,
     "metadata": {},
     "output_type": "execute_result"
    }
   ],
   "source": [
    "region_a.build_wanted_var_list(keyword_list=['orbit_info'],append=True)\n",
    "region_a.variables"
   ]
  },
  {
   "cell_type": "markdown",
   "metadata": {},
   "source": [
    "#### Test 8:\n",
    "Add all defaults for all beams and all keywords. After this, have to reinitialize ```region_a``` and regenerate variable dictionary to run the above tests again (unless you set ```append=False```). "
   ]
  },
  {
   "cell_type": "code",
   "execution_count": 36,
   "metadata": {},
   "outputs": [],
   "source": [
    "region_a.build_wanted_var_list(defaults=True)"
   ]
  },
  {
   "cell_type": "code",
   "execution_count": null,
   "metadata": {},
   "outputs": [],
   "source": []
  },
  {
   "cell_type": "code",
   "execution_count": null,
   "metadata": {},
   "outputs": [],
   "source": []
  },
  {
   "cell_type": "code",
   "execution_count": null,
   "metadata": {},
   "outputs": [],
   "source": [
    "#variable names + beams/profiles\n",
    "###STILL NEED TO MAKE THE BELOW POSSIBLE IN THE CODE"
   ]
  },
  {
   "cell_type": "markdown",
   "metadata": {},
   "source": [
    "### Setting params and download"
   ]
  },
  {
   "cell_type": "code",
   "execution_count": null,
   "metadata": {},
   "outputs": [],
   "source": [
    "region_a.build_CMR_params()\n",
    "region_a.build_reqconfig_params('download')"
   ]
  },
  {
   "cell_type": "code",
   "execution_count": null,
   "metadata": {},
   "outputs": [],
   "source": [
    "region_a.build_subset_params(**{'Coverage':var_dict})\n",
    "region_a.subsetparams"
   ]
  },
  {
   "cell_type": "code",
   "execution_count": null,
   "metadata": {},
   "outputs": [],
   "source": [
    "#Identical to above block, but enters the keywords with a different style\n",
    "region_a.build_subset_params(Coverage=var_dict)\n",
    "region_a.subsetparams"
   ]
  },
  {
   "cell_type": "code",
   "execution_count": null,
   "metadata": {},
   "outputs": [],
   "source": [
    "region_a.order_granules(session, verbose=True)"
   ]
  },
  {
   "cell_type": "code",
   "execution_count": null,
   "metadata": {},
   "outputs": [],
   "source": [
    "region_a.download_granules(session,'.')"
   ]
  },
  {
   "cell_type": "markdown",
   "metadata": {},
   "source": [
    "### Examine downloaded subset data file \n"
   ]
  },
  {
   "cell_type": "code",
   "execution_count": null,
   "metadata": {},
   "outputs": [],
   "source": [
    "fn = '166458094/processed_ATL09_20190222003738_08490201_002_01.h5'"
   ]
  },
  {
   "cell_type": "markdown",
   "metadata": {},
   "source": [
    "#### Check the downloaded dataset\n",
    "Take ```latitude``` for example,"
   ]
  },
  {
   "cell_type": "code",
   "execution_count": null,
   "metadata": {},
   "outputs": [],
   "source": [
    "varname = 'latitude'\n",
    "#varname = 'sc_orient'\n",
    "\n",
    "varlist = []\n",
    "def IS2h5walk(vname, h5node):\n",
    "    if isinstance(h5node, h5py.Dataset):\n",
    "        varlist.append(vname)\n",
    "    return \n",
    "\n",
    "with h5py.File(fn,'r') as h5pt:\n",
    "    h5pt.visititems(IS2h5walk)\n",
    "    \n",
    "for tvar in varlist:\n",
    "    vpath,vn = os.path.split(tvar)\n",
    "    if vn==varname: print(tvar) "
   ]
  },
  {
   "cell_type": "markdown",
   "metadata": {},
   "source": [
    "#### Compare the varaible ```latitude``` in the original data and the subsetted dat"
   ]
  },
  {
   "cell_type": "code",
   "execution_count": null,
   "metadata": {},
   "outputs": [],
   "source": [
    "region_a.variables['latitude']"
   ]
  },
  {
   "cell_type": "code",
   "execution_count": null,
   "metadata": {},
   "outputs": [],
   "source": [
    "', '.join(x) for x in ['gt1l','gt1r']"
   ]
  },
  {
   "cell_type": "code",
   "execution_count": null,
   "metadata": {},
   "outputs": [],
   "source": []
  },
  {
   "cell_type": "code",
   "execution_count": null,
   "metadata": {},
   "outputs": [],
   "source": []
  },
  {
   "cell_type": "markdown",
   "metadata": {},
   "source": [
    "## Look at variables from various datasets to generalize code"
   ]
  },
  {
   "cell_type": "code",
   "execution_count": null,
   "metadata": {},
   "outputs": [],
   "source": [
    "region_06 = ipd.Icesat2Data('ATL06',[-55, 68, -48, 71],['2019-02-22','2019-02-28'], \\\n",
    "                           start_time='00:00:00', end_time='23:59:59', version='2')"
   ]
  },
  {
   "cell_type": "code",
   "execution_count": null,
   "metadata": {},
   "outputs": [],
   "source": [
    "region_07 = ipd.Icesat2Data('ATL07',[-55, 68, -48, 71],['2019-02-22','2019-02-28'], \\\n",
    "                           start_time='00:00:00', end_time='23:59:59', version='2')"
   ]
  },
  {
   "cell_type": "code",
   "execution_count": null,
   "metadata": {},
   "outputs": [],
   "source": [
    "region_08 = ipd.Icesat2Data('ATL08',[-55, 68, -48, 71],['2019-02-22','2019-02-28'], \\\n",
    "                           start_time='00:00:00', end_time='23:59:59', version='2')"
   ]
  },
  {
   "cell_type": "code",
   "execution_count": null,
   "metadata": {},
   "outputs": [],
   "source": [
    "region_09 = ipd.Icesat2Data('ATL09',[-55, 68, -48, 71],['2019-02-22','2019-02-28'], \\\n",
    "                           start_time='00:00:00', end_time='23:59:59', version='2')"
   ]
  },
  {
   "cell_type": "code",
   "execution_count": null,
   "metadata": {},
   "outputs": [],
   "source": [
    "region_10 = ipd.Icesat2Data('ATL10',[-55, 68, -48, 71],['2019-02-22','2019-02-28'], \\\n",
    "                           start_time='00:00:00', end_time='23:59:59', version='2')"
   ]
  },
  {
   "cell_type": "code",
   "execution_count": null,
   "metadata": {},
   "outputs": [],
   "source": [
    "region_12 = ipd.Icesat2Data('ATL12',[-55, 68, -48, 71],['2019-02-22','2019-02-28'], \\\n",
    "                           start_time='00:00:00', end_time='23:59:59', version='2')"
   ]
  },
  {
   "cell_type": "code",
   "execution_count": null,
   "metadata": {},
   "outputs": [],
   "source": [
    "session=region_a.earthdata_login('liuzheng','liuzheng@apl.uw.edu')"
   ]
  },
  {
   "cell_type": "code",
   "execution_count": null,
   "metadata": {},
   "outputs": [],
   "source": [
    "session=region_06.earthdata_login('jessica.scheick','jessica.scheick@maine.edu')"
   ]
  },
  {
   "cell_type": "code",
   "execution_count": null,
   "metadata": {},
   "outputs": [],
   "source": [
    "dset = region_10\n",
    "dset.show_custom_options(session,dictview=True)"
   ]
  },
  {
   "cell_type": "code",
   "execution_count": null,
   "metadata": {},
   "outputs": [],
   "source": []
  },
  {
   "cell_type": "code",
   "execution_count": null,
   "metadata": {},
   "outputs": [],
   "source": [
    "## show the maximum depth for variables in dataset\n",
    "for dset in [region_06, region_07, region_08, region_09, region_10, region_12]:\n",
    "    dset._get_custom_options(session)\n",
    "    max_dep = 0\n",
    "    for vn in dset._cust_options['variables']:\n",
    "        wrds = vn.split('/')\n",
    "        if len(wrds)-1> max_dep: max_dep = len(wrds)-1\n",
    "    print(dset.dataset,max_dep)"
   ]
  },
  {
   "cell_type": "code",
   "execution_count": null,
   "metadata": {},
   "outputs": [],
   "source": [
    "vgrp, paths = region_10._parse_var_list(region_10._cust_options['variables'])\n",
    "import pprint\n",
    "pprint.pprint(vgrp)"
   ]
  },
  {
   "cell_type": "code",
   "execution_count": null,
   "metadata": {},
   "outputs": [],
   "source": [
    "vgrp.keys()"
   ]
  },
  {
   "cell_type": "code",
   "execution_count": null,
   "metadata": {},
   "outputs": [],
   "source": []
  },
  {
   "cell_type": "code",
   "execution_count": null,
   "metadata": {},
   "outputs": [],
   "source": []
  },
  {
   "cell_type": "code",
   "execution_count": null,
   "metadata": {
    "scrolled": true
   },
   "outputs": [],
   "source": [
    "for dset in [region_06, region_07, region_08, region_09, region_10, region_12]:\n",
    "    dset.show_custom_options(session, dictview=True)"
   ]
  },
  {
   "cell_type": "code",
   "execution_count": null,
   "metadata": {},
   "outputs": [],
   "source": []
  },
  {
   "cell_type": "code",
   "execution_count": null,
   "metadata": {},
   "outputs": [],
   "source": [
    "d=6\n",
    "for dset in [region_06, region_07, region_08, region_09, region_10, region_12]:\n",
    "    vgrp, paths = dset._parse_var_list(dset._cust_options['variables'])\n",
    "    print(d)\n",
    "    d=d+1\n",
    "    for p in paths:\n",
    "        print(np.unique(np.array(p)))\n",
    "    print(np.unique(np.array(vgrp.keys())))"
   ]
  },
  {
   "cell_type": "code",
   "execution_count": null,
   "metadata": {},
   "outputs": [],
   "source": []
  }
 ],
 "metadata": {
  "kernelspec": {
   "display_name": "Python 3",
   "language": "python",
   "name": "python3"
  },
  "language_info": {
   "codemirror_mode": {
    "name": "ipython",
    "version": 3
   },
   "file_extension": ".py",
   "mimetype": "text/x-python",
   "name": "python",
   "nbconvert_exporter": "python",
   "pygments_lexer": "ipython3",
   "version": "3.8.2"
  }
 },
 "nbformat": 4,
 "nbformat_minor": 4
}
