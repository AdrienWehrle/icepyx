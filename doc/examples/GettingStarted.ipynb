{
 "cells": [
  {
   "cell_type": "markdown",
   "metadata": {
    "scrolled": true
   },
   "source": [
    "\n",
    "<img src=\"MissionLogo.png\">\n",
    "\n",
    "# Intro to Working with ICESat-2 Data\n",
    "This notebook is aimed to help people get started looking at ICESat-2 data, and be a compilation of learning resources from scientists working with this dataset. If you have never heard of ICESat-2, this is a great place to start!\n",
    "\n",
    "The majority of learning resources featured in notebook come from the 2020 ICESat-2 Cryospheric Hackweek\n",
    "\n",
    "\n",
    "2020 Hackweek GitHub: https://github.com/ICESAT-2HackWeek/\n",
    "\n"
   ]
  },
  {
   "cell_type": "markdown",
   "metadata": {},
   "source": [
    "## ICESat-2 Mission: Satellite, Sensor, and Data\n",
    "There's a lot of information out there about this mission, and a quick google search of ICESat-2 will bring you a lot of information! However, a quick overview to get you primed for this notebook: \n",
    "\n",
    "### The Basics:\n",
    "The Ice, Cloud, and land Elevation Satellite-2, or ICESat-2, is measuring the height of a changing Earth one laser pulse at a time, 10,000 laser pulses per second. It was launched in September of 2018.\n",
    "\n",
    "Some ICESat-2 websites to familiarize yourself with: \n",
    "- [NSIDC](https://nsidc.org/data/icesat-2 )\n",
    "- [NASA](https://icesat-2.gsfc.nasa.gov/)\n",
    "\n",
    "\n",
    "#### Hackweek Tutorial (~1hr) : https://www.youtube.com/watch?v=0guml7ihfdA "
   ]
  },
  {
   "cell_type": "markdown",
   "metadata": {},
   "source": [
    "# Common Tools\n",
    "\n",
    "Most people working with this data will use these basic tools to organize code, analyze, etc.:\n",
    "- Python \n",
    "- GitHub \n",
    "- Jupyter Notebook \n",
    "- EarthData Login \n",
    "- Icepyx\n",
    "- CapToolkit\n",
    "\n",
    "\n",
    "## Python \n",
    "Python is an interpreted, high-level, general-purpose programming language. It is the most commonly used language for looking at this kind of data, and the tools used to help with acessing/analyze data (captoolkit/icepyx) are written in python. It is also reccomended to use Anaconda, which is the recommended Python distribution, for installing and working with Python on your local computer. Conda is an open source package and environment management system for installing multiple versions of software packages, their dependencies and switching easily between them. While you can set up python without anaconda, conda makes it easier to install packages such as numpy, pandas, geopandas and other tools used in data analysis. \n",
    "\n",
    "-Install Anaconda: https://www.anaconda.com/products/individual\n",
    "\n",
    "\n",
    "## GitHub/Git\n",
    "Git is a popular version control system that is the foundation of most open source software development. GitHub is a hosting service for Git repositories, enabling us to share code across teams in a web environment. Once set-up, it's a good idea to ask your team if they have a __GitHub Organization__ that they will work from. \n",
    "\n",
    "- Make a GitHub Account: https://github.com/ \n",
    "\n",
    "- Install Git: https://git-scm.com/\n",
    "\n",
    "#### Learning Resources: \n",
    "\n",
    "- [Git/GitHub Crash Course for beginners](https://www.youtube.com/watch?v=SWYqp7iY_Tc)\n",
    "\n",
    "- [HackweekGit/GitHub Tutorial (~1.5hrs)](https://www.youtube.com/watch?v=O2lLC_s_d20&feature=youtu.be)  \n",
    "\n",
    "## Jupyter Notebook\n",
    "The IPython Notebook is an interactive computing environment that enables users to author notebook documents that can contain live code, plots, widgets, etc. To install jupyter notebooks, or jupyter lab:\n",
    "- Install Jupyter Notebook/Lab: (https://jupyter.org/install) \n",
    "\n",
    "#### Learning Resoruces: \n",
    "- [Practical Introduction to Jupyter Notebooks](https://github.com/ICESAT-2HackWeek/intro-jupyter-git/blob/master/01-Intro%20Jupyter%20Notebook.ipynb) \n",
    "- [Beyond Plain Python](https://github.com/ICESAT-2HackWeek/intro-jupyter-git/blob/master/02-Beyond%20Plain%20Python.ipynb)\n",
    "\n",
    "\n",
    "## Earth Data\n",
    "Earth Data gives you online access to hundreds of different earth observation data collections, including ICESat-2.\n",
    "\n",
    "Make an account here: https://urs.earthdata.nasa.gov/users/new \n",
    "\n",
    "#### Learning Resources: \n",
    "- [Getting Started with Earth Data](https://earthdata.nasa.gov/learn/getting-started) \n",
    "- [Data Proccessing Levels](https://earthdata.nasa.gov/collaborate/open-data-services-and-software/data-information-policy/data-levels) \n",
    "\n",
    "## Icepyx\n",
    "A collection of python tools for obtaining and working with ICESat-2 data. It works within the community to build a library of shared resources that help to simplify the process of querying, obtaining, analyzing, and manipulating ICESat-2 datasets to enable scientific discovery.\n",
    "- Install Icepyx: https://github.com/icesat2py/icepyx\n",
    "- Follow directions in README to install\n",
    "\n",
    "#### Learning Resources: \n",
    "- To see example notebooks, on icepyx repository above go to 'doc/examples'. \n",
    "\n",
    "## CapToolkit\n",
    "Set of tools for processing and integrating satellite and airborne (radar and laser) altimetry data.\n",
    "- Install CapToolkit: https://github.com/fspaolo/captoolkit\n",
    "- Follow directions in README to install\n",
    "\n",
    "#### Learning Resources:\n",
    "- To see example notebooks, scroll down on README to \"notebooks\" on Captoolkit repository. "
   ]
  },
  {
   "cell_type": "markdown",
   "metadata": {},
   "source": [
    "## Acessing Data\n",
    "This notebook aims to give a very simple look at acessing data, just an example to get you started! \n",
    "There are so many great in depth resources that will help you discover how to best do this, including subsetting:\n",
    "- [01- Data Resources](https://github.com/ICESAT-2HackWeek/data-access/blob/master/notebooks/01-Data_Resources_Intro.ipynb)\n",
    "- [02- Data Acecess](https://github.com/ICESAT-2HackWeek/data-access/blob/master/notebooks/02-Data_Access.ipynb)\n",
    "- [03- Subsetting](https://github.com/ICESAT-2HackWeek/data-access/blob/master/notebooks/03-Data_Access2_Subsetting.ipynb )\n",
    "\n",
    "\n",
    "In the meantime, to access + download new data you must first have a Earth Data login! "
   ]
  },
  {
   "cell_type": "markdown",
   "metadata": {},
   "source": [
    "## HDF5\n",
    "The data downloaded is in a H5 file, H5 files are optimized for numerical data, and are a common file format for a variety of applications. many people in the ICESat-2 community have created \"readers\" for atl06 data (as well as other products). These readers help pick apart the files into meanigful variables such as latitude, longitude, and elevation.\n",
    "\n",
    "Some helpful jupyter notebooks written by Fernando Paolo for reading HDF5:\n",
    "- [Intro HDF5](https://github.com/ICESAT-2HackWeek/intro-hdf5/blob/master/notebooks/intro-hdf5.ipynb)\n",
    "- [Reducing IS2 Files](https://github.com/ICESAT-2HackWeek/intro-hdf5/blob/master/notebooks/intro-is2-files.ipynb)\n"
   ]
  },
  {
   "cell_type": "markdown",
   "metadata": {},
   "source": [
    "## Next Steps in Learning: \n",
    "Exploring different jupyter notebooks, creating your own and working with data is a great way to get started. There are lots of resources out there to help and the scientists of this community want to help! \n",
    "\n",
    "- Start working with data!\n",
    "\n",
    "- Hackweek GitHub: https://github.com/ICESAT-2HackWeek/ \n",
    "\n",
    "\n",
    "\n",
    "### Authors\n",
    "- Anna Valentine (annavalentine@mymail.mines.edu)\n",
    "- Countless code contributors from 2020 Hackweek\n",
    "\n",
    "#### Note: \n",
    "This notebook was created during the 2020 Cryospheric Hackweek. Huge thanks goes out to everyone involved, especially the fantastic admin and tutorial leads!\n"
   ]
  }
 ],
 "metadata": {
  "kernelspec": {
   "display_name": "Python 3",
   "language": "python",
   "name": "python3"
  },
  "language_info": {
   "codemirror_mode": {
    "name": "ipython",
    "version": 3
   },
   "file_extension": ".py",
   "mimetype": "text/x-python",
   "name": "python",
   "nbconvert_exporter": "python",
   "pygments_lexer": "ipython3",
   "version": "3.7.7"
  }
 },
 "nbformat": 4,
 "nbformat_minor": 4
}
