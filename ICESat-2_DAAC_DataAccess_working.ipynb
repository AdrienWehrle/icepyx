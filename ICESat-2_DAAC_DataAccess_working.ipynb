{
 "cells": [
  {
   "cell_type": "markdown",
   "metadata": {},
   "source": [
    "## Accessing ICESat-2 Data\n",
    "### Software Development Notebook\n",
    "This notebook outlines and begins development for functionality to ease ICESat-2 data access and download from the NASA NSIDC DAAC (NASA National Snow and Ice Data Center Distributed Active Archive Center). This space is meant to be transient and serve as a space for writing and testing code. Documentation and examples will be developed independently.\n",
    "\n",
    "#### Credits\n",
    "* contributers: Jessica Scheick\n",
    "* based initially on and modified from the 'NSIDC DAAC ICESat-2 Customize and Access.ipynb' tutorial by Amy Steiker\n"
   ]
  },
  {
   "cell_type": "markdown",
   "metadata": {},
   "source": [
    "## Import packages\n"
   ]
  },
  {
   "cell_type": "code",
   "execution_count": 1,
   "metadata": {},
   "outputs": [
    {
     "name": "stderr",
     "output_type": "stream",
     "text": [
      "Matplotlib is building the font cache using fc-list. This may take a moment.\n"
     ]
    }
   ],
   "source": [
    "import requests\n",
    "import getpass\n",
    "import socket\n",
    "import json\n",
    "import zipfile\n",
    "import io\n",
    "import math\n",
    "import os\n",
    "import shutil\n",
    "import pprint\n",
    "import time\n",
    "import geopandas as gpd\n",
    "import matplotlib.pyplot as plt\n",
    "import fiona\n",
    "import h5py\n",
    "import re\n",
    "# To read KML files with geopandas, we will need to enable KML support in fiona (disabled by default)\n",
    "fiona.drvsupport.supported_drivers['LIBKML'] = 'rw'\n",
    "from shapely.geometry import Polygon, mapping\n",
    "from shapely.geometry.polygon import orient\n",
    "from statistics import mean\n",
    "from requests.auth import HTTPBasicAuth"
   ]
  },
  {
   "cell_type": "markdown",
   "metadata": {},
   "source": [
    "## Information Required from the User - Data Login"
   ]
  },
  {
   "cell_type": "code",
   "execution_count": 46,
   "metadata": {},
   "outputs": [],
   "source": [
    "# Earthdata Login credentials\n",
    "\n",
    "# Enter your Earthdata Login user name\n",
    "uid = 'jessica.scheick'\n",
    "# Enter your email address associated with your Earthdata Login account\n",
    "email = 'jessica.scheick@maine.edu'\n",
    "pswd = getpass.getpass('Earthdata Login password: ')"
   ]
  },
  {
   "cell_type": "markdown",
   "metadata": {},
   "source": [
    "## Behind the Scenes - Create a token"
   ]
  },
  {
   "cell_type": "code",
   "execution_count": 3,
   "metadata": {
    "attributes": {
     "classes": [],
     "id": "",
     "n": "3"
    }
   },
   "outputs": [
    {
     "name": "stdout",
     "output_type": "stream",
     "text": [
      "E1017B5B-C7B5-7C1C-ABFF-B9A5D16D333F\n"
     ]
    }
   ],
   "source": [
    "# Request token from Common Metadata Repository using Earthdata credentials\n",
    "token_api_url = 'https://cmr.earthdata.nasa.gov/legacy-services/rest/tokens'\n",
    "hostname = socket.gethostname()\n",
    "ip = socket.gethostbyname(hostname)\n",
    "\n",
    "data = {\n",
    "    'token': {\n",
    "        'username': uid,\n",
    "        'password': pswd,\n",
    "        'client_id': 'NSIDC_client_id',\n",
    "        'user_ip_address': ip\n",
    "    }\n",
    "}\n",
    "headers={'Accept': 'application/json'}\n",
    "response = requests.post(token_api_url, json=data, headers=headers)\n",
    "token = json.loads(response.content)['token']['id']\n",
    "print(token)\n",
    "#4351E4A7-9907-AEA1-82B3-FE2A36C88659"
   ]
  },
  {
   "cell_type": "markdown",
   "metadata": {},
   "source": [
    "## Info from the user - dataset of interest"
   ]
  },
  {
   "cell_type": "code",
   "execution_count": 4,
   "metadata": {},
   "outputs": [],
   "source": [
    "# Input data set ID (e.g. ATL06) of interest here, also known as \"short name\".\n",
    "\n",
    "short_name = 'ATL06'"
   ]
  },
  {
   "cell_type": "markdown",
   "metadata": {},
   "source": [
    "### A note on data access options:\n",
    "\n",
    "We will be pursuing data discovery and access \"programmatically\" using Application Programming Interfaces, or APIs. \n",
    "\n",
    "_What is an API? API stands for Application Programming Interface. You can think of it as a middle man between an application or end-use (in this case, us) and a data provider. In this case, the data provider is both the metadata repository housing ICESat-2 data information (the [Common Metadata Repository](https://earthdata.nasa.gov/eosdis/science-system-description/eosdis-components/cmr) and NSIDC). These APIs are essentially structured as a URL with a base plus individual key-value-pairs (KVPs) separated by ‘&’._\n",
    "\n",
    "There are other discovery and access methods available from NSIDC, as you can see from the data set home pages under the 'Download Data' tab, including [OpenAltimetry](https://openaltimetry.org/) and [NASA Earthdata Search](http://search.earthdata.nasa.gov). "
   ]
  },
  {
   "cell_type": "markdown",
   "metadata": {},
   "source": [
    "## Behind the scenes - submit it properly to the API"
   ]
  },
  {
   "cell_type": "code",
   "execution_count": null,
   "metadata": {},
   "outputs": [],
   "source": []
  },
  {
   "cell_type": "markdown",
   "metadata": {},
   "source": [
    "## Info from the user - temporal period of interest"
   ]
  },
  {
   "cell_type": "code",
   "execution_count": 32,
   "metadata": {},
   "outputs": [],
   "source": [
    "# Input temporal range \n",
    "\n",
    "# Input start date in yyyy-MM-dd format\n",
    "start_date = '2019-02-22'\n",
    "# Input start time in HH:mm:ss format\n",
    "start_time = '00:00:00'\n",
    "# Input end date in yyyy-MM-dd format\n",
    "end_date = '2019-02-28'\n",
    "# Input end time in HH:mm:ss format\n",
    "end_time = '23:59:59'"
   ]
  },
  {
   "cell_type": "markdown",
   "metadata": {},
   "source": [
    "## Behind the scenes - properly format and submit time entries\n",
    "According to the [CMR API documentation](https://cmr.earthdata.nasa.gov/search/site/docs/search/api.html#g-temporal), our time range must be given in `yyyy-MM-ddTHH:mm:ssZ` format."
   ]
  },
  {
   "cell_type": "code",
   "execution_count": 37,
   "metadata": {},
   "outputs": [
    {
     "name": "stdout",
     "output_type": "stream",
     "text": [
      "2019-02-22T00:00:00Z,2019-02-28T23:59:59Z\n"
     ]
    }
   ],
   "source": [
    "temporal = start_date + 'T' + start_time + 'Z' + ',' + end_date + 'T' + end_time + 'Z'\n",
    "print(temporal)"
   ]
  },
  {
   "cell_type": "markdown",
   "metadata": {},
   "source": [
    "## Info from the user - spatial area of interest"
   ]
  },
  {
   "cell_type": "code",
   "execution_count": null,
   "metadata": {},
   "outputs": [],
   "source": [
    "# Input the area of interest either as a bounding box or polygon\n"
   ]
  },
  {
   "cell_type": "markdown",
   "metadata": {},
   "source": [
    "## Behind the scenes - properly submit it to the API, including simplification of polygons or rearranging of bounding box coordinates"
   ]
  },
  {
   "cell_type": "code",
   "execution_count": null,
   "metadata": {},
   "outputs": [],
   "source": []
  },
  {
   "cell_type": "markdown",
   "metadata": {},
   "source": [
    "### Area of Interest input\n",
    "\n",
    "#### There are three different options for inputting an area of interest to be applied to our granule search:\n",
    "    1) Bounding Box \n",
    "    2) Polygon coordinate pairs \n",
    "    3) Spatial file input, including Esri Shapefile or KML/KMZ. "
   ]
  },
  {
   "cell_type": "markdown",
   "metadata": {},
   "source": [
    "#### For the bounding box option, enter information in the following cell. "
   ]
  },
  {
   "cell_type": "code",
   "execution_count": 7,
   "metadata": {},
   "outputs": [
    {
     "name": "stdout",
     "output_type": "stream",
     "text": [
      "-64,66,-55,72\n"
     ]
    }
   ],
   "source": [
    "# Commenting for tutorial since we will be walking through option 3 (spatial file input) together\n",
    "# Bounding Box spatial parameter in 'W,S,E,N' format\n",
    "\n",
    "# Input bounding box\n",
    "# Input lower left longitude in decimal degrees\n",
    "LL_lon = '-64'\n",
    "# Input lower left latitude in decimal degrees\n",
    "LL_lat = '66'\n",
    "# Input upper right longitude in decimal degrees\n",
    "UR_lon = '-55'\n",
    "# Input upper right latitude in decimal degrees\n",
    "UR_lat = '72'\n",
    "\n",
    "bounding_box = LL_lon + ',' + LL_lat + ',' + UR_lon + ',' + UR_lat\n",
    "# aoi value used for CMR params below\n",
    "aoi = '1'\n",
    "print(bounding_box)"
   ]
  },
  {
   "cell_type": "markdown",
   "metadata": {},
   "source": [
    "#### For the polygon coordinate pair option, enter the coordinate pairs. We can do this with separate x y lists that we can join and convert to the CMR parameter format."
   ]
  },
  {
   "cell_type": "code",
   "execution_count": null,
   "metadata": {},
   "outputs": [],
   "source": [
    "# # Commenting for tutorial since we will be walking through option 3 (spatial file input) together\n",
    "# # Polygon coordinate pair spatial parameter\n",
    "\n",
    "# #create list of x (longitude) values in decimal degrees\n",
    "# x = []\n",
    "# #create list of y (latitude) values in decimal degrees\n",
    "# y = []\n",
    "# xylist = list(zip(x, y))\n",
    "# # Polygon points need to be provided in counter-clockwise order. The last point should match the first point to close the polygon. \n",
    "# # Input polygon coordinates as comma separated values in longitude latitude order, i.e. lon1, lat1, lon2, lat2, lon3, lat3, and so on.\n",
    "# polygon = ','.join(map(str, list(sum(xylist, ()))))\n",
    "# print(polygon)\n",
    "# # aoi value used for CMR params below\n",
    "# aoi = '2'"
   ]
  },
  {
   "cell_type": "markdown",
   "metadata": {},
   "source": [
    "#### Let's focus on the geospatial file input option.\n",
    "\n",
    "First, we'll use geopandas to read in the file."
   ]
  },
  {
   "cell_type": "code",
   "execution_count": null,
   "metadata": {},
   "outputs": [],
   "source": [
    "# Use geopandas to read in polygon file\n",
    "# Note: a shapefile or geojson, or almost any other vector-based spatial data format could be substituted here.\n",
    "\n",
    "kml_filepath = str('/home/jovyan/data-access/pine_island_glims/glims_polygons.kml')\n",
    "\n",
    "#Return a GeoDataFrame object\n",
    "gdf = gpd.read_file(kml_filepath)\n",
    "gdf.head()"
   ]
  },
  {
   "cell_type": "markdown",
   "metadata": {},
   "source": [
    "Simple visualization of the polygon:"
   ]
  },
  {
   "cell_type": "code",
   "execution_count": null,
   "metadata": {},
   "outputs": [],
   "source": [
    "%matplotlib inline\n",
    "\n",
    "# Load \"Natural Earth” countries dataset, bundled with GeoPandas\n",
    "world = gpd.read_file(gpd.datasets.get_path('naturalearth_lowres'))\n",
    "\n",
    "# Overlay glacier outline\n",
    "f, ax = plt.subplots(1, figsize=(12, 6))\n",
    "world.plot(ax=ax, facecolor='lightgray', edgecolor='gray')\n",
    "gdf.plot(ax=ax, cmap='Set2')\n",
    "ax.set_ylim([-90, 0])\n",
    "ax.set_xlim([-180,0]);"
   ]
  },
  {
   "cell_type": "markdown",
   "metadata": {},
   "source": [
    "#### We need to get from the geopandas GeoDataFrame object to an input that is readable by CMR.\n",
    "\n",
    "According to [CMR API documentation](https://cmr.earthdata.nasa.gov/search/site/docs/search/api.html#c-polygon): </br>\n",
    ">Polygon points are provided in counter-clockwise order. The last point should match the first point to close the polygon. The values are listed comma separated in longitude latitude order, i.e. lon1, lat1, lon2, lat2, lon3, lat3, and so on.`\n"
   ]
  },
  {
   "cell_type": "markdown",
   "metadata": {},
   "source": [
    "The following cell will simplify and reorder the GeoDataFrame object using the shapely package and convert the object back to a dictionary to be applied to the CMR polygon parameter. Simplification is needed in order to pass a reasonable request length to CMR. You may need to modify the simplification tolerance depending on the number of points of your polygon."
   ]
  },
  {
   "cell_type": "code",
   "execution_count": null,
   "metadata": {},
   "outputs": [],
   "source": [
    "#Integer position based indexing of GeoDataFrame object to get it into a shapeply geometry object.\n",
    "poly = gdf.iloc[0].geometry\n",
    "\n",
    "# Simplify polygon. The larger the tolerance value, the more simplified the polygon.\n",
    "poly = poly.simplify(0.05, preserve_topology=False)\n",
    "\n",
    "# Orient counter-clockwise\n",
    "poly = orient(poly, sign=1.0)\n",
    "\n",
    "print(poly)\n",
    "\n",
    "#Format dictionary to polygon coordinate pairs for CMR polygon filtering\n",
    "polygon = ','.join([str(c) for xy in zip(*poly.exterior.coords.xy) for c in xy])\n",
    "\n",
    "# aoi value used for CMR params below\n",
    "aoi = '3'"
   ]
  },
  {
   "cell_type": "markdown",
   "metadata": {},
   "source": [
    "Now our coordinate pairs are ready for CMR:"
   ]
  },
  {
   "cell_type": "code",
   "execution_count": null,
   "metadata": {},
   "outputs": [],
   "source": [
    "print(polygon)"
   ]
  },
  {
   "cell_type": "markdown",
   "metadata": {},
   "source": [
    "The following cell provides an alternative option to post a file to OGR service for spatial file input conversion to CMR polygon format:"
   ]
  },
  {
   "cell_type": "code",
   "execution_count": null,
   "metadata": {},
   "outputs": [],
   "source": [
    "# Alternative option for spatial file input: Post file to OGR service\n",
    "# Spatial file input, including Esri Shapefile or KML/KMZ\n",
    "    \n",
    "# POST shapefile or KML polygon to OGR for geojson conversion\n",
    "url = 'http://ogre.adc4gis.com/convert'\n",
    "shapefile = kml_filepath\n",
    "files = {'upload': open(shapefile, 'rb')}\n",
    "r = requests.post(url, files=files)\n",
    "results = json.loads(r.content)\n",
    "# Results is a dictionary representing a feature collection. List coordinates from the Polygon feature:\n",
    "polygon_list = list(results['features'][0]['geometry']['coordinates'][0])     \n",
    "# Remove z value from polygon list\n",
    "for i in range(len(polygon_list)):\n",
    "    del polygon_list[i][2] \n",
    "# Create shapely Polygon object for simplification and counter-clockwise ordering for CMR filtering\n",
    "poly = Polygon(tuple(polygon_list))\n",
    "\n",
    "#Same simplify and orient steps as above:\n",
    "#simplify polygon\n",
    "poly = poly.simplify(0.05, preserve_topology=False)\n",
    "\n",
    "# Orient counter-clockwise\n",
    "poly = orient(poly, sign=1.0)\n",
    "\n",
    "#Format dictionary to polygon coordinate pairs for CMR polygon filtering\n",
    "# Polygon points need to be provided in counter-clockwise order as comma separated values in longitude latitude order, i.e. lon1, lat1, lon2, lat2, lon3, lat3, and so on. \n",
    "# The last point should match the first point to close the polygon. \n",
    "polygon = ','.join([str(c) for xy in zip(*poly.exterior.coords.xy) for c in xy])\n",
    "\n",
    "# aoi value used for subsetting logic below\n",
    "aoi = '3'\n",
    "print(polygon)"
   ]
  },
  {
   "cell_type": "markdown",
   "metadata": {},
   "source": [
    "## Info from the user - any subsetting and reformatting requests\n",
    "#### These reformatting options are optional"
   ]
  },
  {
   "cell_type": "markdown",
   "metadata": {},
   "source": [
    "The NSIDC DAAC supports customization services on many of our NASA Earthdata mission collections. Reformatting and subsetting are available on all Level-2 and -3 ICESat-2 data sets. Let's discover the specific service options supported for this data set and select which of these services we want to request. \n",
    "\n",
    "We will start by querying the service capability to gather and select customization options."
   ]
  },
  {
   "cell_type": "code",
   "execution_count": 11,
   "metadata": {},
   "outputs": [
    {
     "name": "stdout",
     "output_type": "stream",
     "text": [
      "https://n5eil02u.ecs.nsidc.org/egi/capabilities/ATL06.001.xml\n"
     ]
    }
   ],
   "source": [
    "# Query service capability URL \n",
    "\n",
    "from xml.etree import ElementTree as ET\n",
    "\n",
    "capability_url = f'https://n5eil02u.ecs.nsidc.org/egi/capabilities/{short_name}.{latest_version}.xml'\n",
    "\n",
    "print(capability_url)"
   ]
  },
  {
   "cell_type": "markdown",
   "metadata": {},
   "source": [
    "All of NSIDC's service endpoints are behind NASA Earthdata Login. We need to create a session to store cookies and pass Earthdata Login credentials to capabilities url."
   ]
  },
  {
   "cell_type": "code",
   "execution_count": 12,
   "metadata": {},
   "outputs": [],
   "source": [
    "# Create session to store cookie and pass credentials to capabilities url\n",
    "\n",
    "session = requests.session()\n",
    "s = session.get(capability_url)\n",
    "response = session.get(s.url,auth=(uid,pswd))\n",
    "\n",
    "root = ET.fromstring(response.content)"
   ]
  },
  {
   "cell_type": "markdown",
   "metadata": {},
   "source": [
    "From the service capability XML, we can collect lists with each service option to gather service information."
   ]
  },
  {
   "cell_type": "code",
   "execution_count": 13,
   "metadata": {},
   "outputs": [],
   "source": [
    "# collect lists with each service option\n",
    "\n",
    "subagent = [subset_agent.attrib for subset_agent in root.iter('SubsetAgent')]\n",
    "\n",
    "# variable subsetting\n",
    "variables = [SubsetVariable.attrib for SubsetVariable in root.iter('SubsetVariable')]  \n",
    "variables_raw = [variables[i]['value'] for i in range(len(variables))]\n",
    "variables_join = [''.join(('/',v)) if v.startswith('/') == False else v for v in variables_raw] \n",
    "variable_vals = [v.replace(':', '/') for v in variables_join]\n",
    "\n",
    "# reformatting\n",
    "formats = [Format.attrib for Format in root.iter('Format')]\n",
    "format_vals = [formats[i]['value'] for i in range(len(formats))]\n",
    "format_vals.remove('')\n",
    "\n",
    "# reprojection only applicable on ICESat-2 L3B products, yet to be available. \n",
    "\n",
    "# reformatting options that support reprojection\n",
    "normalproj = [Projections.attrib for Projections in root.iter('Projections')]\n",
    "normalproj_vals = []\n",
    "normalproj_vals.append(normalproj[0]['normalProj'])\n",
    "format_proj = normalproj_vals[0].split(',')\n",
    "format_proj.remove('')\n",
    "format_proj.append('No reformatting')\n",
    "\n",
    "#reprojection options\n",
    "projections = [Projection.attrib for Projection in root.iter('Projection')]\n",
    "proj_vals = []\n",
    "for i in range(len(projections)):\n",
    "    if (projections[i]['value']) != 'NO_CHANGE' :\n",
    "        proj_vals.append(projections[i]['value'])\n",
    "        \n",
    "# reformatting options that do not support reprojection\n",
    "no_proj = [i for i in format_vals if i not in format_proj]"
   ]
  },
  {
   "cell_type": "markdown",
   "metadata": {},
   "source": [
    "#### Let's confirm that subset services exist for our data set by reviewing the `subagent` list. If the list contains service information, we know that services are available. If not, we need to set the `agent` API parameter to `NO` to indicate that our request will bypass the subsetter. This will quickly send back the data \"natively\" without any customization applied."
   ]
  },
  {
   "cell_type": "code",
   "execution_count": 14,
   "metadata": {},
   "outputs": [
    {
     "name": "stdout",
     "output_type": "stream",
     "text": [
      "[{'id': 'ICESAT2', 'spatialSubsetting': 'true', 'spatialSubsettingShapefile': 'true', 'temporalSubsetting': 'true', 'type': 'both', 'maxGransSyncRequest': '100', 'maxGransAsyncRequest': '2000'}]\n"
     ]
    }
   ],
   "source": [
    "print(subagent)\n",
    "if len(subagent) < 1 :\n",
    "    agent = 'NO'"
   ]
  },
  {
   "cell_type": "markdown",
   "metadata": {},
   "source": [
    "More information is contained in the subagent list, including the maximum number of granules that we can request per order depending on our configuration. We'll come back to these options below."
   ]
  },
  {
   "cell_type": "markdown",
   "metadata": {},
   "source": [
    "### We'll begin populating the subsetting and reformatting parameters used for our NSIDC API request. In addition to the CMR information we queried above, the NSIDC API accepts Key-Value-Pairs (KVPs) for subsetting and reformatting services."
   ]
  },
  {
   "cell_type": "markdown",
   "metadata": {},
   "source": [
    "#### Let's start with spatial subsetting. Recall that there are three options to *filter* our search results by spatial constraint: \n",
    "\n",
    "1) Bounding Box: Corresponding to the CMR `bounding_box` KVP\n",
    "\n",
    "2) Polygon coordinate pairs: Corresponding to the CMR `polygon` KVP\n",
    "\n",
    "3) Spatial file input, including Esri Shapefile or KML/KMZ: We simplified the file input to also be read by the CMR `polygon` KVP \n",
    "    \n",
    "#### We see above that `spatialSubsetting` is `true` and `spatialSubsettingShapefile` is `true`. Therefore the same *filtering* options can be applied to our *subset* constraint, with unique KVPs for the subsetting service:\n",
    "\n",
    "1) Bounding Box: `bbox` subset KVP\n",
    "\n",
    "2) Polygon coordinate pairs: `bounding_shape` subset KVP in [GeoJSON](https://geojson.org/) format. \n",
    "\n",
    "3) Spatial file input: The file can be read directly by the subsetter without simplification. This file will be posted to the API endpoint, so we don't need to specify an additional subset KVP here. "
   ]
  },
  {
   "cell_type": "markdown",
   "metadata": {},
   "source": [
    "#### Because we're pursuing option 3), we don't need to provide an additional subset parameter. Below is commented code for bounding box inputs."
   ]
  },
  {
   "cell_type": "code",
   "execution_count": 28,
   "metadata": {},
   "outputs": [],
   "source": [
    "# Bounding box subsetting (bbox) in same format as bounding_box\n",
    "\n",
    "bbox = bounding_box\n",
    "\n",
    "# # Polygon coordinate pair subsetting in GeoJSON format. Or for simplicity, get polygon bounds to be used as bounding box input\n",
    "\n",
    "# # Create shapely Polygon object from x y list\n",
    "# p = Polygon(tuple(xylist))\n",
    "# # Extract the point values that define the perimeter of the polygon\n",
    "# bounds = p.bounds\n",
    "# bbox = ','.join(map(str, list(bounds)))"
   ]
  },
  {
   "cell_type": "markdown",
   "metadata": {},
   "source": [
    "#### Temporal subsetting is next, since we saw above that `temporalSubsetting` is `true`. We filtered data over 22 Feb 2019 and we can also subset the data to those dates if desired. \n",
    "\n",
    "The `time` KVP is used to subset temporally. This can be entered in the following formats:\n",
    "\n",
    "`time=yyyy-mm-dd,yyyy-mm-dd`\n",
    "\n",
    "`time=yyy-mm-ddThh:MM:ss,yyy-mm-ddThh:MM:ss` "
   ]
  },
  {
   "cell_type": "code",
   "execution_count": 33,
   "metadata": {},
   "outputs": [
    {
     "name": "stdout",
     "output_type": "stream",
     "text": [
      "2019-02-22T00:00:00,2019-02-28T23:59:59\n"
     ]
    }
   ],
   "source": [
    "# Temporal subsetting KVP\n",
    "\n",
    "timevar = start_date + 'T' + start_time + ',' + end_date + 'T' + end_time\n",
    "print(timevar)"
   ]
  },
  {
   "cell_type": "markdown",
   "metadata": {},
   "source": [
    "#### Next, let's explore the reformatting options available.\n"
   ]
  },
  {
   "cell_type": "code",
   "execution_count": 18,
   "metadata": {},
   "outputs": [
    {
     "name": "stdout",
     "output_type": "stream",
     "text": [
      "['TABULAR_ASCII', 'NetCDF4-CF', 'Shapefile', 'NetCDF-3']\n"
     ]
    }
   ],
   "source": [
    "print(format_vals)"
   ]
  },
  {
   "cell_type": "markdown",
   "metadata": {},
   "source": [
    "These options can be inputted into the API request exactly as printed in the list, with quotes removed, using the `format=` Key-Value-Pair. For example:\n",
    "\n",
    "`format=TABULAR_ASCII`\n",
    "\n",
    "We will be exploring the data in its native HDF5 format so we won't pursue this option in this tutorial. "
   ]
  },
  {
   "cell_type": "markdown",
   "metadata": {},
   "source": [
    "#### Reprojection options will be available on the gridded ICESat-2 L3B data sets. Let's confirm that no reprojection options exist:"
   ]
  },
  {
   "cell_type": "code",
   "execution_count": 19,
   "metadata": {},
   "outputs": [
    {
     "name": "stdout",
     "output_type": "stream",
     "text": [
      "[]\n"
     ]
    }
   ],
   "source": [
    "print(proj_vals)"
   ]
  },
  {
   "cell_type": "markdown",
   "metadata": {},
   "source": [
    "#### Finally, let's determine if variable subsetting is available by finding the length of the `variable_vals` list we gathered from the capabilities URL. "
   ]
  },
  {
   "cell_type": "code",
   "execution_count": 20,
   "metadata": {},
   "outputs": [
    {
     "data": {
      "text/plain": [
       "627"
      ]
     },
     "execution_count": 20,
     "metadata": {},
     "output_type": "execute_result"
    }
   ],
   "source": [
    "len(variable_vals)"
   ]
  },
  {
   "cell_type": "markdown",
   "metadata": {},
   "source": [
    "We can view the entire list of variables if desired:"
   ]
  },
  {
   "cell_type": "code",
   "execution_count": 21,
   "metadata": {},
   "outputs": [
    {
     "name": "stdout",
     "output_type": "stream",
     "text": [
      "['/ancillary_data',\n",
      " '/ancillary_data/atlas_sdp_gps_epoch',\n",
      " '/ancillary_data/control',\n",
      " '/ancillary_data/data_end_utc',\n",
      " '/ancillary_data/data_start_utc',\n",
      " '/ancillary_data/end_cycle',\n",
      " '/ancillary_data/end_delta_time',\n",
      " '/ancillary_data/end_geoseg',\n",
      " '/ancillary_data/end_gpssow',\n",
      " '/ancillary_data/end_gpsweek',\n",
      " '/ancillary_data/end_orbit',\n",
      " '/ancillary_data/end_region',\n",
      " '/ancillary_data/end_rgt',\n",
      " '/ancillary_data/granule_end_utc',\n",
      " '/ancillary_data/granule_start_utc',\n",
      " '/ancillary_data/qa_at_interval',\n",
      " '/ancillary_data/release',\n",
      " '/ancillary_data/start_cycle',\n",
      " '/ancillary_data/start_delta_time',\n",
      " '/ancillary_data/start_geoseg',\n",
      " '/ancillary_data/start_gpssow',\n",
      " '/ancillary_data/start_gpsweek',\n",
      " '/ancillary_data/start_orbit',\n",
      " '/ancillary_data/start_region',\n",
      " '/ancillary_data/start_rgt',\n",
      " '/ancillary_data/version',\n",
      " '/ancillary_data/land_ice',\n",
      " '/ancillary_data/land_ice/dt_hist',\n",
      " '/ancillary_data/land_ice/fit_maxiter',\n",
      " '/ancillary_data/land_ice/fpb_maxiter',\n",
      " '/ancillary_data/land_ice/maxiter',\n",
      " '/ancillary_data/land_ice/max_res_ids',\n",
      " '/ancillary_data/land_ice/min_dist',\n",
      " '/ancillary_data/land_ice/min_gain_th',\n",
      " '/ancillary_data/land_ice/min_n_pe',\n",
      " '/ancillary_data/land_ice/min_n_sel',\n",
      " '/ancillary_data/land_ice/min_signal_conf',\n",
      " '/ancillary_data/land_ice/n_hist',\n",
      " '/ancillary_data/land_ice/nhist_bins',\n",
      " '/ancillary_data/land_ice/n_sigmas',\n",
      " '/ancillary_data/land_ice/proc_interval',\n",
      " '/ancillary_data/land_ice/rbin_width',\n",
      " '/ancillary_data/land_ice/sigma_beam',\n",
      " '/ancillary_data/land_ice/sigma_tx',\n",
      " '/ancillary_data/land_ice/t_dead',\n",
      " '/ancillary_data/land_ice/win_nsig',\n",
      " '/gt1l',\n",
      " '/gt1l/land_ice_segments',\n",
      " '/gt1l/land_ice_segments/atl06_quality_summary',\n",
      " '/gt1l/land_ice_segments/delta_time',\n",
      " '/gt1l/land_ice_segments/h_li',\n",
      " '/gt1l/land_ice_segments/h_li_sigma',\n",
      " '/gt1l/land_ice_segments/latitude',\n",
      " '/gt1l/land_ice_segments/longitude',\n",
      " '/gt1l/land_ice_segments/segment_id',\n",
      " '/gt1l/land_ice_segments/sigma_geo_h',\n",
      " '/gt1l/land_ice_segments/bias_correction',\n",
      " '/gt1l/land_ice_segments/bias_correction/fpb_mean_corr',\n",
      " '/gt1l/land_ice_segments/bias_correction/fpb_mean_corr_sigma',\n",
      " '/gt1l/land_ice_segments/bias_correction/fpb_med_corr',\n",
      " '/gt1l/land_ice_segments/bias_correction/fpb_med_corr_sigma',\n",
      " '/gt1l/land_ice_segments/bias_correction/fpb_n_corr',\n",
      " '/gt1l/land_ice_segments/bias_correction/med_r_fit',\n",
      " '/gt1l/land_ice_segments/bias_correction/tx_mean_corr',\n",
      " '/gt1l/land_ice_segments/bias_correction/tx_med_corr',\n",
      " '/gt1l/land_ice_segments/dem',\n",
      " '/gt1l/land_ice_segments/dem/dem_flag',\n",
      " '/gt1l/land_ice_segments/dem/dem_h',\n",
      " '/gt1l/land_ice_segments/dem/geoid_h',\n",
      " '/gt1l/land_ice_segments/fit_statistics',\n",
      " '/gt1l/land_ice_segments/fit_statistics/dh_fit_dx',\n",
      " '/gt1l/land_ice_segments/fit_statistics/dh_fit_dx_sigma',\n",
      " '/gt1l/land_ice_segments/fit_statistics/dh_fit_dy',\n",
      " '/gt1l/land_ice_segments/fit_statistics/h_expected_rms',\n",
      " '/gt1l/land_ice_segments/fit_statistics/h_mean',\n",
      " '/gt1l/land_ice_segments/fit_statistics/h_rms_misfit',\n",
      " '/gt1l/land_ice_segments/fit_statistics/h_robust_sprd',\n",
      " '/gt1l/land_ice_segments/fit_statistics/n_fit_photons',\n",
      " '/gt1l/land_ice_segments/fit_statistics/n_seg_pulses',\n",
      " '/gt1l/land_ice_segments/fit_statistics/sigma_h_mean',\n",
      " '/gt1l/land_ice_segments/fit_statistics/signal_selection_source',\n",
      " '/gt1l/land_ice_segments/fit_statistics/signal_selection_source_status',\n",
      " '/gt1l/land_ice_segments/fit_statistics/snr',\n",
      " '/gt1l/land_ice_segments/fit_statistics/snr_significance',\n",
      " '/gt1l/land_ice_segments/fit_statistics/w_surface_window_final',\n",
      " '/gt1l/land_ice_segments/geophysical',\n",
      " '/gt1l/land_ice_segments/geophysical/bckgrd',\n",
      " '/gt1l/land_ice_segments/geophysical/bsnow_conf',\n",
      " '/gt1l/land_ice_segments/geophysical/bsnow_h',\n",
      " '/gt1l/land_ice_segments/geophysical/bsnow_od',\n",
      " '/gt1l/land_ice_segments/geophysical/cloud_flg_asr',\n",
      " '/gt1l/land_ice_segments/geophysical/cloud_flg_atm',\n",
      " '/gt1l/land_ice_segments/geophysical/dac',\n",
      " '/gt1l/land_ice_segments/geophysical/e_bckgrd',\n",
      " '/gt1l/land_ice_segments/geophysical/msw_flag',\n",
      " '/gt1l/land_ice_segments/geophysical/neutat_delay_total',\n",
      " '/gt1l/land_ice_segments/geophysical/r_eff',\n",
      " '/gt1l/land_ice_segments/geophysical/solar_azimuth',\n",
      " '/gt1l/land_ice_segments/geophysical/solar_elevation',\n",
      " '/gt1l/land_ice_segments/geophysical/tide_earth',\n",
      " '/gt1l/land_ice_segments/geophysical/tide_load',\n",
      " '/gt1l/land_ice_segments/geophysical/tide_ocean',\n",
      " '/gt1l/land_ice_segments/geophysical/tide_pole',\n",
      " '/gt1l/land_ice_segments/ground_track',\n",
      " '/gt1l/land_ice_segments/ground_track/ref_azimuth',\n",
      " '/gt1l/land_ice_segments/ground_track/ref_coelv',\n",
      " '/gt1l/land_ice_segments/ground_track/seg_azimuth',\n",
      " '/gt1l/land_ice_segments/ground_track/sigma_geo_at',\n",
      " '/gt1l/land_ice_segments/ground_track/sigma_geo_xt',\n",
      " '/gt1l/land_ice_segments/ground_track/x_atc',\n",
      " '/gt1l/land_ice_segments/ground_track/y_atc',\n",
      " '/gt1l/residual_histogram',\n",
      " '/gt1l/residual_histogram/bckgrd_per_bin',\n",
      " '/gt1l/residual_histogram/count',\n",
      " '/gt1l/residual_histogram/delta_time',\n",
      " '/gt1l/residual_histogram/dh',\n",
      " '/gt1l/residual_histogram/ds_segment_id',\n",
      " '/gt1l/residual_histogram/lat_mean',\n",
      " '/gt1l/residual_histogram/lon_mean',\n",
      " '/gt1l/residual_histogram/pulse_count',\n",
      " '/gt1l/residual_histogram/segment_id_list',\n",
      " '/gt1l/residual_histogram/x_atc_mean',\n",
      " '/gt1l/segment_quality',\n",
      " '/gt1l/segment_quality/delta_time',\n",
      " '/gt1l/segment_quality/record_number',\n",
      " '/gt1l/segment_quality/reference_pt_lat',\n",
      " '/gt1l/segment_quality/reference_pt_lon',\n",
      " '/gt1l/segment_quality/segment_id',\n",
      " '/gt1l/segment_quality/signal_selection_source',\n",
      " '/gt1l/segment_quality/signal_selection_status',\n",
      " '/gt1l/segment_quality/signal_selection_status/signal_selection_status_all',\n",
      " '/gt1l/segment_quality/signal_selection_status/signal_selection_status_backup',\n",
      " '/gt1l/segment_quality/signal_selection_status/signal_selection_status_confident',\n",
      " '/gt1r',\n",
      " '/gt1r/land_ice_segments',\n",
      " '/gt1r/land_ice_segments/atl06_quality_summary',\n",
      " '/gt1r/land_ice_segments/delta_time',\n",
      " '/gt1r/land_ice_segments/h_li',\n",
      " '/gt1r/land_ice_segments/h_li_sigma',\n",
      " '/gt1r/land_ice_segments/latitude',\n",
      " '/gt1r/land_ice_segments/longitude',\n",
      " '/gt1r/land_ice_segments/segment_id',\n",
      " '/gt1r/land_ice_segments/sigma_geo_h',\n",
      " '/gt1r/land_ice_segments/bias_correction',\n",
      " '/gt1r/land_ice_segments/bias_correction/fpb_mean_corr',\n",
      " '/gt1r/land_ice_segments/bias_correction/fpb_mean_corr_sigma',\n",
      " '/gt1r/land_ice_segments/bias_correction/fpb_med_corr',\n",
      " '/gt1r/land_ice_segments/bias_correction/fpb_med_corr_sigma',\n",
      " '/gt1r/land_ice_segments/bias_correction/fpb_n_corr',\n",
      " '/gt1r/land_ice_segments/bias_correction/med_r_fit',\n",
      " '/gt1r/land_ice_segments/bias_correction/tx_mean_corr',\n",
      " '/gt1r/land_ice_segments/bias_correction/tx_med_corr',\n",
      " '/gt1r/land_ice_segments/dem',\n",
      " '/gt1r/land_ice_segments/dem/dem_flag',\n",
      " '/gt1r/land_ice_segments/dem/dem_h',\n",
      " '/gt1r/land_ice_segments/dem/geoid_h',\n",
      " '/gt1r/land_ice_segments/fit_statistics',\n",
      " '/gt1r/land_ice_segments/fit_statistics/dh_fit_dx',\n",
      " '/gt1r/land_ice_segments/fit_statistics/dh_fit_dx_sigma',\n",
      " '/gt1r/land_ice_segments/fit_statistics/dh_fit_dy',\n",
      " '/gt1r/land_ice_segments/fit_statistics/h_expected_rms',\n",
      " '/gt1r/land_ice_segments/fit_statistics/h_mean',\n",
      " '/gt1r/land_ice_segments/fit_statistics/h_rms_misfit',\n",
      " '/gt1r/land_ice_segments/fit_statistics/h_robust_sprd',\n",
      " '/gt1r/land_ice_segments/fit_statistics/n_fit_photons',\n",
      " '/gt1r/land_ice_segments/fit_statistics/n_seg_pulses',\n",
      " '/gt1r/land_ice_segments/fit_statistics/sigma_h_mean',\n",
      " '/gt1r/land_ice_segments/fit_statistics/signal_selection_source',\n",
      " '/gt1r/land_ice_segments/fit_statistics/signal_selection_source_status',\n",
      " '/gt1r/land_ice_segments/fit_statistics/snr',\n",
      " '/gt1r/land_ice_segments/fit_statistics/snr_significance',\n",
      " '/gt1r/land_ice_segments/fit_statistics/w_surface_window_final',\n",
      " '/gt1r/land_ice_segments/geophysical',\n",
      " '/gt1r/land_ice_segments/geophysical/bckgrd',\n",
      " '/gt1r/land_ice_segments/geophysical/bsnow_conf',\n",
      " '/gt1r/land_ice_segments/geophysical/bsnow_h',\n",
      " '/gt1r/land_ice_segments/geophysical/bsnow_od',\n",
      " '/gt1r/land_ice_segments/geophysical/cloud_flg_asr',\n",
      " '/gt1r/land_ice_segments/geophysical/cloud_flg_atm',\n",
      " '/gt1r/land_ice_segments/geophysical/dac',\n",
      " '/gt1r/land_ice_segments/geophysical/e_bckgrd',\n",
      " '/gt1r/land_ice_segments/geophysical/msw_flag',\n",
      " '/gt1r/land_ice_segments/geophysical/neutat_delay_total',\n",
      " '/gt1r/land_ice_segments/geophysical/r_eff',\n",
      " '/gt1r/land_ice_segments/geophysical/solar_azimuth',\n",
      " '/gt1r/land_ice_segments/geophysical/solar_elevation',\n",
      " '/gt1r/land_ice_segments/geophysical/tide_earth',\n",
      " '/gt1r/land_ice_segments/geophysical/tide_load',\n",
      " '/gt1r/land_ice_segments/geophysical/tide_ocean',\n",
      " '/gt1r/land_ice_segments/geophysical/tide_pole',\n",
      " '/gt1r/land_ice_segments/ground_track',\n",
      " '/gt1r/land_ice_segments/ground_track/ref_azimuth',\n",
      " '/gt1r/land_ice_segments/ground_track/ref_coelv',\n",
      " '/gt1r/land_ice_segments/ground_track/seg_azimuth',\n",
      " '/gt1r/land_ice_segments/ground_track/sigma_geo_at',\n",
      " '/gt1r/land_ice_segments/ground_track/sigma_geo_xt',\n",
      " '/gt1r/land_ice_segments/ground_track/x_atc',\n",
      " '/gt1r/land_ice_segments/ground_track/y_atc',\n",
      " '/gt1r/residual_histogram',\n",
      " '/gt1r/residual_histogram/bckgrd_per_bin',\n",
      " '/gt1r/residual_histogram/count',\n",
      " '/gt1r/residual_histogram/delta_time',\n",
      " '/gt1r/residual_histogram/dh',\n",
      " '/gt1r/residual_histogram/ds_segment_id',\n",
      " '/gt1r/residual_histogram/lat_mean',\n",
      " '/gt1r/residual_histogram/lon_mean',\n",
      " '/gt1r/residual_histogram/pulse_count',\n",
      " '/gt1r/residual_histogram/segment_id_list',\n",
      " '/gt1r/residual_histogram/x_atc_mean',\n",
      " '/gt1r/segment_quality',\n",
      " '/gt1r/segment_quality/delta_time',\n",
      " '/gt1r/segment_quality/record_number',\n",
      " '/gt1r/segment_quality/reference_pt_lat',\n",
      " '/gt1r/segment_quality/reference_pt_lon',\n",
      " '/gt1r/segment_quality/segment_id',\n",
      " '/gt1r/segment_quality/signal_selection_source',\n",
      " '/gt1r/segment_quality/signal_selection_status',\n",
      " '/gt1r/segment_quality/signal_selection_status/signal_selection_status_all',\n",
      " '/gt1r/segment_quality/signal_selection_status/signal_selection_status_backup',\n",
      " '/gt1r/segment_quality/signal_selection_status/signal_selection_status_confident',\n",
      " '/gt2l',\n",
      " '/gt2l/land_ice_segments',\n",
      " '/gt2l/land_ice_segments/atl06_quality_summary',\n",
      " '/gt2l/land_ice_segments/delta_time',\n",
      " '/gt2l/land_ice_segments/h_li',\n",
      " '/gt2l/land_ice_segments/h_li_sigma',\n",
      " '/gt2l/land_ice_segments/latitude',\n",
      " '/gt2l/land_ice_segments/longitude',\n",
      " '/gt2l/land_ice_segments/segment_id',\n",
      " '/gt2l/land_ice_segments/sigma_geo_h',\n",
      " '/gt2l/land_ice_segments/bias_correction',\n",
      " '/gt2l/land_ice_segments/bias_correction/fpb_mean_corr',\n",
      " '/gt2l/land_ice_segments/bias_correction/fpb_mean_corr_sigma',\n",
      " '/gt2l/land_ice_segments/bias_correction/fpb_med_corr',\n",
      " '/gt2l/land_ice_segments/bias_correction/fpb_med_corr_sigma',\n",
      " '/gt2l/land_ice_segments/bias_correction/fpb_n_corr',\n",
      " '/gt2l/land_ice_segments/bias_correction/med_r_fit',\n",
      " '/gt2l/land_ice_segments/bias_correction/tx_mean_corr',\n",
      " '/gt2l/land_ice_segments/bias_correction/tx_med_corr',\n",
      " '/gt2l/land_ice_segments/dem',\n",
      " '/gt2l/land_ice_segments/dem/dem_flag',\n",
      " '/gt2l/land_ice_segments/dem/dem_h',\n",
      " '/gt2l/land_ice_segments/dem/geoid_h',\n",
      " '/gt2l/land_ice_segments/fit_statistics',\n",
      " '/gt2l/land_ice_segments/fit_statistics/dh_fit_dx',\n",
      " '/gt2l/land_ice_segments/fit_statistics/dh_fit_dx_sigma',\n",
      " '/gt2l/land_ice_segments/fit_statistics/dh_fit_dy',\n",
      " '/gt2l/land_ice_segments/fit_statistics/h_expected_rms',\n",
      " '/gt2l/land_ice_segments/fit_statistics/h_mean',\n",
      " '/gt2l/land_ice_segments/fit_statistics/h_rms_misfit',\n",
      " '/gt2l/land_ice_segments/fit_statistics/h_robust_sprd',\n",
      " '/gt2l/land_ice_segments/fit_statistics/n_fit_photons',\n",
      " '/gt2l/land_ice_segments/fit_statistics/n_seg_pulses',\n",
      " '/gt2l/land_ice_segments/fit_statistics/sigma_h_mean',\n",
      " '/gt2l/land_ice_segments/fit_statistics/signal_selection_source',\n",
      " '/gt2l/land_ice_segments/fit_statistics/signal_selection_source_status',\n",
      " '/gt2l/land_ice_segments/fit_statistics/snr',\n",
      " '/gt2l/land_ice_segments/fit_statistics/snr_significance',\n",
      " '/gt2l/land_ice_segments/fit_statistics/w_surface_window_final',\n",
      " '/gt2l/land_ice_segments/geophysical',\n",
      " '/gt2l/land_ice_segments/geophysical/bckgrd',\n",
      " '/gt2l/land_ice_segments/geophysical/bsnow_conf',\n",
      " '/gt2l/land_ice_segments/geophysical/bsnow_h',\n",
      " '/gt2l/land_ice_segments/geophysical/bsnow_od',\n",
      " '/gt2l/land_ice_segments/geophysical/cloud_flg_asr',\n",
      " '/gt2l/land_ice_segments/geophysical/cloud_flg_atm',\n",
      " '/gt2l/land_ice_segments/geophysical/dac',\n",
      " '/gt2l/land_ice_segments/geophysical/e_bckgrd',\n",
      " '/gt2l/land_ice_segments/geophysical/msw_flag',\n",
      " '/gt2l/land_ice_segments/geophysical/neutat_delay_total',\n",
      " '/gt2l/land_ice_segments/geophysical/r_eff',\n",
      " '/gt2l/land_ice_segments/geophysical/solar_azimuth',\n",
      " '/gt2l/land_ice_segments/geophysical/solar_elevation',\n",
      " '/gt2l/land_ice_segments/geophysical/tide_earth',\n",
      " '/gt2l/land_ice_segments/geophysical/tide_load',\n",
      " '/gt2l/land_ice_segments/geophysical/tide_ocean',\n",
      " '/gt2l/land_ice_segments/geophysical/tide_pole',\n",
      " '/gt2l/land_ice_segments/ground_track',\n",
      " '/gt2l/land_ice_segments/ground_track/ref_azimuth',\n",
      " '/gt2l/land_ice_segments/ground_track/ref_coelv',\n",
      " '/gt2l/land_ice_segments/ground_track/seg_azimuth',\n",
      " '/gt2l/land_ice_segments/ground_track/sigma_geo_at',\n",
      " '/gt2l/land_ice_segments/ground_track/sigma_geo_xt',\n",
      " '/gt2l/land_ice_segments/ground_track/x_atc',\n",
      " '/gt2l/land_ice_segments/ground_track/y_atc',\n",
      " '/gt2l/residual_histogram',\n",
      " '/gt2l/residual_histogram/bckgrd_per_bin',\n",
      " '/gt2l/residual_histogram/count',\n",
      " '/gt2l/residual_histogram/delta_time',\n",
      " '/gt2l/residual_histogram/dh',\n",
      " '/gt2l/residual_histogram/ds_segment_id',\n",
      " '/gt2l/residual_histogram/lat_mean',\n",
      " '/gt2l/residual_histogram/lon_mean',\n",
      " '/gt2l/residual_histogram/pulse_count',\n",
      " '/gt2l/residual_histogram/segment_id_list',\n",
      " '/gt2l/residual_histogram/x_atc_mean',\n",
      " '/gt2l/segment_quality',\n",
      " '/gt2l/segment_quality/delta_time',\n",
      " '/gt2l/segment_quality/record_number',\n",
      " '/gt2l/segment_quality/reference_pt_lat',\n",
      " '/gt2l/segment_quality/reference_pt_lon',\n",
      " '/gt2l/segment_quality/segment_id',\n",
      " '/gt2l/segment_quality/signal_selection_source',\n",
      " '/gt2l/segment_quality/signal_selection_status',\n",
      " '/gt2l/segment_quality/signal_selection_status/signal_selection_status_all',\n",
      " '/gt2l/segment_quality/signal_selection_status/signal_selection_status_backup',\n",
      " '/gt2l/segment_quality/signal_selection_status/signal_selection_status_confident',\n",
      " '/gt2r',\n",
      " '/gt2r/land_ice_segments',\n",
      " '/gt2r/land_ice_segments/atl06_quality_summary',\n",
      " '/gt2r/land_ice_segments/delta_time',\n",
      " '/gt2r/land_ice_segments/h_li',\n",
      " '/gt2r/land_ice_segments/h_li_sigma',\n",
      " '/gt2r/land_ice_segments/latitude',\n",
      " '/gt2r/land_ice_segments/longitude',\n",
      " '/gt2r/land_ice_segments/segment_id',\n",
      " '/gt2r/land_ice_segments/sigma_geo_h',\n",
      " '/gt2r/land_ice_segments/bias_correction',\n",
      " '/gt2r/land_ice_segments/bias_correction/fpb_mean_corr',\n",
      " '/gt2r/land_ice_segments/bias_correction/fpb_mean_corr_sigma',\n",
      " '/gt2r/land_ice_segments/bias_correction/fpb_med_corr',\n",
      " '/gt2r/land_ice_segments/bias_correction/fpb_med_corr_sigma',\n",
      " '/gt2r/land_ice_segments/bias_correction/fpb_n_corr',\n",
      " '/gt2r/land_ice_segments/bias_correction/med_r_fit',\n",
      " '/gt2r/land_ice_segments/bias_correction/tx_mean_corr',\n",
      " '/gt2r/land_ice_segments/bias_correction/tx_med_corr',\n",
      " '/gt2r/land_ice_segments/dem',\n",
      " '/gt2r/land_ice_segments/dem/dem_flag',\n",
      " '/gt2r/land_ice_segments/dem/dem_h',\n",
      " '/gt2r/land_ice_segments/dem/geoid_h',\n",
      " '/gt2r/land_ice_segments/fit_statistics',\n",
      " '/gt2r/land_ice_segments/fit_statistics/dh_fit_dx',\n",
      " '/gt2r/land_ice_segments/fit_statistics/dh_fit_dx_sigma',\n",
      " '/gt2r/land_ice_segments/fit_statistics/dh_fit_dy',\n",
      " '/gt2r/land_ice_segments/fit_statistics/h_expected_rms',\n",
      " '/gt2r/land_ice_segments/fit_statistics/h_mean',\n",
      " '/gt2r/land_ice_segments/fit_statistics/h_rms_misfit',\n",
      " '/gt2r/land_ice_segments/fit_statistics/h_robust_sprd',\n",
      " '/gt2r/land_ice_segments/fit_statistics/n_fit_photons',\n",
      " '/gt2r/land_ice_segments/fit_statistics/n_seg_pulses',\n",
      " '/gt2r/land_ice_segments/fit_statistics/sigma_h_mean',\n",
      " '/gt2r/land_ice_segments/fit_statistics/signal_selection_source',\n",
      " '/gt2r/land_ice_segments/fit_statistics/signal_selection_source_status',\n",
      " '/gt2r/land_ice_segments/fit_statistics/snr',\n",
      " '/gt2r/land_ice_segments/fit_statistics/snr_significance',\n",
      " '/gt2r/land_ice_segments/fit_statistics/w_surface_window_final',\n",
      " '/gt2r/land_ice_segments/geophysical',\n",
      " '/gt2r/land_ice_segments/geophysical/bckgrd',\n",
      " '/gt2r/land_ice_segments/geophysical/bsnow_conf',\n",
      " '/gt2r/land_ice_segments/geophysical/bsnow_h',\n",
      " '/gt2r/land_ice_segments/geophysical/bsnow_od',\n",
      " '/gt2r/land_ice_segments/geophysical/cloud_flg_asr',\n",
      " '/gt2r/land_ice_segments/geophysical/cloud_flg_atm',\n",
      " '/gt2r/land_ice_segments/geophysical/dac',\n",
      " '/gt2r/land_ice_segments/geophysical/e_bckgrd',\n",
      " '/gt2r/land_ice_segments/geophysical/msw_flag',\n",
      " '/gt2r/land_ice_segments/geophysical/neutat_delay_total',\n",
      " '/gt2r/land_ice_segments/geophysical/r_eff',\n",
      " '/gt2r/land_ice_segments/geophysical/solar_azimuth',\n",
      " '/gt2r/land_ice_segments/geophysical/solar_elevation',\n",
      " '/gt2r/land_ice_segments/geophysical/tide_earth',\n",
      " '/gt2r/land_ice_segments/geophysical/tide_load',\n",
      " '/gt2r/land_ice_segments/geophysical/tide_ocean',\n",
      " '/gt2r/land_ice_segments/geophysical/tide_pole',\n",
      " '/gt2r/land_ice_segments/ground_track',\n",
      " '/gt2r/land_ice_segments/ground_track/ref_azimuth',\n",
      " '/gt2r/land_ice_segments/ground_track/ref_coelv',\n",
      " '/gt2r/land_ice_segments/ground_track/seg_azimuth',\n",
      " '/gt2r/land_ice_segments/ground_track/sigma_geo_at',\n",
      " '/gt2r/land_ice_segments/ground_track/sigma_geo_xt',\n",
      " '/gt2r/land_ice_segments/ground_track/x_atc',\n",
      " '/gt2r/land_ice_segments/ground_track/y_atc',\n",
      " '/gt2r/residual_histogram',\n",
      " '/gt2r/residual_histogram/bckgrd_per_bin',\n",
      " '/gt2r/residual_histogram/count',\n",
      " '/gt2r/residual_histogram/delta_time',\n",
      " '/gt2r/residual_histogram/dh',\n",
      " '/gt2r/residual_histogram/ds_segment_id',\n",
      " '/gt2r/residual_histogram/lat_mean',\n",
      " '/gt2r/residual_histogram/lon_mean',\n",
      " '/gt2r/residual_histogram/pulse_count',\n",
      " '/gt2r/residual_histogram/segment_id_list',\n",
      " '/gt2r/residual_histogram/x_atc_mean',\n",
      " '/gt2r/segment_quality',\n",
      " '/gt2r/segment_quality/delta_time',\n",
      " '/gt2r/segment_quality/record_number',\n",
      " '/gt2r/segment_quality/reference_pt_lat',\n",
      " '/gt2r/segment_quality/reference_pt_lon',\n",
      " '/gt2r/segment_quality/segment_id',\n",
      " '/gt2r/segment_quality/signal_selection_source',\n",
      " '/gt2r/segment_quality/signal_selection_status',\n",
      " '/gt2r/segment_quality/signal_selection_status/signal_selection_status_all',\n",
      " '/gt2r/segment_quality/signal_selection_status/signal_selection_status_backup',\n",
      " '/gt2r/segment_quality/signal_selection_status/signal_selection_status_confident',\n",
      " '/gt3l',\n",
      " '/gt3l/land_ice_segments',\n",
      " '/gt3l/land_ice_segments/atl06_quality_summary',\n",
      " '/gt3l/land_ice_segments/delta_time',\n",
      " '/gt3l/land_ice_segments/h_li',\n",
      " '/gt3l/land_ice_segments/h_li_sigma',\n",
      " '/gt3l/land_ice_segments/latitude',\n",
      " '/gt3l/land_ice_segments/longitude',\n",
      " '/gt3l/land_ice_segments/segment_id',\n",
      " '/gt3l/land_ice_segments/sigma_geo_h',\n",
      " '/gt3l/land_ice_segments/bias_correction',\n",
      " '/gt3l/land_ice_segments/bias_correction/fpb_mean_corr',\n",
      " '/gt3l/land_ice_segments/bias_correction/fpb_mean_corr_sigma',\n",
      " '/gt3l/land_ice_segments/bias_correction/fpb_med_corr',\n",
      " '/gt3l/land_ice_segments/bias_correction/fpb_med_corr_sigma',\n",
      " '/gt3l/land_ice_segments/bias_correction/fpb_n_corr',\n",
      " '/gt3l/land_ice_segments/bias_correction/med_r_fit',\n",
      " '/gt3l/land_ice_segments/bias_correction/tx_mean_corr',\n",
      " '/gt3l/land_ice_segments/bias_correction/tx_med_corr',\n",
      " '/gt3l/land_ice_segments/dem',\n",
      " '/gt3l/land_ice_segments/dem/dem_flag',\n",
      " '/gt3l/land_ice_segments/dem/dem_h',\n",
      " '/gt3l/land_ice_segments/dem/geoid_h',\n",
      " '/gt3l/land_ice_segments/fit_statistics',\n",
      " '/gt3l/land_ice_segments/fit_statistics/dh_fit_dx',\n",
      " '/gt3l/land_ice_segments/fit_statistics/dh_fit_dx_sigma',\n",
      " '/gt3l/land_ice_segments/fit_statistics/dh_fit_dy',\n",
      " '/gt3l/land_ice_segments/fit_statistics/h_expected_rms',\n",
      " '/gt3l/land_ice_segments/fit_statistics/h_mean',\n",
      " '/gt3l/land_ice_segments/fit_statistics/h_rms_misfit',\n",
      " '/gt3l/land_ice_segments/fit_statistics/h_robust_sprd',\n",
      " '/gt3l/land_ice_segments/fit_statistics/n_fit_photons',\n",
      " '/gt3l/land_ice_segments/fit_statistics/n_seg_pulses',\n",
      " '/gt3l/land_ice_segments/fit_statistics/sigma_h_mean',\n",
      " '/gt3l/land_ice_segments/fit_statistics/signal_selection_source',\n",
      " '/gt3l/land_ice_segments/fit_statistics/signal_selection_source_status',\n",
      " '/gt3l/land_ice_segments/fit_statistics/snr',\n",
      " '/gt3l/land_ice_segments/fit_statistics/snr_significance',\n",
      " '/gt3l/land_ice_segments/fit_statistics/w_surface_window_final',\n",
      " '/gt3l/land_ice_segments/geophysical',\n",
      " '/gt3l/land_ice_segments/geophysical/bckgrd',\n",
      " '/gt3l/land_ice_segments/geophysical/bsnow_conf',\n",
      " '/gt3l/land_ice_segments/geophysical/bsnow_h',\n",
      " '/gt3l/land_ice_segments/geophysical/bsnow_od',\n",
      " '/gt3l/land_ice_segments/geophysical/cloud_flg_asr',\n",
      " '/gt3l/land_ice_segments/geophysical/cloud_flg_atm',\n",
      " '/gt3l/land_ice_segments/geophysical/dac',\n",
      " '/gt3l/land_ice_segments/geophysical/e_bckgrd',\n",
      " '/gt3l/land_ice_segments/geophysical/msw_flag',\n",
      " '/gt3l/land_ice_segments/geophysical/neutat_delay_total',\n",
      " '/gt3l/land_ice_segments/geophysical/r_eff',\n",
      " '/gt3l/land_ice_segments/geophysical/solar_azimuth',\n",
      " '/gt3l/land_ice_segments/geophysical/solar_elevation',\n",
      " '/gt3l/land_ice_segments/geophysical/tide_earth',\n",
      " '/gt3l/land_ice_segments/geophysical/tide_load',\n",
      " '/gt3l/land_ice_segments/geophysical/tide_ocean',\n",
      " '/gt3l/land_ice_segments/geophysical/tide_pole',\n",
      " '/gt3l/land_ice_segments/ground_track',\n",
      " '/gt3l/land_ice_segments/ground_track/ref_azimuth',\n",
      " '/gt3l/land_ice_segments/ground_track/ref_coelv',\n",
      " '/gt3l/land_ice_segments/ground_track/seg_azimuth',\n",
      " '/gt3l/land_ice_segments/ground_track/sigma_geo_at',\n",
      " '/gt3l/land_ice_segments/ground_track/sigma_geo_xt',\n",
      " '/gt3l/land_ice_segments/ground_track/x_atc',\n",
      " '/gt3l/land_ice_segments/ground_track/y_atc',\n",
      " '/gt3l/residual_histogram',\n",
      " '/gt3l/residual_histogram/bckgrd_per_bin',\n",
      " '/gt3l/residual_histogram/count',\n",
      " '/gt3l/residual_histogram/delta_time',\n",
      " '/gt3l/residual_histogram/dh',\n",
      " '/gt3l/residual_histogram/ds_segment_id',\n",
      " '/gt3l/residual_histogram/lat_mean',\n",
      " '/gt3l/residual_histogram/lon_mean',\n",
      " '/gt3l/residual_histogram/pulse_count',\n",
      " '/gt3l/residual_histogram/segment_id_list',\n",
      " '/gt3l/residual_histogram/x_atc_mean',\n",
      " '/gt3l/segment_quality',\n",
      " '/gt3l/segment_quality/delta_time',\n",
      " '/gt3l/segment_quality/record_number',\n",
      " '/gt3l/segment_quality/reference_pt_lat',\n",
      " '/gt3l/segment_quality/reference_pt_lon',\n",
      " '/gt3l/segment_quality/segment_id',\n",
      " '/gt3l/segment_quality/signal_selection_source',\n",
      " '/gt3l/segment_quality/signal_selection_status',\n",
      " '/gt3l/segment_quality/signal_selection_status/signal_selection_status_all',\n",
      " '/gt3l/segment_quality/signal_selection_status/signal_selection_status_backup',\n",
      " '/gt3l/segment_quality/signal_selection_status/signal_selection_status_confident',\n",
      " '/gt3r',\n",
      " '/gt3r/land_ice_segments',\n",
      " '/gt3r/land_ice_segments/atl06_quality_summary',\n",
      " '/gt3r/land_ice_segments/delta_time',\n",
      " '/gt3r/land_ice_segments/h_li',\n",
      " '/gt3r/land_ice_segments/h_li_sigma',\n",
      " '/gt3r/land_ice_segments/latitude',\n",
      " '/gt3r/land_ice_segments/longitude',\n",
      " '/gt3r/land_ice_segments/segment_id',\n",
      " '/gt3r/land_ice_segments/sigma_geo_h',\n",
      " '/gt3r/land_ice_segments/bias_correction',\n",
      " '/gt3r/land_ice_segments/bias_correction/fpb_mean_corr',\n",
      " '/gt3r/land_ice_segments/bias_correction/fpb_mean_corr_sigma',\n",
      " '/gt3r/land_ice_segments/bias_correction/fpb_med_corr',\n",
      " '/gt3r/land_ice_segments/bias_correction/fpb_med_corr_sigma',\n",
      " '/gt3r/land_ice_segments/bias_correction/fpb_n_corr',\n",
      " '/gt3r/land_ice_segments/bias_correction/med_r_fit',\n",
      " '/gt3r/land_ice_segments/bias_correction/tx_mean_corr',\n",
      " '/gt3r/land_ice_segments/bias_correction/tx_med_corr',\n",
      " '/gt3r/land_ice_segments/dem',\n",
      " '/gt3r/land_ice_segments/dem/dem_flag',\n",
      " '/gt3r/land_ice_segments/dem/dem_h',\n",
      " '/gt3r/land_ice_segments/dem/geoid_h',\n",
      " '/gt3r/land_ice_segments/fit_statistics',\n",
      " '/gt3r/land_ice_segments/fit_statistics/dh_fit_dx',\n",
      " '/gt3r/land_ice_segments/fit_statistics/dh_fit_dx_sigma',\n",
      " '/gt3r/land_ice_segments/fit_statistics/dh_fit_dy',\n",
      " '/gt3r/land_ice_segments/fit_statistics/h_expected_rms',\n",
      " '/gt3r/land_ice_segments/fit_statistics/h_mean',\n",
      " '/gt3r/land_ice_segments/fit_statistics/h_rms_misfit',\n",
      " '/gt3r/land_ice_segments/fit_statistics/h_robust_sprd',\n",
      " '/gt3r/land_ice_segments/fit_statistics/n_fit_photons',\n",
      " '/gt3r/land_ice_segments/fit_statistics/n_seg_pulses',\n",
      " '/gt3r/land_ice_segments/fit_statistics/sigma_h_mean',\n",
      " '/gt3r/land_ice_segments/fit_statistics/signal_selection_source',\n",
      " '/gt3r/land_ice_segments/fit_statistics/signal_selection_source_status',\n",
      " '/gt3r/land_ice_segments/fit_statistics/snr',\n",
      " '/gt3r/land_ice_segments/fit_statistics/snr_significance',\n",
      " '/gt3r/land_ice_segments/fit_statistics/w_surface_window_final',\n",
      " '/gt3r/land_ice_segments/geophysical',\n",
      " '/gt3r/land_ice_segments/geophysical/bckgrd',\n",
      " '/gt3r/land_ice_segments/geophysical/bsnow_conf',\n",
      " '/gt3r/land_ice_segments/geophysical/bsnow_h',\n",
      " '/gt3r/land_ice_segments/geophysical/bsnow_od',\n",
      " '/gt3r/land_ice_segments/geophysical/cloud_flg_asr',\n",
      " '/gt3r/land_ice_segments/geophysical/cloud_flg_atm',\n",
      " '/gt3r/land_ice_segments/geophysical/dac',\n",
      " '/gt3r/land_ice_segments/geophysical/e_bckgrd',\n",
      " '/gt3r/land_ice_segments/geophysical/msw_flag',\n",
      " '/gt3r/land_ice_segments/geophysical/neutat_delay_total',\n",
      " '/gt3r/land_ice_segments/geophysical/r_eff',\n",
      " '/gt3r/land_ice_segments/geophysical/solar_azimuth',\n",
      " '/gt3r/land_ice_segments/geophysical/solar_elevation',\n",
      " '/gt3r/land_ice_segments/geophysical/tide_earth',\n",
      " '/gt3r/land_ice_segments/geophysical/tide_load',\n",
      " '/gt3r/land_ice_segments/geophysical/tide_ocean',\n",
      " '/gt3r/land_ice_segments/geophysical/tide_pole',\n",
      " '/gt3r/land_ice_segments/ground_track',\n",
      " '/gt3r/land_ice_segments/ground_track/ref_azimuth',\n",
      " '/gt3r/land_ice_segments/ground_track/ref_coelv',\n",
      " '/gt3r/land_ice_segments/ground_track/seg_azimuth',\n",
      " '/gt3r/land_ice_segments/ground_track/sigma_geo_at',\n",
      " '/gt3r/land_ice_segments/ground_track/sigma_geo_xt',\n",
      " '/gt3r/land_ice_segments/ground_track/x_atc',\n",
      " '/gt3r/land_ice_segments/ground_track/y_atc',\n",
      " '/gt3r/residual_histogram',\n",
      " '/gt3r/residual_histogram/bckgrd_per_bin',\n",
      " '/gt3r/residual_histogram/count',\n",
      " '/gt3r/residual_histogram/delta_time',\n",
      " '/gt3r/residual_histogram/dh',\n",
      " '/gt3r/residual_histogram/ds_segment_id',\n",
      " '/gt3r/residual_histogram/lat_mean',\n",
      " '/gt3r/residual_histogram/lon_mean',\n",
      " '/gt3r/residual_histogram/pulse_count',\n",
      " '/gt3r/residual_histogram/segment_id_list',\n",
      " '/gt3r/residual_histogram/x_atc_mean',\n",
      " '/gt3r/segment_quality',\n",
      " '/gt3r/segment_quality/delta_time',\n",
      " '/gt3r/segment_quality/record_number',\n",
      " '/gt3r/segment_quality/reference_pt_lat',\n",
      " '/gt3r/segment_quality/reference_pt_lon',\n",
      " '/gt3r/segment_quality/segment_id',\n",
      " '/gt3r/segment_quality/signal_selection_source',\n",
      " '/gt3r/segment_quality/signal_selection_status',\n",
      " '/gt3r/segment_quality/signal_selection_status/signal_selection_status_all',\n",
      " '/gt3r/segment_quality/signal_selection_status/signal_selection_status_backup',\n",
      " '/gt3r/segment_quality/signal_selection_status/signal_selection_status_confident',\n",
      " '/orbit_info',\n",
      " '/orbit_info/crossing_time',\n",
      " '/orbit_info/cycle_number',\n",
      " '/orbit_info/lan',\n",
      " '/orbit_info/orbit_number',\n",
      " '/orbit_info/rgt',\n",
      " '/orbit_info/sc_orient',\n",
      " '/orbit_info/sc_orient_time',\n",
      " '/quality_assessment',\n",
      " '/quality_assessment/qa_granule_fail_reason',\n",
      " '/quality_assessment/qa_granule_pass_fail',\n",
      " '/quality_assessment/gt1l',\n",
      " '/quality_assessment/gt1l/delta_time',\n",
      " '/quality_assessment/gt1l/lat_mean',\n",
      " '/quality_assessment/gt1l/lon_mean',\n",
      " '/quality_assessment/gt1l/signal_selection_source_fraction_0',\n",
      " '/quality_assessment/gt1l/signal_selection_source_fraction_1',\n",
      " '/quality_assessment/gt1l/signal_selection_source_fraction_2',\n",
      " '/quality_assessment/gt1l/signal_selection_source_fraction_3',\n",
      " '/quality_assessment/gt1r',\n",
      " '/quality_assessment/gt1r/delta_time',\n",
      " '/quality_assessment/gt1r/lat_mean',\n",
      " '/quality_assessment/gt1r/lon_mean',\n",
      " '/quality_assessment/gt1r/signal_selection_source_fraction_0',\n",
      " '/quality_assessment/gt1r/signal_selection_source_fraction_1',\n",
      " '/quality_assessment/gt1r/signal_selection_source_fraction_2',\n",
      " '/quality_assessment/gt1r/signal_selection_source_fraction_3',\n",
      " '/quality_assessment/gt2l',\n",
      " '/quality_assessment/gt2l/delta_time',\n",
      " '/quality_assessment/gt2l/lat_mean',\n",
      " '/quality_assessment/gt2l/lon_mean',\n",
      " '/quality_assessment/gt2l/signal_selection_source_fraction_0',\n",
      " '/quality_assessment/gt2l/signal_selection_source_fraction_1',\n",
      " '/quality_assessment/gt2l/signal_selection_source_fraction_2',\n",
      " '/quality_assessment/gt2l/signal_selection_source_fraction_3',\n",
      " '/quality_assessment/gt2r',\n",
      " '/quality_assessment/gt2r/delta_time',\n",
      " '/quality_assessment/gt2r/lat_mean',\n",
      " '/quality_assessment/gt2r/lon_mean',\n",
      " '/quality_assessment/gt2r/signal_selection_source_fraction_0',\n",
      " '/quality_assessment/gt2r/signal_selection_source_fraction_1',\n",
      " '/quality_assessment/gt2r/signal_selection_source_fraction_2',\n",
      " '/quality_assessment/gt2r/signal_selection_source_fraction_3',\n",
      " '/quality_assessment/gt3l',\n",
      " '/quality_assessment/gt3l/delta_time',\n",
      " '/quality_assessment/gt3l/lat_mean',\n",
      " '/quality_assessment/gt3l/lon_mean',\n",
      " '/quality_assessment/gt3l/signal_selection_source_fraction_0',\n",
      " '/quality_assessment/gt3l/signal_selection_source_fraction_1',\n",
      " '/quality_assessment/gt3l/signal_selection_source_fraction_2',\n",
      " '/quality_assessment/gt3l/signal_selection_source_fraction_3',\n",
      " '/quality_assessment/gt3r',\n",
      " '/quality_assessment/gt3r/delta_time',\n",
      " '/quality_assessment/gt3r/lat_mean',\n",
      " '/quality_assessment/gt3r/lon_mean',\n",
      " '/quality_assessment/gt3r/signal_selection_source_fraction_0',\n",
      " '/quality_assessment/gt3r/signal_selection_source_fraction_1',\n",
      " '/quality_assessment/gt3r/signal_selection_source_fraction_2',\n",
      " '/quality_assessment/gt3r/signal_selection_source_fraction_3']\n"
     ]
    }
   ],
   "source": [
    "pprint.pprint(variable_vals)"
   ]
  },
  {
   "cell_type": "markdown",
   "metadata": {},
   "source": [
    "And we can enter a list of variables to subset separated by comma using the `coverage` key. All forward slashes need to be included to indicate HDF group hierarchy."
   ]
  },
  {
   "cell_type": "code",
   "execution_count": 22,
   "metadata": {},
   "outputs": [],
   "source": [
    "coverage = '/ancillary_data/atlas_sdp_gps_epoch,\\\n",
    "/gt1l/land_ice_segments/atl06_quality_summary,\\\n",
    "/gt1l/land_ice_segments/delta_time,\\\n",
    "/gt1l/land_ice_segments/h_li,\\\n",
    "/gt1l/land_ice_segments/h_li_sigma,\\\n",
    "/gt1l/land_ice_segments/latitude,\\\n",
    "/gt1l/land_ice_segments/longitude,\\\n",
    "/gt1l/land_ice_segments/segment_id,\\\n",
    "/gt1l/land_ice_segments/sigma_geo_h,\\\n",
    "/gt1r/land_ice_segments/atl06_quality_summary,\\\n",
    "/gt1r/land_ice_segments/delta_time,\\\n",
    "/gt1r/land_ice_segments/h_li,\\\n",
    "/gt1r/land_ice_segments/h_li_sigma,\\\n",
    "/gt1r/land_ice_segments/latitude,\\\n",
    "/gt1r/land_ice_segments/longitude,\\\n",
    "/gt1r/land_ice_segments/segment_id,\\\n",
    "/gt1r/land_ice_segments/sigma_geo_h,\\\n",
    "/gt2l/land_ice_segments/atl06_quality_summary,\\\n",
    "/gt2l/land_ice_segments/delta_time,\\\n",
    "/gt2l/land_ice_segments/h_li,\\\n",
    "/gt2l/land_ice_segments/h_li_sigma,\\\n",
    "/gt2l/land_ice_segments/latitude,\\\n",
    "/gt2l/land_ice_segments/longitude,\\\n",
    "/gt2l/land_ice_segments/segment_id,\\\n",
    "/gt2l/land_ice_segments/sigma_geo_h,\\\n",
    "/gt2r/land_ice_segments/atl06_quality_summary,\\\n",
    "/gt2r/land_ice_segments/delta_time,\\\n",
    "/gt2r/land_ice_segments/h_li,\\\n",
    "/gt2r/land_ice_segments/h_li_sigma,\\\n",
    "/gt2r/land_ice_segments/latitude,\\\n",
    "/gt2r/land_ice_segments/longitude,\\\n",
    "/gt2r/land_ice_segments/segment_id,\\\n",
    "/gt2r/land_ice_segments/sigma_geo_h,\\\n",
    "/gt3l/land_ice_segments/atl06_quality_summary,\\\n",
    "/gt3l/land_ice_segments/delta_time,\\\n",
    "/gt3l/land_ice_segments/h_li,\\\n",
    "/gt3l/land_ice_segments/h_li_sigma,\\\n",
    "/gt3l/land_ice_segments/latitude,\\\n",
    "/gt3l/land_ice_segments/longitude,\\\n",
    "/gt3l/land_ice_segments/segment_id,\\\n",
    "/gt3l/land_ice_segments/sigma_geo_h,\\\n",
    "/gt3r/land_ice_segments/atl06_quality_summary,\\\n",
    "/gt3r/land_ice_segments/delta_time,\\\n",
    "/gt3r/land_ice_segments/h_li,\\\n",
    "/gt3r/land_ice_segments/h_li_sigma,\\\n",
    "/gt3r/land_ice_segments/latitude,\\\n",
    "/gt3r/land_ice_segments/longitude,\\\n",
    "/gt3r/land_ice_segments/segment_id,\\\n",
    "/gt3r/land_ice_segments/sigma_geo_h,\\\n",
    "/orbit_info/cycle_number,\\\n",
    "/orbit_info/rgt,\\\n",
    "/orbit_info/orbit_number' "
   ]
  },
  {
   "cell_type": "code",
   "execution_count": null,
   "metadata": {},
   "outputs": [],
   "source": []
  },
  {
   "cell_type": "code",
   "execution_count": null,
   "metadata": {},
   "outputs": [],
   "source": []
  },
  {
   "cell_type": "code",
   "execution_count": null,
   "metadata": {},
   "outputs": [],
   "source": []
  },
  {
   "cell_type": "markdown",
   "metadata": {},
   "source": [
    "## Submitting the request - behind the scenes"
   ]
  },
  {
   "cell_type": "markdown",
   "metadata": {},
   "source": [
    "### Determine the number and size of granules available within a time range and location.\n",
    "\n",
    "#### Let's explore information about our data set. We'll start by determining the most recent version number of our data set. We will also find out how many data granules (files) exist over an area and time of interest. [The Common Metadata Repository](https://cmr.earthdata.nasa.gov/search/site/docs/search/api.html \"CMR API documentation\") is queried to explore this information. "
   ]
  },
  {
   "cell_type": "code",
   "execution_count": 34,
   "metadata": {},
   "outputs": [
    {
     "name": "stdout",
     "output_type": "stream",
     "text": [
      "{'feed': {'entry': [{'archive_center': 'NASA NSIDC DAAC',\n",
      "                     'associations': {'services': ['S1568899363-NSIDC_ECS',\n",
      "                                                   'S1613689509-NSIDC_ECS',\n",
      "                                                   'S1613669681-NSIDC_ECS']},\n",
      "                     'boxes': ['-90 -180 90 180'],\n",
      "                     'browse_flag': False,\n",
      "                     'coordinate_system': 'CARTESIAN',\n",
      "                     'data_center': 'NSIDC_ECS',\n",
      "                     'dataset_id': 'ATLAS/ICESat-2 L3A Land Ice Height V001',\n",
      "                     'has_formats': True,\n",
      "                     'has_spatial_subsetting': True,\n",
      "                     'has_temporal_subsetting': True,\n",
      "                     'has_transforms': False,\n",
      "                     'has_variables': True,\n",
      "                     'id': 'C1511847675-NSIDC_ECS',\n",
      "                     'links': [{'href': 'https://n5eil01u.ecs.nsidc.org/ATLAS/ATL06.001/',\n",
      "                                'hreflang': 'en-US',\n",
      "                                'length': '0.0KB',\n",
      "                                'rel': 'http://esipfed.org/ns/fedsearch/1.1/data#'},\n",
      "                               {'href': 'http://nsidc.org/daac/subscriptions.html',\n",
      "                                'hreflang': 'en-US',\n",
      "                                'length': '0.0KB',\n",
      "                                'rel': 'http://esipfed.org/ns/fedsearch/1.1/data#'},\n",
      "                               {'href': 'https://search.earthdata.nasa.gov/search/granules?p=C1511847675-NSIDC_ECS&m=-87.87967837686685!9.890967019347585!1!1!0!0%2C2&tl=1542476530!4!!&q=atl06&ok=atl06',\n",
      "                                'hreflang': 'en-US',\n",
      "                                'length': '0.0KB',\n",
      "                                'rel': 'http://esipfed.org/ns/fedsearch/1.1/data#'},\n",
      "                               {'href': 'https://openaltimetry.org/',\n",
      "                                'hreflang': 'en-US',\n",
      "                                'length': '0.0KB',\n",
      "                                'rel': 'http://esipfed.org/ns/fedsearch/1.1/data#'},\n",
      "                               {'href': 'https://doi.org/10.5067/ATLAS/ATL06.001',\n",
      "                                'hreflang': 'en-US',\n",
      "                                'rel': 'http://esipfed.org/ns/fedsearch/1.1/metadata#'},\n",
      "                               {'href': 'https://doi.org/10.5067/ATLAS/ATL06.001',\n",
      "                                'hreflang': 'en-US',\n",
      "                                'rel': 'http://esipfed.org/ns/fedsearch/1.1/documentation#'}],\n",
      "                     'online_access_flag': True,\n",
      "                     'orbit_parameters': {'inclination_angle': '92.0',\n",
      "                                          'number_of_orbits': '0.071428571',\n",
      "                                          'period': '94.29',\n",
      "                                          'start_circular_latitude': '0.0',\n",
      "                                          'swath_width': '36.0'},\n",
      "                     'organizations': ['NASA NSIDC DAAC',\n",
      "                                       'NASA/GSFC/EOS/ESDIS'],\n",
      "                     'original_format': 'ISO19115',\n",
      "                     'processing_level_id': 'Level 3',\n",
      "                     'short_name': 'ATL06',\n",
      "                     'summary': 'This data set (ATL06) provides geolocated, '\n",
      "                                'land-ice surface heights (above the WGS 84 '\n",
      "                                'ellipsoid, ITRF2014 reference frame), plus '\n",
      "                                'ancillary parameters that can be used to '\n",
      "                                'interpret and assess the quality of the '\n",
      "                                'height estimates. The data were acquired by '\n",
      "                                'the Advanced Topographic Laser Altimeter '\n",
      "                                'System (ATLAS) instrument on board the Ice, '\n",
      "                                'Cloud and land Elevation Satellite-2 '\n",
      "                                '(ICESat-2) observatory.',\n",
      "                     'time_start': '2018-10-14T00:00:00.000Z',\n",
      "                     'title': 'ATLAS/ICESat-2 L3A Land Ice Height V001',\n",
      "                     'version_id': '001'}],\n",
      "          'id': 'https://cmr.earthdata.nasa.gov:443/search/collections.json?short_name=ATL06',\n",
      "          'title': 'ECHO dataset metadata',\n",
      "          'updated': '2019-10-17T16:07:47.068Z'}}\n"
     ]
    }
   ],
   "source": [
    "# Get json response from CMR collection metadata and print results. This provides high-level metadata on a data set or \"collection\", provide in json format.\n",
    "\n",
    "params = {\n",
    "    'short_name': short_name\n",
    "}\n",
    "\n",
    "cmr_collections_url = 'https://cmr.earthdata.nasa.gov/search/collections.json'\n",
    "response = requests.get(cmr_collections_url, params=params)\n",
    "results = json.loads(response.content)\n",
    "pprint.pprint(results)"
   ]
  },
  {
   "cell_type": "markdown",
   "metadata": {},
   "source": [
    "#### There may be cases where more than one data set version exists, which may happen when ICESat-2 data version up. Let's make sure we have the most recent version of our data set."
   ]
  },
  {
   "cell_type": "code",
   "execution_count": 10,
   "metadata": {},
   "outputs": [
    {
     "name": "stdout",
     "output_type": "stream",
     "text": [
      "001\n"
     ]
    }
   ],
   "source": [
    "# Find all instances of 'version_id' in metadata and print most recent version number\n",
    "\n",
    "versions = [i['version_id'] for i in results['feed']['entry']]\n",
    "latest_version = max(versions)\n",
    "print(latest_version)"
   ]
  },
  {
   "cell_type": "markdown",
   "metadata": {},
   "source": [
    "### Submit the search query\n",
    "\n",
    "#### We will now populate dictionaries to be applied to our search query below based on spatial and temporal inputs. For additional search parameters, see the [The Common Metadata Repository API documentation](https://cmr.earthdata.nasa.gov/search/site/docs/search/api.html \"CMR API documentation\").\n"
   ]
  },
  {
   "cell_type": "code",
   "execution_count": 38,
   "metadata": {},
   "outputs": [
    {
     "name": "stdout",
     "output_type": "stream",
     "text": [
      "CMR search parameters:  {'short_name': 'ATL06', 'version': '001', 'temporal': '2019-02-22T00:00:00Z,2019-02-28T23:59:59Z', 'page_size': 100, 'page_num': 1, 'bounding_box': '-64,66,-55,72'}\n"
     ]
    }
   ],
   "source": [
    "#Create CMR parameters used for granule search. Modify params depending on bounding_box or polygon input.\n",
    "\n",
    "if aoi == '1':\n",
    "# bounding box input:\n",
    "    params = {\n",
    "    'short_name': short_name,\n",
    "    'version': latest_version,\n",
    "    'temporal': temporal,\n",
    "    'page_size': 100,\n",
    "    'page_num': 1,\n",
    "    'bounding_box': bounding_box\n",
    "    }\n",
    "else:\n",
    "    \n",
    "# If polygon input (either via coordinate pairs or shapefile/KML/KMZ):\n",
    "    params = {\n",
    "    'short_name': short_name,\n",
    "    'version': latest_version,\n",
    "    'temporal': temporal,\n",
    "    'page_size': 100,\n",
    "    'page_num': 1,\n",
    "    'polygon': polygon,\n",
    "    }\n",
    "\n",
    "print('CMR search parameters: ', params)"
   ]
  },
  {
   "cell_type": "markdown",
   "metadata": {},
   "source": [
    "#### Input the parameter dictionary to the CMR granule search to query all granules that meet the criteria based on the granule metadata. Print the number of granules returned."
   ]
  },
  {
   "cell_type": "code",
   "execution_count": 39,
   "metadata": {},
   "outputs": [
    {
     "data": {
      "text/plain": [
       "5"
      ]
     },
     "execution_count": 39,
     "metadata": {},
     "output_type": "execute_result"
    }
   ],
   "source": [
    "# Query number of granules using our (paging over results)\n",
    "\n",
    "granule_search_url = 'https://cmr.earthdata.nasa.gov/search/granules'\n",
    "\n",
    "granules = []\n",
    "while True:\n",
    "    response = requests.get(granule_search_url, params=params, headers=headers)\n",
    "    results = json.loads(response.content)\n",
    "\n",
    "    if len(results['feed']['entry']) == 0:\n",
    "        # Out of results, so break out of loop\n",
    "        break\n",
    "\n",
    "    # Collect results and increment page_num\n",
    "    granules.extend(results['feed']['entry'])\n",
    "    params['page_num'] += 1\n",
    "\n",
    "    \n",
    "# Get number of granules over my area and time of interest\n",
    "len(granules)\n"
   ]
  },
  {
   "cell_type": "markdown",
   "metadata": {},
   "source": [
    "#### We can view this in the [NASA Earthdata Search web interface](https://search.earthdata.nasa.gov/search/granules?polygon=-86.625%2C-74.900390625%2C-87.029296875%2C-74.6015625%2C-90.298828125%2C-74.021484375%2C-93.427734375%2C-73.93359375%2C-94.359375%2C-73.74023437500001%2C-96.767578125%2C-74.126953125%2C-100.107421875%2C-74.021484375%2C-100.828125%2C-74.37304687500001%2C-102.427734375%2C-74.49609375%2C-101.25%2C-74.70703125%2C-101.548828125%2C-75.02343750000001%2C-104.009765625%2C-75.515625%2C-102.357421875%2C-75.744140625%2C-101.28515625%2C-76.201171875%2C-101.197265625%2C-76.271484375%2C-101.443359375%2C-76.658203125%2C-101.03906250000001%2C-76.93945312500001%2C-96.521484375%2C-77.484375%2C-96.43359375%2C-77.677734375%2C-97.611328125%2C-78.029296875%2C-95.02734375%2C-78.591796875%2C-94.9921875%2C-78.732421875%2C-95.677734375%2C-78.99609375%2C-95.27343750000001%2C-79.119140625%2C-95.431640625%2C-79.2421875%2C-93.990234375%2C-79.611328125%2C-93.884765625%2C-79.875%2C-93.234375%2C-80.0859375%2C-91.705078125%2C-79.875%2C-91.810546875%2C-79.857421875%2C-91.494140625%2C-79.8046875%2C-91.458984375%2C-79.646484375%2C-90.43945312500001%2C-79.59375%2C-90.544921875%2C-79.55859375%2C-90.03515625%2C-79.2421875%2C-88.98046875%2C-79.083984375%2C-92.03906250000001%2C-78.416015625%2C-92.109375%2C-78.310546875%2C-90.73828125%2C-77.90625000000001%2C-92.390625%2C-77.501953125%2C-92.197265625%2C-77.37890625%2C-92.337890625%2C-77.203125%2C-91.01953125%2C-77.150390625%2C-91.880859375%2C-76.869140625%2C-87.064453125%2C-75.884765625%2C-86.87109375%2C-75.708984375%2C-87.08203125%2C-75.4453125%2C-86.607421875%2C-75.005859375%2C-86.625%2C-74.900390625&p=C1511847675-NSIDC_ECS!C1511847675-NSIDC_ECS&pg[1][v]=t&m=-74.09615279797836!-130.36684058200473!1!2!0!0%2C2&qt=2019-02-22T00%3A00%3A00.000Z%2C2019-02-22T23%3A59%3A59.000Z&q=atl06&ok=atl06&sf=5633090487), which relies on the same metadata, although their simplified polygon may differ slightly. With the same search criteria applied, we can view the same 4 granules of ATL06 over the glacier.\n"
   ]
  },
  {
   "cell_type": "markdown",
   "metadata": {},
   "source": [
    "#### Now query the average size of those granules: "
   ]
  },
  {
   "cell_type": "code",
   "execution_count": 40,
   "metadata": {},
   "outputs": [
    {
     "data": {
      "text/plain": [
       "39.7466140747"
      ]
     },
     "execution_count": 40,
     "metadata": {},
     "output_type": "execute_result"
    }
   ],
   "source": [
    "granule_sizes = [float(granule['granule_size']) for granule in granules]\n",
    "\n",
    "# Average size of granules in MB\n",
    "mean(granule_sizes)"
   ]
  },
  {
   "cell_type": "markdown",
   "metadata": {},
   "source": [
    "#### As well as the total volume:"
   ]
  },
  {
   "cell_type": "code",
   "execution_count": 41,
   "metadata": {},
   "outputs": [
    {
     "data": {
      "text/plain": [
       "198.73307037349997"
      ]
     },
     "execution_count": 41,
     "metadata": {},
     "output_type": "execute_result"
    }
   ],
   "source": [
    "# Total volume in MB\n",
    "sum(granule_sizes)"
   ]
  },
  {
   "cell_type": "markdown",
   "metadata": {},
   "source": [
    "#### Although subsetting, reformatting, or reprojecting can alter the size of the granules, this \"native\" granule size can still be used to guide us towards the best download method to pursue, which we will come back to later on in this tutorial."
   ]
  },
  {
   "cell_type": "markdown",
   "metadata": {},
   "source": [
    "## Request data from the NSIDC data access API."
   ]
  },
  {
   "cell_type": "markdown",
   "metadata": {},
   "source": [
    "#### We will now set up our data download request. The data access and service API (labeled EGI below) incorporates the CMR parameters that we explored above, plus customization service parameters as well as a few configuration parameters.\n",
    "\n",
    "![Data Access Service API diagram](https://gsfc-ngap-developer.s3.amazonaws.com/be03ae4ddbe19c8ea7734df6941385b8baba4741f6c7ec62fd4230eccdc31fc0)\n",
    "\n",
    "#### As described above, the API is structured as a URL with a base plus individual key-value-pairs (KVPs) separated by ‘&’. The base URL of the NSIDC API is: </br>\n",
    "`https://n5eil02u.ecs.nsidc.org/egi/request`\n"
   ]
  },
  {
   "cell_type": "code",
   "execution_count": 42,
   "metadata": {},
   "outputs": [],
   "source": [
    "#Set NSIDC data access base URL\n",
    "base_url = 'https://n5eil02u.ecs.nsidc.org/egi/request'"
   ]
  },
  {
   "cell_type": "markdown",
   "metadata": {},
   "source": [
    "#### Let's go over the configuration parameters:\n",
    "\n",
    "* `request_mode`\n",
    "* `page_size`\n",
    "* `page_num`\n",
    "\n",
    "`request_mode` is \"synchronous\" by default, meaning that the request relies on a direct, continous connection between you and the API endpoint. Outputs are directly downloaded, or \"streamed\" to your working directory. For this tutorial, we will set the request mode to asynchronous, which will allow concurrent requests to be queued and processed without the need for a continuous connection.\n",
    "\n",
    "**Use the streaming `request_mode` with caution: While it can be beneficial to stream outputs directly to your local directory, note that timeout errors can result depending on the size of the request, and your request will not be queued in the system if NSIDC is experiencing high request volume. For best performance, I recommend setting `page_size=1` to download individual outputs, which will eliminate extra time needed to zip outputs and will ensure faster processing times per request. An example streaming request loop is available at the bottom of the tutorial below. **\n",
    "\n",
    "Recall that we queried the total number and volume of granules prior to applying customization services. `page_size` and `page_num` can be used to adjust the number of granules per request up to a limit of 2000 granules for asynchronous, and 100 granules for synchronous (streaming). For now, let's select 10 granules to be processed in each zipped request. For ATL06, the granule size can exceed 100 MB so we want to choose a granule count that provides us with a reasonable zipped download size. "
   ]
  },
  {
   "cell_type": "code",
   "execution_count": 43,
   "metadata": {},
   "outputs": [
    {
     "name": "stdout",
     "output_type": "stream",
     "text": [
      "1\n"
     ]
    }
   ],
   "source": [
    "# Set number of granules requested per order, which we will initially set to 10.\n",
    "page_size = 10\n",
    "\n",
    "#Determine number of pages basd on page_size and total granules. Loop requests by this value\n",
    "page_num = math.ceil(len(granules)/page_size)\n",
    "\n",
    "#Set request mode. \n",
    "request_mode = 'async'\n",
    "\n",
    "# Determine how many individual orders we will request based on the number of granules requested\n",
    "\n",
    "print(page_num)"
   ]
  },
  {
   "cell_type": "markdown",
   "metadata": {},
   "source": [
    "#### After all of these KVP inputs, what does our request look like? Here's a summary of all possible KVPs that we explored, both for CMR searching and for the subsetter:\n",
    "\n",
    "#### CMR search keys:\n",
    "* `short_name=`\n",
    "* `version=`\n",
    "* `temporal=`\n",
    "* `bounding_box=`\n",
    "* `polygon=`\n",
    "\n",
    "#### Customization service keys:\n",
    "* `time=`\n",
    "* `bbox=`\n",
    "* `bounding_shape=` \n",
    "* `format=`\n",
    "* `projection=`\n",
    "* `projection_parameters=`\n",
    "* `Coverage=`\n",
    "\n",
    "#### No customization (access only):\n",
    "* `agent=`    \n",
    "* `include_meta=` \n",
    "    * `Y` by default. `N` for No metadata requested.\n",
    "\n",
    "#### Request configuration keys:\n",
    "* `request_mode=` \n",
    "* `page_size=`\n",
    "* `page_num=`\n",
    "* `token=`\n",
    "* `email=`"
   ]
  },
  {
   "cell_type": "markdown",
   "metadata": {},
   "source": [
    "#### If we were to create an API request based on our request parameters and submit into a web browser for example, here's what we end up with:"
   ]
  },
  {
   "cell_type": "code",
   "execution_count": 44,
   "metadata": {},
   "outputs": [
    {
     "ename": "NameError",
     "evalue": "name 'polygon' is not defined",
     "output_type": "error",
     "traceback": [
      "\u001b[0;31m---------------------------------------------------------------------------\u001b[0m",
      "\u001b[0;31mNameError\u001b[0m                                 Traceback (most recent call last)",
      "\u001b[0;32m<ipython-input-44-61722012488c>\u001b[0m in \u001b[0;36m<module>\u001b[0;34m\u001b[0m\n\u001b[1;32m      1\u001b[0m \u001b[0;31m#Print API base URL + request parameters\u001b[0m\u001b[0;34m\u001b[0m\u001b[0;34m\u001b[0m\u001b[0;34m\u001b[0m\u001b[0m\n\u001b[0;32m----> 2\u001b[0;31m \u001b[0mAPI_request\u001b[0m \u001b[0;34m=\u001b[0m \u001b[0;34mf'{base_url}?short_name={short_name}&version={latest_version}&temporal={temporal}&time={timevar}&polygon={polygon}&Coverage={coverage}&request_mode={request_mode}&page_size={page_size}&page_num={page_num}&token={token}&email={email}'\u001b[0m\u001b[0;34m\u001b[0m\u001b[0;34m\u001b[0m\u001b[0m\n\u001b[0m\u001b[1;32m      3\u001b[0m \u001b[0mprint\u001b[0m\u001b[0;34m(\u001b[0m\u001b[0mAPI_request\u001b[0m\u001b[0;34m)\u001b[0m\u001b[0;34m\u001b[0m\u001b[0;34m\u001b[0m\u001b[0m\n",
      "\u001b[0;31mNameError\u001b[0m: name 'polygon' is not defined"
     ]
    }
   ],
   "source": [
    "#Print API base URL + request parameters --> for polygon\n",
    "API_request = f'{base_url}?short_name={short_name}&version={latest_version}&temporal={temporal}&time={timevar}&polygon={polygon}&Coverage={coverage}&request_mode={request_mode}&page_size={page_size}&page_num={page_num}&token={token}&email={email}'\n",
    "print(API_request)\n"
   ]
  },
  {
   "cell_type": "code",
   "execution_count": 47,
   "metadata": {},
   "outputs": [
    {
     "name": "stdout",
     "output_type": "stream",
     "text": [
      "https://n5eil02u.ecs.nsidc.org/egi/request?short_name=ATL06&version=001&temporal=2019-02-22T00:00:00Z,2019-02-28T23:59:59Z&time=2019-02-22T00:00:00,2019-02-28T23:59:59&bbox=-64,66,-55,72&Coverage=/ancillary_data/atlas_sdp_gps_epoch,/gt1l/land_ice_segments/atl06_quality_summary,/gt1l/land_ice_segments/delta_time,/gt1l/land_ice_segments/h_li,/gt1l/land_ice_segments/h_li_sigma,/gt1l/land_ice_segments/latitude,/gt1l/land_ice_segments/longitude,/gt1l/land_ice_segments/segment_id,/gt1l/land_ice_segments/sigma_geo_h,/gt1r/land_ice_segments/atl06_quality_summary,/gt1r/land_ice_segments/delta_time,/gt1r/land_ice_segments/h_li,/gt1r/land_ice_segments/h_li_sigma,/gt1r/land_ice_segments/latitude,/gt1r/land_ice_segments/longitude,/gt1r/land_ice_segments/segment_id,/gt1r/land_ice_segments/sigma_geo_h,/gt2l/land_ice_segments/atl06_quality_summary,/gt2l/land_ice_segments/delta_time,/gt2l/land_ice_segments/h_li,/gt2l/land_ice_segments/h_li_sigma,/gt2l/land_ice_segments/latitude,/gt2l/land_ice_segments/longitude,/gt2l/land_ice_segments/segment_id,/gt2l/land_ice_segments/sigma_geo_h,/gt2r/land_ice_segments/atl06_quality_summary,/gt2r/land_ice_segments/delta_time,/gt2r/land_ice_segments/h_li,/gt2r/land_ice_segments/h_li_sigma,/gt2r/land_ice_segments/latitude,/gt2r/land_ice_segments/longitude,/gt2r/land_ice_segments/segment_id,/gt2r/land_ice_segments/sigma_geo_h,/gt3l/land_ice_segments/atl06_quality_summary,/gt3l/land_ice_segments/delta_time,/gt3l/land_ice_segments/h_li,/gt3l/land_ice_segments/h_li_sigma,/gt3l/land_ice_segments/latitude,/gt3l/land_ice_segments/longitude,/gt3l/land_ice_segments/segment_id,/gt3l/land_ice_segments/sigma_geo_h,/gt3r/land_ice_segments/atl06_quality_summary,/gt3r/land_ice_segments/delta_time,/gt3r/land_ice_segments/h_li,/gt3r/land_ice_segments/h_li_sigma,/gt3r/land_ice_segments/latitude,/gt3r/land_ice_segments/longitude,/gt3r/land_ice_segments/segment_id,/gt3r/land_ice_segments/sigma_geo_h,/orbit_info/cycle_number,/orbit_info/rgt,/orbit_info/orbit_number&request_mode=async&page_size=10&page_num=1&token=E1017B5B-C7B5-7C1C-ABFF-B9A5D16D333F&email=jessica.scheick@maine.edu\n"
     ]
    }
   ],
   "source": [
    "#Print API base URL + request parameters --> for bbox\n",
    "API_request = f'{base_url}?short_name={short_name}&version={latest_version}&temporal={temporal}&time={timevar}&bbox={bbox}&Coverage={coverage}&request_mode={request_mode}&page_size={page_size}&page_num={page_num}&token={token}&email={email}'\n",
    "print(API_request)\n"
   ]
  },
  {
   "cell_type": "markdown",
   "metadata": {},
   "source": [
    "#### We'll also create a new dictionary of NSIDC API KVPs to be used in our subset request. Because we are looping through each page of requests, we'll add the `page_num` KVP to our dictionary within the loop below."
   ]
  },
  {
   "cell_type": "code",
   "execution_count": 48,
   "metadata": {},
   "outputs": [
    {
     "ename": "NameError",
     "evalue": "name 'polygon' is not defined",
     "output_type": "error",
     "traceback": [
      "\u001b[0;31m---------------------------------------------------------------------------\u001b[0m",
      "\u001b[0;31mNameError\u001b[0m                                 Traceback (most recent call last)",
      "\u001b[0;32m<ipython-input-48-050410ce2ccf>\u001b[0m in \u001b[0;36m<module>\u001b[0;34m\u001b[0m\n\u001b[1;32m      4\u001b[0m     \u001b[0;34m'temporal'\u001b[0m\u001b[0;34m:\u001b[0m \u001b[0mtemporal\u001b[0m\u001b[0;34m,\u001b[0m\u001b[0;34m\u001b[0m\u001b[0;34m\u001b[0m\u001b[0m\n\u001b[1;32m      5\u001b[0m     \u001b[0;34m'time'\u001b[0m\u001b[0;34m:\u001b[0m \u001b[0mtimevar\u001b[0m\u001b[0;34m,\u001b[0m\u001b[0;34m\u001b[0m\u001b[0;34m\u001b[0m\u001b[0m\n\u001b[0;32m----> 6\u001b[0;31m     \u001b[0;34m'polygon'\u001b[0m\u001b[0;34m:\u001b[0m \u001b[0mpolygon\u001b[0m\u001b[0;34m,\u001b[0m\u001b[0;34m\u001b[0m\u001b[0;34m\u001b[0m\u001b[0m\n\u001b[0m\u001b[1;32m      7\u001b[0m     \u001b[0;34m'Coverage'\u001b[0m\u001b[0;34m:\u001b[0m \u001b[0mcoverage\u001b[0m\u001b[0;34m,\u001b[0m\u001b[0;34m\u001b[0m\u001b[0;34m\u001b[0m\u001b[0m\n\u001b[1;32m      8\u001b[0m     \u001b[0;34m'request_mode'\u001b[0m\u001b[0;34m:\u001b[0m \u001b[0mrequest_mode\u001b[0m\u001b[0;34m,\u001b[0m\u001b[0;34m\u001b[0m\u001b[0;34m\u001b[0m\u001b[0m\n",
      "\u001b[0;31mNameError\u001b[0m: name 'polygon' is not defined"
     ]
    }
   ],
   "source": [
    "subset_params = {\n",
    "    'short_name': short_name, \n",
    "    'version': latest_version, \n",
    "    'temporal': temporal, \n",
    "    'time': timevar, \n",
    "    'polygon': polygon, \n",
    "    'Coverage': coverage, \n",
    "    'request_mode': request_mode, \n",
    "    'page_size': page_size,  \n",
    "    'token': token, \n",
    "    'email': email, \n",
    "    }\n",
    "print(subset_params)"
   ]
  },
  {
   "cell_type": "code",
   "execution_count": 49,
   "metadata": {},
   "outputs": [
    {
     "name": "stdout",
     "output_type": "stream",
     "text": [
      "{'short_name': 'ATL06', 'version': '001', 'temporal': '2019-02-22T00:00:00Z,2019-02-28T23:59:59Z', 'time': '2019-02-22T00:00:00,2019-02-28T23:59:59', 'bbox': '-64,66,-55,72', 'Coverage': '/ancillary_data/atlas_sdp_gps_epoch,/gt1l/land_ice_segments/atl06_quality_summary,/gt1l/land_ice_segments/delta_time,/gt1l/land_ice_segments/h_li,/gt1l/land_ice_segments/h_li_sigma,/gt1l/land_ice_segments/latitude,/gt1l/land_ice_segments/longitude,/gt1l/land_ice_segments/segment_id,/gt1l/land_ice_segments/sigma_geo_h,/gt1r/land_ice_segments/atl06_quality_summary,/gt1r/land_ice_segments/delta_time,/gt1r/land_ice_segments/h_li,/gt1r/land_ice_segments/h_li_sigma,/gt1r/land_ice_segments/latitude,/gt1r/land_ice_segments/longitude,/gt1r/land_ice_segments/segment_id,/gt1r/land_ice_segments/sigma_geo_h,/gt2l/land_ice_segments/atl06_quality_summary,/gt2l/land_ice_segments/delta_time,/gt2l/land_ice_segments/h_li,/gt2l/land_ice_segments/h_li_sigma,/gt2l/land_ice_segments/latitude,/gt2l/land_ice_segments/longitude,/gt2l/land_ice_segments/segment_id,/gt2l/land_ice_segments/sigma_geo_h,/gt2r/land_ice_segments/atl06_quality_summary,/gt2r/land_ice_segments/delta_time,/gt2r/land_ice_segments/h_li,/gt2r/land_ice_segments/h_li_sigma,/gt2r/land_ice_segments/latitude,/gt2r/land_ice_segments/longitude,/gt2r/land_ice_segments/segment_id,/gt2r/land_ice_segments/sigma_geo_h,/gt3l/land_ice_segments/atl06_quality_summary,/gt3l/land_ice_segments/delta_time,/gt3l/land_ice_segments/h_li,/gt3l/land_ice_segments/h_li_sigma,/gt3l/land_ice_segments/latitude,/gt3l/land_ice_segments/longitude,/gt3l/land_ice_segments/segment_id,/gt3l/land_ice_segments/sigma_geo_h,/gt3r/land_ice_segments/atl06_quality_summary,/gt3r/land_ice_segments/delta_time,/gt3r/land_ice_segments/h_li,/gt3r/land_ice_segments/h_li_sigma,/gt3r/land_ice_segments/latitude,/gt3r/land_ice_segments/longitude,/gt3r/land_ice_segments/segment_id,/gt3r/land_ice_segments/sigma_geo_h,/orbit_info/cycle_number,/orbit_info/rgt,/orbit_info/orbit_number', 'request_mode': 'async', 'page_size': 10, 'token': 'E1017B5B-C7B5-7C1C-ABFF-B9A5D16D333F', 'email': 'jessica.scheick@maine.edu'}\n"
     ]
    }
   ],
   "source": [
    "subset_params = {\n",
    "    'short_name': short_name, \n",
    "    'version': latest_version, \n",
    "    'temporal': temporal, \n",
    "    'time': timevar, \n",
    "    'bbox': bbox, \n",
    "    'Coverage': coverage, \n",
    "    'request_mode': request_mode, \n",
    "    'page_size': page_size,  \n",
    "    'token': token, \n",
    "    'email': email, \n",
    "    }\n",
    "print(subset_params)"
   ]
  },
  {
   "cell_type": "markdown",
   "metadata": {},
   "source": [
    "#### We'll request the same data but without any subsetting services applied. Let's create another request parameter dictionary with the `time` and `coverage` service keys removed, and we'll add `agent=NO` instead."
   ]
  },
  {
   "cell_type": "code",
   "execution_count": 50,
   "metadata": {},
   "outputs": [
    {
     "name": "stdout",
     "output_type": "stream",
     "text": [
      "{'short_name': 'ATL06', 'version': '001', 'temporal': '2019-02-22T00:00:00Z,2019-02-28T23:59:59Z', 'bbox': '-64,66,-55,72', 'agent': 'NO', 'include_meta': 'Y', 'request_mode': 'async', 'page_size': 10, 'token': 'E1017B5B-C7B5-7C1C-ABFF-B9A5D16D333F', 'email': 'jessica.scheick@maine.edu'}\n"
     ]
    }
   ],
   "source": [
    "request_params = {\n",
    "    'short_name': short_name, \n",
    "    'version': latest_version, \n",
    "    'temporal': temporal, \n",
    "    'bbox': bbox, #'polygon': polygon, \n",
    "    'agent' : 'NO',\n",
    "    'include_meta' : 'Y',\n",
    "    'request_mode': request_mode, \n",
    "    'page_size': page_size,  \n",
    "    'token': token, \n",
    "    'email': email, \n",
    "    }\n",
    "\n",
    "print(request_params)"
   ]
  },
  {
   "cell_type": "markdown",
   "metadata": {},
   "source": [
    "## Request Data\n",
    "\n",
    "#### Finally, we'll download the data directly to this notebook directory in a new Outputs folder. The progress of each order will be reported.\n",
    "\n",
    "We'll start by creating an output folder if the folder does not already exist."
   ]
  },
  {
   "cell_type": "code",
   "execution_count": 51,
   "metadata": {},
   "outputs": [],
   "source": [
    "path = str(os.getcwd() + '/Outputs')\n",
    "if not os.path.exists(path):\n",
    "    os.mkdir(path)"
   ]
  },
  {
   "cell_type": "markdown",
   "metadata": {},
   "source": [
    "First we'll submit our request without subsetting services:"
   ]
  },
  {
   "cell_type": "code",
   "execution_count": 52,
   "metadata": {},
   "outputs": [
    {
     "name": "stdout",
     "output_type": "stream",
     "text": [
      "Order:  1\n",
      "Request HTTP response:  201\n",
      "Order request URL:  https://n5eil02u.ecs.nsidc.org/egi/request?short_name=ATL06&version=001&temporal=2019-02-22T00%3A00%3A00Z%2C2019-02-28T23%3A59%3A59Z&bbox=-64%2C66%2C-55%2C72&agent=NO&include_meta=Y&request_mode=async&page_size=10&token=E1017B5B-C7B5-7C1C-ABFF-B9A5D16D333F&email=jessica.scheick%40maine.edu&page_num=1\n",
      "Order request response XML content:  b'<?xml version=\"1.0\" encoding=\"UTF-8\" standalone=\"yes\"?>\\n<eesi:agentResponse xsi:schemaLocation=\"http://eosdis.nasa.gov/esi/rsp/e https://newsroom.gsfc.nasa.gov/esi/8.1/schemas/ESIAgentResponseExternal.xsd\" xmlns=\"\" xmlns:iesi=\"http://eosdis.nasa.gov/esi/rsp/i\" xmlns:ssw=\"http://newsroom.gsfc.nasa.gov/esi/rsp/ssw\" xmlns:eesi=\"http://eosdis.nasa.gov/esi/rsp/e\" xmlns:esi=\"http://eosdis.nasa.gov/esi/rsp\" xmlns:xsi=\"http://www.w3.org/2001/XMLSchema-instance\">\\n    <order>\\n        <orderId>5000000385825</orderId>\\n        <Instructions>You may receive an email about your order if you specified an EMAIL address. &lt;br/&gt;&lt;br/&gt;The instructions used to process this order are:  Processing tool=NO. Include metadata and processing history=Y. Bounding Box(es)=-64,66,-55,72. Granule id(s)=SC:ATL06.001:161339893,SC:ATL06.001:161340060,SC:ATL06.001:161339900,SC:ATL06.001:161339897,SC:ATL06.001:161340062,SC:ATL06.001:161339895,SC:ATL06.001:161339742,SC:ATL06.001:161326893,SC:ATL06.001:161326933,SC:ATL06.001:161340037. Email address=jessica.scheick@maine.edu.</Instructions>\\n    </order>\\n    <contactInformation>\\n        <contactName>NSIDC User Services</contactName>\\n        <contactEmail>nsidc@nsidc.org</contactEmail>\\n    </contactInformation>\\n    <processInfo>\\n        <processDuration>PT0.102S</processDuration>\\n        <subagentId>NO</subagentId>\\n    </processInfo>\\n    <requestStatus>\\n        <status>processing</status>\\n        <numberProcessed>0</numberProcessed>\\n        <totalNumber>10</totalNumber>\\n    </requestStatus>\\n</eesi:agentResponse>\\n'\n",
      "order ID:  5000000385825\n",
      "status URL:  https://n5eil02u.ecs.nsidc.org/egi/request/5000000385825\n",
      "HTTP response from order response URL:  201\n",
      "Data request  1  is submitting...\n",
      "Initial request status is  processing\n",
      "Status is not complete. Trying again.\n",
      "Retry request status is:  complete\n",
      "Zip download URL:  https://n5eil02u.ecs.nsidc.org/esir/5000000385825.zip\n",
      "Beginning download of zipped output...\n",
      "Data request 1 is complete.\n"
     ]
    }
   ],
   "source": [
    "# Request data service for each page number, and unzip outputs\n",
    "\n",
    "for i in range(page_num):\n",
    "    page_val = i + 1\n",
    "    print('Order: ', page_val)\n",
    "    request_params.update( {'page_num': page_val} )\n",
    "    \n",
    "# For all requests other than spatial file upload, use get function\n",
    "    request = session.get(base_url, params=request_params)\n",
    "    \n",
    "    print('Request HTTP response: ', request.status_code)\n",
    "\n",
    "# Raise bad request: Loop will stop for bad response code.\n",
    "    request.raise_for_status()\n",
    "    print('Order request URL: ', request.url)\n",
    "    esir_root = ET.fromstring(request.content)\n",
    "    print('Order request response XML content: ', request.content)\n",
    "\n",
    "#Look up order ID\n",
    "    orderlist = []   \n",
    "    for order in esir_root.findall(\"./order/\"):\n",
    "        orderlist.append(order.text)\n",
    "    orderID = orderlist[0]\n",
    "    print('order ID: ', orderID)\n",
    "\n",
    "#Create status URL\n",
    "    statusURL = base_url + '/' + orderID\n",
    "    print('status URL: ', statusURL)\n",
    "\n",
    "#Find order status\n",
    "    request_response = session.get(statusURL)    \n",
    "    print('HTTP response from order response URL: ', request_response.status_code)\n",
    "    \n",
    "# Raise bad request: Loop will stop for bad response code.\n",
    "    request_response.raise_for_status()\n",
    "    request_root = ET.fromstring(request_response.content)\n",
    "    statuslist = []\n",
    "    for status in request_root.findall(\"./requestStatus/\"):\n",
    "        statuslist.append(status.text)\n",
    "    status = statuslist[0]\n",
    "    print('Data request ', page_val, ' is submitting...')\n",
    "    print('Initial request status is ', status)\n",
    "\n",
    "#Continue loop while request is still processing\n",
    "    while status == 'pending' or status == 'processing': \n",
    "        print('Status is not complete. Trying again.')\n",
    "        time.sleep(10)\n",
    "        loop_response = session.get(statusURL)\n",
    "\n",
    "# Raise bad request: Loop will stop for bad response code.\n",
    "        loop_response.raise_for_status()\n",
    "        loop_root = ET.fromstring(loop_response.content)\n",
    "\n",
    "#find status\n",
    "        statuslist = []\n",
    "        for status in loop_root.findall(\"./requestStatus/\"):\n",
    "            statuslist.append(status.text)\n",
    "        status = statuslist[0]\n",
    "        print('Retry request status is: ', status)\n",
    "        if status == 'pending' or status == 'processing':\n",
    "            continue\n",
    "\n",
    "#Order can either complete, complete_with_errors, or fail:\n",
    "# Provide complete_with_errors error message:\n",
    "    if status == 'complete_with_errors' or status == 'failed':\n",
    "        messagelist = []\n",
    "        for message in loop_root.findall(\"./processInfo/\"):\n",
    "            messagelist.append(message.text)\n",
    "        print('error messages:')\n",
    "        pprint.pprint(messagelist)\n",
    "\n",
    "# Download zipped order if status is complete or complete_with_errors\n",
    "    if status == 'complete' or status == 'complete_with_errors':\n",
    "        downloadURL = 'https://n5eil02u.ecs.nsidc.org/esir/' + orderID + '.zip'\n",
    "        print('Zip download URL: ', downloadURL)\n",
    "        print('Beginning download of zipped output...')\n",
    "        zip_response = session.get(downloadURL)\n",
    "        # Raise bad request: Loop will stop for bad response code.\n",
    "        zip_response.raise_for_status()\n",
    "        with zipfile.ZipFile(io.BytesIO(zip_response.content)) as z:\n",
    "            z.extractall(path)\n",
    "        print('Data request', page_val, 'is complete.')\n",
    "    else: print('Request failed.')\n"
   ]
  },
  {
   "cell_type": "markdown",
   "metadata": {},
   "source": [
    "Let's run our request loop again, this time with subsetting services applied. We will post the KML file directly to the API:"
   ]
  },
  {
   "cell_type": "code",
   "execution_count": 54,
   "metadata": {},
   "outputs": [
    {
     "name": "stdout",
     "output_type": "stream",
     "text": [
      "Order:  1\n",
      "Request HTTP response:  201\n",
      "Order request URL:  https://n5eil02u.ecs.nsidc.org/egi/request?short_name=ATL06&version=001&temporal=2019-02-22T00%3A00%3A00Z%2C2019-02-28T23%3A59%3A59Z&bbox=-64%2C66%2C-55%2C72&agent=NO&include_meta=Y&request_mode=async&page_size=10&token=E1017B5B-C7B5-7C1C-ABFF-B9A5D16D333F&email=jessica.scheick%40maine.edu&page_num=1\n",
      "Order request response XML content:  b'<?xml version=\"1.0\" encoding=\"UTF-8\" standalone=\"yes\"?>\\n<eesi:agentResponse xsi:schemaLocation=\"http://eosdis.nasa.gov/esi/rsp/e https://newsroom.gsfc.nasa.gov/esi/8.1/schemas/ESIAgentResponseExternal.xsd\" xmlns=\"\" xmlns:iesi=\"http://eosdis.nasa.gov/esi/rsp/i\" xmlns:ssw=\"http://newsroom.gsfc.nasa.gov/esi/rsp/ssw\" xmlns:eesi=\"http://eosdis.nasa.gov/esi/rsp/e\" xmlns:esi=\"http://eosdis.nasa.gov/esi/rsp\" xmlns:xsi=\"http://www.w3.org/2001/XMLSchema-instance\">\\n    <order>\\n        <orderId>5000000385831</orderId>\\n        <Instructions>You may receive an email about your order if you specified an EMAIL address. &lt;br/&gt;&lt;br/&gt;The instructions used to process this order are:  Processing tool=NO. Include metadata and processing history=Y. Bounding Box(es)=-64,66,-55,72. Granule id(s)=SC:ATL06.001:161339893,SC:ATL06.001:161340060,SC:ATL06.001:161339900,SC:ATL06.001:161339897,SC:ATL06.001:161340062,SC:ATL06.001:161339895,SC:ATL06.001:161339742,SC:ATL06.001:161326893,SC:ATL06.001:161326933,SC:ATL06.001:161340037. Email address=jessica.scheick@maine.edu.</Instructions>\\n    </order>\\n    <contactInformation>\\n        <contactName>NSIDC User Services</contactName>\\n        <contactEmail>nsidc@nsidc.org</contactEmail>\\n    </contactInformation>\\n    <processInfo>\\n        <processDuration>PT0.114S</processDuration>\\n        <subagentId>NO</subagentId>\\n    </processInfo>\\n    <requestStatus>\\n        <status>processing</status>\\n        <numberProcessed>0</numberProcessed>\\n        <totalNumber>10</totalNumber>\\n    </requestStatus>\\n</eesi:agentResponse>\\n'\n",
      "order ID:  5000000385831\n",
      "status URL:  https://n5eil02u.ecs.nsidc.org/egi/request/5000000385831\n",
      "HTTP response from order response URL:  201\n",
      "Data request  1  is submitting...\n",
      "Initial request status is  processing\n",
      "Status is not complete. Trying again.\n",
      "Retry request status is:  complete\n",
      "Zip download URL:  https://n5eil02u.ecs.nsidc.org/esir/5000000385831.zip\n",
      "Beginning download of zipped output...\n",
      "Data request 1 is complete.\n"
     ]
    }
   ],
   "source": [
    "# Request data service for each page number, and unzip outputs\n",
    "\n",
    "for i in range(page_num):\n",
    "    page_val = i + 1\n",
    "    print('Order: ', page_val)\n",
    "    subset_params.update( {'page_num': page_val} )\n",
    "    \n",
    "# Post polygon to API endpoint for polygon subsetting to subset based on original, non-simplified KML file\n",
    "\n",
    "#     shape_post = {'shapefile': open(kml_filepath, 'rb')}\n",
    "#     request = session.post(base_url, params=subset_params, files=shape_post) \n",
    "    \n",
    "# FOR ALL OTHER REQUESTS THAT DO NOT UTILIZED AN UPLOADED POLYGON FILE, USE A GET REQUEST INSTEAD OF POST:\n",
    "    request = session.get(base_url, params=request_params)\n",
    "    \n",
    "    print('Request HTTP response: ', request.status_code)\n",
    "\n",
    "# Raise bad request: Loop will stop for bad response code.\n",
    "    request.raise_for_status()\n",
    "    print('Order request URL: ', request.url)\n",
    "    esir_root = ET.fromstring(request.content)\n",
    "    print('Order request response XML content: ', request.content)\n",
    "\n",
    "# Look up order ID\n",
    "    orderlist = []   \n",
    "    for order in esir_root.findall(\"./order/\"):\n",
    "        orderlist.append(order.text)\n",
    "    orderID = orderlist[0]\n",
    "    print('order ID: ', orderID)\n",
    "\n",
    "# Create status URL\n",
    "    statusURL = base_url + '/' + orderID\n",
    "    print('status URL: ', statusURL)\n",
    "\n",
    "# Find order status\n",
    "    request_response = session.get(statusURL)    \n",
    "    print('HTTP response from order response URL: ', request_response.status_code)\n",
    "    \n",
    "# Raise bad request: Loop will stop for bad response code.\n",
    "    request_response.raise_for_status()\n",
    "    request_root = ET.fromstring(request_response.content)\n",
    "    statuslist = []\n",
    "    for status in request_root.findall(\"./requestStatus/\"):\n",
    "        statuslist.append(status.text)\n",
    "    status = statuslist[0]\n",
    "    print('Data request ', page_val, ' is submitting...')\n",
    "    print('Initial request status is ', status)\n",
    "\n",
    "# Continue to loop while request is still processing\n",
    "    while status == 'pending' or status == 'processing': \n",
    "        print('Status is not complete. Trying again.')\n",
    "        time.sleep(10)\n",
    "        loop_response = session.get(statusURL)\n",
    "\n",
    "# Raise bad request: Loop will stop for bad response code.\n",
    "        loop_response.raise_for_status()\n",
    "        loop_root = ET.fromstring(loop_response.content)\n",
    "\n",
    "# Find status\n",
    "        statuslist = []\n",
    "        for status in loop_root.findall(\"./requestStatus/\"):\n",
    "            statuslist.append(status.text)\n",
    "        status = statuslist[0]\n",
    "        print('Retry request status is: ', status)\n",
    "        if status == 'pending' or status == 'processing':\n",
    "            continue\n",
    "\n",
    "# Order can either complete, complete_with_errors, or fail:\n",
    "# Provide complete_with_errors error message:\n",
    "    if status == 'complete_with_errors' or status == 'failed':\n",
    "        messagelist = []\n",
    "        for message in loop_root.findall(\"./processInfo/\"):\n",
    "            messagelist.append(message.text)\n",
    "        print('error messages:')\n",
    "        pprint.pprint(messagelist)\n",
    "\n",
    "# Download zipped order if status is complete or complete_with_errors\n",
    "    if status == 'complete' or status == 'complete_with_errors':\n",
    "        downloadURL = 'https://n5eil02u.ecs.nsidc.org/esir/' + orderID + '.zip'\n",
    "        print('Zip download URL: ', downloadURL)\n",
    "        print('Beginning download of zipped output...')\n",
    "        zip_response = session.get(downloadURL)\n",
    "        # Raise bad request: Loop will stop for bad response code.\n",
    "        zip_response.raise_for_status()\n",
    "        with zipfile.ZipFile(io.BytesIO(zip_response.content)) as z:\n",
    "            z.extractall(path)\n",
    "        print('Data request', page_val, 'is complete.')\n",
    "    else: print('Request failed.')\n"
   ]
  },
  {
   "cell_type": "markdown",
   "metadata": {},
   "source": [
    "#### Why did we get an error? \n",
    "\n",
    "Errors can occur when our search filter overestimates the extent of the data contained within the granule. CMR uses orbit metadata to determine the extent of the file, including the following parameters:\n",
    "\n",
    "Collection-level:\n",
    "* `SwathWidth`\n",
    "* `Period`\n",
    "* `InclinationAngle`\n",
    "* `NumberOfOrbits` \n",
    "* `StartCircularLatitude` \n",
    "\n",
    "Granule level: \n",
    "* `AscendingCrossing`\n",
    "* `StartLatitude`\n",
    "* `StartDirection`\n",
    "* `EndLatitude`\n",
    "* `EndDirection` \n",
    "\n",
    "However, the values themselves are not inspected during our search. This can be a relatively common error for ICESat-2 search and access because of the limitations of the metadata, but it only means that more data were returned in the search results as a \"false positive\" compared to what the subsetter found when cropping the data values. "
   ]
  },
  {
   "cell_type": "markdown",
   "metadata": {},
   "source": [
    "#### Clean up the Output folder by removing individual order folders:"
   ]
  },
  {
   "cell_type": "code",
   "execution_count": null,
   "metadata": {},
   "outputs": [],
   "source": [
    "#Clean up Outputs folder by removing individual granule folders \n",
    "\n",
    "for root, dirs, files in os.walk(path, topdown=False):\n",
    "    for file in files:\n",
    "        try:\n",
    "            shutil.move(os.path.join(root, file), path)\n",
    "        except OSError:\n",
    "            pass\n",
    "        \n",
    "for root, dirs, files in os.walk(path):\n",
    "    for name in dirs:\n",
    "        os.rmdir(os.path.join(root, name))"
   ]
  },
  {
   "cell_type": "code",
   "execution_count": null,
   "metadata": {},
   "outputs": [],
   "source": [
    "#List files\n",
    "sorted(os.listdir(path))"
   ]
  },
  {
   "cell_type": "markdown",
   "metadata": {},
   "source": [
    "If you're interested in the streaming request method, an example loop is below: "
   ]
  },
  {
   "cell_type": "code",
   "execution_count": null,
   "metadata": {},
   "outputs": [],
   "source": [
    "# Set page size to 1 to improve performance\n",
    "page_size = 1\n",
    "request_params.update( {'page_size': page_size})\n",
    "\n",
    "# No metadata to only return a single output\n",
    "request_params.update( {'include_meta': 'N'})\n",
    "\n",
    "#Determine number of pages basd on page_size and total granules. Loop requests by this value\n",
    "page_num = math.ceil(len(granules)/page_size)\n",
    "print(page_num)\n",
    "\n",
    "#Set request mode. \n",
    "request_params.update( {'request_mode': 'stream'})\n",
    "\n",
    "print(request_params)\n",
    "\n",
    "os.chdir(path)\n",
    "\n",
    "for i in range(page_num):\n",
    "    page_val = i + 1\n",
    "    print('Order: ', page_val)\n",
    "    request_params.update( {'page_num': page_val})\n",
    "    request = session.get(base_url, params=request_params)\n",
    "    print('HTTP response from order response URL: ', request.status_code)\n",
    "    request.raise_for_status()\n",
    "    d = request.headers['content-disposition']\n",
    "    fname = re.findall('filename=(.+)', d)\n",
    "    open(eval(fname[0]), 'wb').write(request.content)\n",
    "    print('Data request', page_val, 'is complete.')"
   ]
  },
  {
   "cell_type": "code",
   "execution_count": null,
   "metadata": {},
   "outputs": [],
   "source": []
  },
  {
   "cell_type": "code",
   "execution_count": null,
   "metadata": {},
   "outputs": [],
   "source": []
  },
  {
   "cell_type": "markdown",
   "metadata": {},
   "source": [
    "### Before we request the data and download the outputs, let's explore some simple comparisons of the data from s3 that we've already requested."
   ]
  },
  {
   "cell_type": "code",
   "execution_count": null,
   "metadata": {},
   "outputs": [],
   "source": [
    "# Define paths for output folders\n",
    "\n",
    "opath = '/home/jovyan/data-access/data-access-outputs'\n",
    "sopath = '/home/jovyan/data-access/data-access-subsetted-outputs'\n",
    "\n",
    "# Choose the same native/subsetted file to compare\n",
    "\n",
    "native_file = opath + '/ATL06_20190222031203_08500210_001_01.h5'\n",
    "processed_file = sopath + '/processed_ATL06_20190222031203_08500210_001_01.h5'"
   ]
  },
  {
   "cell_type": "markdown",
   "metadata": {},
   "source": [
    "Compare file sizes:"
   ]
  },
  {
   "cell_type": "code",
   "execution_count": null,
   "metadata": {},
   "outputs": [],
   "source": [
    "os.path.getsize(native_file)"
   ]
  },
  {
   "cell_type": "code",
   "execution_count": null,
   "metadata": {},
   "outputs": [],
   "source": [
    "os.path.getsize(processed_file)"
   ]
  },
  {
   "cell_type": "markdown",
   "metadata": {},
   "source": [
    "Read the files using h5py and compare the HDF5 groups and datasets:"
   ]
  },
  {
   "cell_type": "code",
   "execution_count": null,
   "metadata": {},
   "outputs": [],
   "source": [
    "# Read files using h5py package\n",
    "\n",
    "native = h5py.File(native_file, 'r')\n",
    "processed = h5py.File(processed_file, 'r')\n"
   ]
  },
  {
   "cell_type": "markdown",
   "metadata": {},
   "source": [
    "Native file groups:"
   ]
  },
  {
   "cell_type": "code",
   "execution_count": null,
   "metadata": {},
   "outputs": [],
   "source": [
    "printGroups = True\n",
    "groups = list(native.keys())\n",
    "for g in groups:\n",
    "    group = native[g]\n",
    "    if printGroups:\n",
    "        print('---')\n",
    "        print('Group: {}'.format(g))\n",
    "        print('---')\n",
    "        for d in group.keys():\n",
    "            print(group[d])"
   ]
  },
  {
   "cell_type": "markdown",
   "metadata": {},
   "source": [
    "Subsetted file groups:"
   ]
  },
  {
   "cell_type": "code",
   "execution_count": null,
   "metadata": {},
   "outputs": [],
   "source": [
    "printGroups = True\n",
    "groups = list(processed.keys())\n",
    "for g in groups:\n",
    "    group = processed[g]\n",
    "    if printGroups:\n",
    "        print('---')\n",
    "        print('Group: {}'.format(g))\n",
    "        print('---')\n",
    "        for d in group.keys():\n",
    "            print(group[d])\n"
   ]
  },
  {
   "cell_type": "markdown",
   "metadata": {},
   "source": [
    "Compare geolocation range from the /gt1l/land_ice_segments group:"
   ]
  },
  {
   "cell_type": "code",
   "execution_count": null,
   "metadata": {},
   "outputs": [],
   "source": [
    "with h5py.File(native_file,'r') as native:\n",
    "    native_groups = list(native.keys())\n",
    "    n_hvar = native['/gt1l/land_ice_segments/h_li']\n",
    "    n_h = n_hvar[:]\n",
    "    n_latvar = native['/gt1l/land_ice_segments/latitude']\n",
    "    n_latitude = n_latvar[:]\n",
    "    n_lonvar = native['/gt1l/land_ice_segments/longitude']\n",
    "    n_longitude = n_lonvar[:]\n",
    "\n",
    "with h5py.File(processed_file,'r') as processed:\n",
    "    processed_groups = list(processed.keys())\n",
    "    p_hvar = processed['/gt1l/land_ice_segments/h_li']\n",
    "    p_h = p_hvar[:]\n",
    "    p_latvar = processed['/gt1l/land_ice_segments/latitude']\n",
    "    p_latitude = p_latvar[:]\n",
    "    p_lonvar = processed['/gt1l/land_ice_segments/longitude']\n",
    "    p_longitude = p_lonvar[:]\n",
    "    \n",
    "print('array size of native file height variable:')\n",
    "print(len(n_h))\n",
    "print('array size of subsetted height variable:')\n",
    "print(len(p_h))\n",
    "\n",
    "print('native file latitude range:')\n",
    "print(min(n_latitude), max(n_latitude))\n",
    "print('native file longitude range:')\n",
    "print(min(n_longitude), max(n_longitude))\n",
    "\n",
    "print('subsetted file latitude range:')\n",
    "print(min(p_latitude), max(p_latitude))\n",
    "print('subsetted file longitude range:')\n",
    "print(min(p_longitude), max(p_longitude))"
   ]
  }
 ],
 "metadata": {
  "kernelspec": {
   "display_name": "Python 3",
   "language": "python",
   "name": "python3"
  },
  "language_info": {
   "codemirror_mode": {
    "name": "ipython",
    "version": 3
   },
   "file_extension": ".py",
   "mimetype": "text/x-python",
   "name": "python",
   "nbconvert_exporter": "python",
   "pygments_lexer": "ipython3",
   "version": "3.6.7"
  }
 },
 "nbformat": 4,
 "nbformat_minor": 2
}
